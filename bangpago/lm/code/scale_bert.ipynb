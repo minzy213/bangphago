{
 "cells": [
  {
   "cell_type": "markdown",
   "metadata": {},
   "source": [
    "# 라이브러리"
   ]
  },
  {
   "cell_type": "code",
   "execution_count": 1,
   "metadata": {},
   "outputs": [
    {
     "name": "stderr",
     "output_type": "stream",
     "text": [
      "/opt/homebrew/anaconda3/envs/bert_electra/lib/python3.9/site-packages/tqdm/auto.py:21: TqdmWarning: IProgress not found. Please update jupyter and ipywidgets. See https://ipywidgets.readthedocs.io/en/stable/user_install.html\n",
      "  from .autonotebook import tqdm as notebook_tqdm\n"
     ]
    }
   ],
   "source": [
    "from transformers import ElectraModel, ElectraTokenizer\n",
    "from transformers import ElectraForSequenceClassification\n",
    "from transformers import AutoTokenizer, AutoModelForSemanticSegmentation, TrainingArguments, Trainer\n",
    "\n",
    "import torch\n",
    "\n",
    "import pandas as pd\n",
    "from konlpy.tag import Mecab\n",
    "import re\n",
    "from tqdm import tqdm, tqdm_notebook\n",
    "\n",
    "from sklearn.metrics import precision_recall_fscore_support, accuracy_score, classification_report"
   ]
  },
  {
   "cell_type": "markdown",
   "metadata": {},
   "source": [
    "# 1차 모델"
   ]
  },
  {
   "cell_type": "code",
   "execution_count": 3,
   "metadata": {},
   "outputs": [
    {
     "name": "stderr",
     "output_type": "stream",
     "text": [
      "/var/folders/t4/314qsssd1p718wry9j0bh9000000gn/T/ipykernel_63397/949624988.py:10: SettingWithCopyWarning: \n",
      "A value is trying to be set on a copy of a slice from a DataFrame.\n",
      "Try using .loc[row_indexer,col_indexer] = value instead\n",
      "\n",
      "See the caveats in the documentation: https://pandas.pydata.org/pandas-docs/stable/user_guide/indexing.html#returning-a-view-versus-a-copy\n",
      "  scale_data['content_id'] = scale_data['content_id'].apply(lambda x: x.split(',')[0] if len(str(x)) > 6 else x)\n"
     ]
    },
    {
     "name": "stdout",
     "output_type": "stream",
     "text": [
      "scale\n",
      " 0    4675\n",
      " 1     200\n",
      "-1     148\n",
      "Name: count, dtype: int64\n",
      "\n",
      "\n",
      "train_data scale\n",
      " 0    3739\n",
      " 1     159\n",
      "-1     120\n",
      "Name: count, dtype: int64\n",
      "\n",
      " test_data scale\n",
      " 0    940\n",
      "-1     36\n",
      " 1     29\n",
      "Name: count, dtype: int64\n",
      "\n",
      "\n",
      "중복 제거 전 학습 데이터셋: 4018\n",
      "중복 제거 전 테스트 데이터셋: 1005\n",
      "\n",
      "\n",
      "\n",
      "\n",
      "중복 제거 후 학습 데이터셋: 4003\n",
      "중복 제거 후 테스트 데이터셋: 1001\n"
     ]
    }
   ],
   "source": [
    "# labeling 된 데이터 불러오기\n",
    "survey = pd.read_csv(\"./_data/survey.csv\", index_col=0)\n",
    "survey.fillna(0, inplace=True)\n",
    "survey = survey.reset_index()\n",
    "\n",
    "# 데이터 중에서 작업을 하고자 하는 라벨만 가져오기\n",
    "scale_data = survey[['content_id', 'scale']]\n",
    "\n",
    "# content_id 중에서 댓글이 같이 추가된 데이터 정리\n",
    "scale_data['content_id'] = scale_data['content_id'].apply(lambda x: x.split(',')[0] if len(str(x)) > 6 else x)\n",
    "\n",
    "# content_id 가 0인 데이터 제외 -> content_id 모두 int type 으로 변경 (추후 Merge 를 위함)\n",
    "scale_data = scale_data[scale_data['content_id'] != 0].reset_index().drop(columns=['index'])\n",
    "scale_data['content_id'] = scale_data['content_id'].astype(int)\n",
    "\n",
    "# 전체 review data 불러오기\n",
    "review_all = pd.read_csv(\"./_data/reviews.csv\", index_col=0)\n",
    "\n",
    "# 전체 review data 중에서 survey data에 있는 댓글만 가져오기\n",
    "survey_content = review_all.loc[review_all['id'].isin(scale_data['content_id'])][['id', 'content']]\n",
    "# merge 를 위해서 id 컬럼명 통일하기\n",
    "survey_content.columns=['content_id', 'content']\n",
    "\n",
    "# 통일된 content_id 를 기반으로 데이터 merge\n",
    "scale_data = pd.merge(scale_data, survey_content)\n",
    "\n",
    "# 추후 원활한 계산을 위해서 숫자 부분은 모두 int 로 바꿔줌\n",
    "scale_data['scale'] = scale_data['scale'].astype(int)\n",
    "\n",
    "# 최소한의 전처리\n",
    "def cleaned_content(text):\n",
    "    d = re.sub('\\n', '. ', text) # 줄바꿈 > .\n",
    "    d = re.sub('[^가-힣0-9a-zA-Z ]{2,}', \".\", d) # 특수문자 두개 이상인거 .으로 변경\n",
    "    return d\n",
    "\n",
    "scale_data['content'] = scale_data['content'].apply(cleaned_content)\n",
    "\n",
    "final_df = scale_data[['content', 'scale']]\n",
    "\n",
    "# 라벨별 개수 확인\n",
    "print(final_df['scale'].value_counts())\n",
    "print('\\n')\n",
    "train_data = final_df.sample(frac=0.8, random_state=42).reset_index().drop(columns='index')\n",
    "print('train_data', train_data['scale'].value_counts())\n",
    "test_data = final_df.drop(train_data.index).reset_index().drop(columns='index')\n",
    "print('\\n', 'test_data', test_data['scale'].value_counts())\n",
    "print('\\n')\n",
    "# 중복 데이터 제거(데이터 분리 후 중복이 생길 수 있어서 데이터 분리 후 중복 데이터 처리 진행)\n",
    "\n",
    "# 데이터셋 개수 확인\n",
    "print('중복 제거 전 학습 데이터셋: {}'.format(len(train_data)))\n",
    "print('중복 제거 전 테스트 데이터셋: {}'.format(len(test_data)))\n",
    "print('\\n')\n",
    "# 중복 데이터 제거\n",
    "train_data.drop_duplicates(subset=['content'], inplace=True)\n",
    "test_data.drop_duplicates(subset=['content'], inplace=True)\n",
    "print('\\n')\n",
    "# 데이터셋 개수 확인\n",
    "print('중복 제거 후 학습 데이터셋: {}'.format(len(train_data)))\n",
    "print('중복 제거 후 테스트 데이터셋: {}'.format(len(test_data)))"
   ]
  },
  {
   "cell_type": "code",
   "execution_count": null,
   "metadata": {},
   "outputs": [],
   "source": [
    "# 토큰에 추가할 단어 -> '방탈출'이라는 도메인 지시기에 근거한 용어, 분리되어서는 안 되기 때문에 별도로 추가 작업 진행\n",
    "addword = ['공테', '약공테', '감테', '창공', '갑툭튀', '삐딱', '삑', '꽝', '삑딱쾅', '삑딱쾅', '삑딱', '쫄', '극쫄',\n",
    "            '극극쫄', '쫄팟', '쫄탱', '쫄보', '극', '약탱', '탱쫄', '극극극', '뉴비', '하드캐리', '극혐', '피지컬',\n",
    "            '어거지', '뚝배기', '뚝문', '셀뚝', '억까', '트롤링', '트롤짓', '흙길', '풀길', '꽃길', '풀꽃', '꽃다발',\n",
    "            '꽃밭', '웰메이드', '인생테마', '머글', '방린이', '방유아', '방세포', '방태아', '방탈러', '과몰입러', '옵저버',\n",
    "            '리트', '연방', '혼방', '혼불', '워킹', '워크인', '장치방', '문제방', '직렬', '병렬', '육각형', '볼드', '볼드충', '에바',\n",
    "            '가이드', '조도', '조명', '밝기', '어두움', '인테리어', '비주얼', '소품', '디자인',\n",
    "            '스토리','기승전결','흐름도','결말','서사','이야기','유니버스','전개','시나리오', '개연성', '명료',\n",
    "            '창의성','창의','신선','독특','참신','발상', '연출','짜임','사실감','구현','현실감','현장감', '활동성','활동력','활동량','움직임','반경',\n",
    "            '규모','스케일','볼륨','사이즈','크기','넓이','공간감','분량', '공포','공테','무서움','담력','스릴러',\n",
    "            '문제', '장치', '기계', '센서', '기구', '불친절',\n",
    "            '메르헨', '커튼콜', '카르텔', '소우주', '풀문', '도고', '플래시', '나우히어', '나비효과', '몽중', '가이드라인',\n",
    "            '연출력', '짜임새', '공포도', '공포감', '공포심', '약공테', '문제퀄']\n",
    "\n",
    "# 사전학습된 bert 모델 사용\n",
    "# num_labels 클래스에 대해서 훈련을 하기 위해서 num_labels=3 할당함, problem_type=\"multi_label_classification\" 를 통해서 모델이 다중 레이블 분류에 해당함을 명시\n",
    "model = ElectraForSequenceClassification.from_pretrained(\"monologg/koelectra-small-v3-discriminator\", num_labels=3, problem_type=\"multi_label_classification\")\n",
    "tokenizer = ElectraTokenizer.from_pretrained(\"monologg/koelectra-base-v3-discriminator\")\n",
    "\n",
    "# token에 새로운 단어 추가 \n",
    "tokenizer.add_tokens(addword)\n",
    "# token에 단어 추가후 기존 모델의 임베딩 레이어에 추가한 단어에 대한 임베딩 벡터가 없을 수 있기 때문\n",
    "# 아래 코드를 통해서 토큰의 개수가 변했음을 모델에 알리고 모델의 임베딩 레이어를 조정하여 새로운 토큰을 수용할 수 있게 함\n",
    "model.resize_token_embeddings(len(tokenizer))"
   ]
  },
  {
   "cell_type": "code",
   "execution_count": null,
   "metadata": {},
   "outputs": [],
   "source": [
    "# train content 토큰화\n",
    "tokenized_train_sentences = tokenizer(\n",
    "    list(train_data['content']),\n",
    "    return_tensors=\"pt\",\n",
    "    max_length=128,\n",
    "    padding=True,\n",
    "    truncation=True,\n",
    "    add_special_tokens=True\n",
    ")\n",
    "\n",
    "# test content 토큰화\n",
    "tokenized_test_sentences = tokenizer(\n",
    "    list(test_data['content']),\n",
    "    return_tensors=\"pt\",\n",
    "    max_length=128,\n",
    "    padding=True,\n",
    "    truncation=True,\n",
    "    add_special_tokens=True\n",
    ")\n",
    "\n",
    "# 분류 모델에 넣기 위해서 1차원으로 구성된 세 개의 클래스를 2차원으로 재구성 후 label 로 투입\n",
    "# -1(부정)=0, 0(중립)=1, 1(긍정)=2\n",
    "\n",
    "train_label = []\n",
    "for label in train_data[\"scale\"].values:\n",
    "    if label == -1:\n",
    "        train_label.append([1., 0., 0.])\n",
    "    elif label == 0:\n",
    "        train_label.append([0., 1., 0.])\n",
    "    elif label == 1:\n",
    "        train_label.append([0., 0., 1.])\n",
    "\n",
    "test_label = []\n",
    "for label in test_data['scale'].values:\n",
    "    if label == 0:\n",
    "        test_label.append([0., 1., 0.])\n",
    "    elif label == -1:\n",
    "        test_label.append([1., 0., 0.])\n",
    "    elif label == 1:\n",
    "        test_label.append([0., 0., 1.])\n",
    "\n",
    "# model 에 넣기 위한 dataset 생성 class\n",
    "class CurseDataset(torch.utils.data.Dataset):\n",
    "    def __init__(self, encodings, labels):\n",
    "        self.encodings = encodings\n",
    "        self.labels = labels\n",
    "    \n",
    "    def __getitem__(self, idx):\n",
    "        item = {key: torch.tensor(val[idx]) for key, val in self.encodings.items()}\n",
    "        item[\"labels\"] = torch.tensor(self.labels[idx])\n",
    "        return item\n",
    "    \n",
    "    def __len__(self):\n",
    "        return len(self.labels)\n",
    "        \n",
    "# bert 모델에 데이터가 들어갈 수 있게 만들어 둔 class를 활용하여 train, test dataset 생성\n",
    "train_dataset = CurseDataset(tokenized_train_sentences, train_label)\n",
    "test_dataset = CurseDataset(tokenized_test_sentences, test_label)\n",
    "\n",
    "# hugging face 의 trasformers 라이브러리를 사용하여 모델 훈련시킬 때 사용되는 객체 설정 부분\n",
    "training_args = TrainingArguments(\n",
    "    output_dir = './scale_model/check_point/try_1',    # 모델과 훈련 중 생성되는 파일이 저장될 디렉토리 경로\n",
    "    num_train_epochs = 10,              # 훈련 epoch 수\n",
    "    per_device_train_batch_size = 16,    # 장치에 할당된 훈련 배치 크기\n",
    "    per_device_eval_batch_size = 64,    # 장치에 할당된 평가 배치 크기, 모델을 평가할 때 사용되는 배치 크기\n",
    "    logging_dir = './logs',             # 훈련 중 로그 파일이 저장될 디렉토리\n",
    "    logging_steps = 500,                # 로그 출력 빈도, 500 step에 한 번씩 출력 예정\n",
    "    save_total_limit = 2,               # 체크포인트 파일 저장 제한 수\n",
    ")\n",
    "\n",
    "# hugging face 의 trasformers 라이브러리를 사용하여 모델 훈련하고 관리하는 객체 설정 부분\n",
    "trainer = Trainer(\n",
    "    model=model,\n",
    "    args=training_args,\n",
    "    train_dataset=train_dataset,\n",
    "    eval_dataset=test_dataset,\n",
    ")"
   ]
  },
  {
   "cell_type": "code",
   "execution_count": null,
   "metadata": {},
   "outputs": [],
   "source": [
    "# train 진행\n",
    "trainer.train() "
   ]
  },
  {
   "cell_type": "code",
   "execution_count": null,
   "metadata": {},
   "outputs": [],
   "source": [
    "trainer.save_model(\"./scale_model/try_1/scale_model1\")\n",
    "tokenizer.save_pretrained(\"./scale_model/try_1/scale_tokenizer1\")"
   ]
  },
  {
   "cell_type": "code",
   "execution_count": 4,
   "metadata": {},
   "outputs": [
    {
     "name": "stderr",
     "output_type": "stream",
     "text": [
      "Special tokens have been added in the vocabulary, make sure the associated word embeddings are fine-tuned or trained.\n"
     ]
    }
   ],
   "source": [
    "# 저장된 모델과 토크나이저를 불러오기\n",
    "\n",
    "model_path = \"./scale_model/try_1/scale_model1\"\n",
    "tokenizer_path = \"./scale_model/try_1/scale_tokenizer1\"\n",
    "\n",
    "model = ElectraForSequenceClassification.from_pretrained(model_path)\n",
    "tokenizer = ElectraTokenizer.from_pretrained(tokenizer_path)"
   ]
  },
  {
   "cell_type": "code",
   "execution_count": 5,
   "metadata": {},
   "outputs": [
    {
     "name": "stderr",
     "output_type": "stream",
     "text": [
      "100%|██████████| 1001/1001 [00:11<00:00, 85.37it/s]\n"
     ]
    },
    {
     "data": {
      "text/html": [
       "<div>\n",
       "<style scoped>\n",
       "    .dataframe tbody tr th:only-of-type {\n",
       "        vertical-align: middle;\n",
       "    }\n",
       "\n",
       "    .dataframe tbody tr th {\n",
       "        vertical-align: top;\n",
       "    }\n",
       "\n",
       "    .dataframe thead th {\n",
       "        text-align: right;\n",
       "    }\n",
       "</style>\n",
       "<table border=\"1\" class=\"dataframe\">\n",
       "  <thead>\n",
       "    <tr style=\"text-align: right;\">\n",
       "      <th></th>\n",
       "      <th>content</th>\n",
       "      <th>scale</th>\n",
       "      <th>pred</th>\n",
       "    </tr>\n",
       "  </thead>\n",
       "  <tbody>\n",
       "    <tr>\n",
       "      <th>0</th>\n",
       "      <td>#1415_20221128_3인. 흐음.잘 열어보지 않으면</td>\n",
       "      <td>0</td>\n",
       "      <td>0</td>\n",
       "    </tr>\n",
       "    <tr>\n",
       "      <th>1</th>\n",
       "      <td>난.바보야.</td>\n",
       "      <td>0</td>\n",
       "      <td>0</td>\n",
       "    </tr>\n",
       "    <tr>\n",
       "      <th>2</th>\n",
       "      <td>들어가자마자 커피향이 씨게 낫다 좋앗다 하지만 인테리어는 그냥그랫다. 풀정도 되는듯.</td>\n",
       "      <td>0</td>\n",
       "      <td>0</td>\n",
       "    </tr>\n",
       "    <tr>\n",
       "      <th>3</th>\n",
       "      <td>3인. 스토리가 잘 감이 안 잡힌다!</td>\n",
       "      <td>0</td>\n",
       "      <td>0</td>\n",
       "    </tr>\n",
       "    <tr>\n",
       "      <th>4</th>\n",
       "      <td>1.5/3인. 활동성 있음.추락조심</td>\n",
       "      <td>0</td>\n",
       "      <td>0</td>\n",
       "    </tr>\n",
       "    <tr>\n",
       "      <th>...</th>\n",
       "      <td>...</td>\n",
       "      <td>...</td>\n",
       "      <td>...</td>\n",
       "    </tr>\n",
       "    <tr>\n",
       "      <th>999</th>\n",
       "      <td>나에겐 너무 어려웠던. 방탈짬바 있는 분들에게 추천</td>\n",
       "      <td>0</td>\n",
       "      <td>0</td>\n",
       "    </tr>\n",
       "    <tr>\n",
       "      <th>1000</th>\n",
       "      <td>2021. 12. 26. (3인) 각자 1인분씩 하고 뿌듯했던 테마.</td>\n",
       "      <td>0</td>\n",
       "      <td>0</td>\n",
       "    </tr>\n",
       "    <tr>\n",
       "      <th>1001</th>\n",
       "      <td>첫방 디버프로 초반에 절어버림. 볼것도 못보고 힌트썼는데 잘꾸며놓았다 . 살짝 장치...</td>\n",
       "      <td>0</td>\n",
       "      <td>0</td>\n",
       "    </tr>\n",
       "    <tr>\n",
       "      <th>1002</th>\n",
       "      <td>#5 - 2인 - 볼륨에 압도됨 - 히터도 방마다 빵빵함 - 다른 테마도 궁금해짐</td>\n",
       "      <td>1</td>\n",
       "      <td>1</td>\n",
       "    </tr>\n",
       "    <tr>\n",
       "      <th>1003</th>\n",
       "      <td>265, 2인, 장치. 그걸 왜 몰랐냐. 장치에 속지 말자</td>\n",
       "      <td>0</td>\n",
       "      <td>0</td>\n",
       "    </tr>\n",
       "  </tbody>\n",
       "</table>\n",
       "<p>1001 rows × 3 columns</p>\n",
       "</div>"
      ],
      "text/plain": [
       "                                                content  scale  pred\n",
       "0                      #1415_20221128_3인. 흐음.잘 열어보지 않으면      0     0\n",
       "1                                                난.바보야.      0     0\n",
       "2       들어가자마자 커피향이 씨게 낫다 좋앗다 하지만 인테리어는 그냥그랫다. 풀정도 되는듯.      0     0\n",
       "3                                  3인. 스토리가 잘 감이 안 잡힌다!      0     0\n",
       "4                                   1.5/3인. 활동성 있음.추락조심      0     0\n",
       "...                                                 ...    ...   ...\n",
       "999                        나에겐 너무 어려웠던. 방탈짬바 있는 분들에게 추천      0     0\n",
       "1000             2021. 12. 26. (3인) 각자 1인분씩 하고 뿌듯했던 테마.      0     0\n",
       "1001  첫방 디버프로 초반에 절어버림. 볼것도 못보고 힌트썼는데 잘꾸며놓았다 . 살짝 장치...      0     0\n",
       "1002      #5 - 2인 - 볼륨에 압도됨 - 히터도 방마다 빵빵함 - 다른 테마도 궁금해짐      1     1\n",
       "1003                   265, 2인, 장치. 그걸 왜 몰랐냐. 장치에 속지 말자      0     0\n",
       "\n",
       "[1001 rows x 3 columns]"
      ]
     },
     "execution_count": 5,
     "metadata": {},
     "output_type": "execute_result"
    }
   ],
   "source": [
    "# 문장을 입력했을 때, 예측 값을 도출해주는 함수\n",
    "\n",
    "from torch.nn.functional import softmax\n",
    "\n",
    "# 함수 정의\n",
    "def classify_text(text):\n",
    "    # 문장을 토큰화하고 모델에 입력으로 전달\n",
    "    text = cleaned_content(text)\n",
    "    inputs = tokenizer(text, return_tensors=\"pt\")\n",
    "    outputs = model(**inputs)\n",
    "\n",
    "    # 소프트맥스 함수를 사용하여 확률값 계산\n",
    "    probabilities = softmax(outputs.logits, dim=1)\n",
    "\n",
    "    # 가장 높은 확률값에 해당하는 클래스 선택\n",
    "    predicted_class = torch.argmax(probabilities).item()\n",
    "\n",
    "    return predicted_class, probabilities\n",
    "\n",
    "def change_num(num):\n",
    "    if num == 0:\n",
    "        return (-1)\n",
    "    elif num == 1:\n",
    "        return 0\n",
    "    elif num == 2:\n",
    "        return 1\n",
    "\n",
    "pred_list = []\n",
    "for sent in tqdm(test_data['content']):\n",
    "    pred, _ = classify_text(sent)\n",
    "    pred_list.append(pred)\n",
    "\n",
    "test_data['pred'] = pred_list\n",
    "test_data['pred'] = test_data['pred'].apply(change_num)\n",
    "test_data\n",
    "    "
   ]
  },
  {
   "cell_type": "code",
   "execution_count": 6,
   "metadata": {},
   "outputs": [
    {
     "name": "stdout",
     "output_type": "stream",
     "text": [
      "scale\n",
      " 0    4675\n",
      " 1     200\n",
      "-1     148\n",
      "Name: count, dtype: int64\n"
     ]
    }
   ],
   "source": [
    "print(final_df['scale'].value_counts())"
   ]
  },
  {
   "cell_type": "code",
   "execution_count": 7,
   "metadata": {},
   "outputs": [
    {
     "name": "stdout",
     "output_type": "stream",
     "text": [
      "scale\n",
      " 0    3724\n",
      " 1     159\n",
      "-1     120\n",
      "Name: count, dtype: int64\n",
      "scale\n",
      " 0    936\n",
      "-1     36\n",
      " 1     29\n",
      "Name: count, dtype: int64\n"
     ]
    }
   ],
   "source": [
    "print(train_data['scale'].value_counts())\n",
    "print(test_data['scale'].value_counts())"
   ]
  },
  {
   "cell_type": "code",
   "execution_count": 9,
   "metadata": {},
   "outputs": [
    {
     "name": "stdout",
     "output_type": "stream",
     "text": [
      "              precision    recall  f1-score   support\n",
      "\n",
      "          -1       0.00      0.00      0.00        36\n",
      "           0       1.00      1.00      1.00       936\n",
      "           1       0.42      0.97      0.59        29\n",
      "\n",
      "    accuracy                           0.96      1001\n",
      "   macro avg       0.47      0.65      0.53      1001\n",
      "weighted avg       0.95      0.96      0.95      1001\n",
      "\n",
      "              precision    recall  f1-score   support\n",
      "\n",
      "          -1       0.00      0.00      0.00        36\n",
      "           0       0.00      0.00      0.00         0\n",
      "           1       0.44      0.97      0.61        29\n",
      "\n",
      "    accuracy                           0.43        65\n",
      "   macro avg       0.15      0.32      0.20        65\n",
      "weighted avg       0.20      0.43      0.27        65\n",
      "\n"
     ]
    },
    {
     "name": "stderr",
     "output_type": "stream",
     "text": [
      "/opt/homebrew/anaconda3/envs/bert_electra/lib/python3.9/site-packages/sklearn/metrics/_classification.py:1469: UndefinedMetricWarning: Precision and F-score are ill-defined and being set to 0.0 in labels with no predicted samples. Use `zero_division` parameter to control this behavior.\n",
      "  _warn_prf(average, modifier, msg_start, len(result))\n",
      "/opt/homebrew/anaconda3/envs/bert_electra/lib/python3.9/site-packages/sklearn/metrics/_classification.py:1469: UndefinedMetricWarning: Precision and F-score are ill-defined and being set to 0.0 in labels with no predicted samples. Use `zero_division` parameter to control this behavior.\n",
      "  _warn_prf(average, modifier, msg_start, len(result))\n",
      "/opt/homebrew/anaconda3/envs/bert_electra/lib/python3.9/site-packages/sklearn/metrics/_classification.py:1469: UndefinedMetricWarning: Precision and F-score are ill-defined and being set to 0.0 in labels with no predicted samples. Use `zero_division` parameter to control this behavior.\n",
      "  _warn_prf(average, modifier, msg_start, len(result))\n",
      "/opt/homebrew/anaconda3/envs/bert_electra/lib/python3.9/site-packages/sklearn/metrics/_classification.py:1469: UndefinedMetricWarning: Precision and F-score are ill-defined and being set to 0.0 in labels with no predicted samples. Use `zero_division` parameter to control this behavior.\n",
      "  _warn_prf(average, modifier, msg_start, len(result))\n",
      "/opt/homebrew/anaconda3/envs/bert_electra/lib/python3.9/site-packages/sklearn/metrics/_classification.py:1469: UndefinedMetricWarning: Recall and F-score are ill-defined and being set to 0.0 in labels with no true samples. Use `zero_division` parameter to control this behavior.\n",
      "  _warn_prf(average, modifier, msg_start, len(result))\n",
      "/opt/homebrew/anaconda3/envs/bert_electra/lib/python3.9/site-packages/sklearn/metrics/_classification.py:1469: UndefinedMetricWarning: Precision and F-score are ill-defined and being set to 0.0 in labels with no predicted samples. Use `zero_division` parameter to control this behavior.\n",
      "  _warn_prf(average, modifier, msg_start, len(result))\n",
      "/opt/homebrew/anaconda3/envs/bert_electra/lib/python3.9/site-packages/sklearn/metrics/_classification.py:1469: UndefinedMetricWarning: Recall and F-score are ill-defined and being set to 0.0 in labels with no true samples. Use `zero_division` parameter to control this behavior.\n",
      "  _warn_prf(average, modifier, msg_start, len(result))\n",
      "/opt/homebrew/anaconda3/envs/bert_electra/lib/python3.9/site-packages/sklearn/metrics/_classification.py:1469: UndefinedMetricWarning: Precision and F-score are ill-defined and being set to 0.0 in labels with no predicted samples. Use `zero_division` parameter to control this behavior.\n",
      "  _warn_prf(average, modifier, msg_start, len(result))\n",
      "/opt/homebrew/anaconda3/envs/bert_electra/lib/python3.9/site-packages/sklearn/metrics/_classification.py:1469: UndefinedMetricWarning: Recall and F-score are ill-defined and being set to 0.0 in labels with no true samples. Use `zero_division` parameter to control this behavior.\n",
      "  _warn_prf(average, modifier, msg_start, len(result))\n"
     ]
    }
   ],
   "source": [
    "print(classification_report(test_data['scale'], test_data['pred']))\n",
    "test_data2 = test_data[test_data['scale'] != 0]\n",
    "print(classification_report(test_data2['scale'], test_data2['pred']))"
   ]
  },
  {
   "cell_type": "code",
   "execution_count": 10,
   "metadata": {},
   "outputs": [
    {
     "name": "stdout",
     "output_type": "stream",
     "text": [
      "문장: 테마 규모 대박, 평가: 2\n",
      "----------\n",
      "문장: 테마 규모 개좋음, 평가: 2\n",
      "----------\n",
      "문장: 규모 대박, 평가: 2\n",
      "----------\n",
      "문장: 테마 규모 개쩐다., 평가: 2\n",
      "----------\n",
      "문장: 테마 규모 좁읍, 평가: 2\n",
      "----------\n",
      "문장: 테마 규모 작음, 평가: 2\n",
      "----------\n",
      "문장: 규모 별로임, 평가: 2\n",
      "----------\n",
      "문장: 규모 콩알만함, 평가: 2\n",
      "----------\n"
     ]
    }
   ],
   "source": [
    "test = [\n",
    "    '테마 규모 대박',\n",
    "    '테마 규모 개좋음',\n",
    "    '규모 대박',\n",
    "    '테마 규모 개쩐다.',\n",
    "    '테마 규모 좁읍',\n",
    "    '테마 규모 작음',\n",
    "    '규모 별로임',\n",
    "    '규모 콩알만함',\n",
    "]\n",
    "\n",
    "for sent in test:\n",
    "    pred, _ = classify_text(sent)\n",
    "    print(f'문장: {sent}, 평가: {pred}')\n",
    "    print(\"-\"*10)"
   ]
  },
  {
   "cell_type": "code",
   "execution_count": null,
   "metadata": {},
   "outputs": [],
   "source": []
  },
  {
   "cell_type": "markdown",
   "metadata": {},
   "source": [
    "# 2차 모델"
   ]
  },
  {
   "cell_type": "code",
   "execution_count": 4,
   "metadata": {},
   "outputs": [
    {
     "name": "stderr",
     "output_type": "stream",
     "text": [
      "/var/folders/t4/314qsssd1p718wry9j0bh9000000gn/T/ipykernel_65645/949624988.py:10: SettingWithCopyWarning: \n",
      "A value is trying to be set on a copy of a slice from a DataFrame.\n",
      "Try using .loc[row_indexer,col_indexer] = value instead\n",
      "\n",
      "See the caveats in the documentation: https://pandas.pydata.org/pandas-docs/stable/user_guide/indexing.html#returning-a-view-versus-a-copy\n",
      "  scale_data['content_id'] = scale_data['content_id'].apply(lambda x: x.split(',')[0] if len(str(x)) > 6 else x)\n"
     ]
    },
    {
     "name": "stdout",
     "output_type": "stream",
     "text": [
      "scale\n",
      " 0    4675\n",
      " 1     200\n",
      "-1     148\n",
      "Name: count, dtype: int64\n",
      "\n",
      "\n",
      "train_data scale\n",
      " 0    3739\n",
      " 1     159\n",
      "-1     120\n",
      "Name: count, dtype: int64\n",
      "\n",
      " test_data scale\n",
      " 0    940\n",
      "-1     36\n",
      " 1     29\n",
      "Name: count, dtype: int64\n",
      "\n",
      "\n",
      "중복 제거 전 학습 데이터셋: 4018\n",
      "중복 제거 전 테스트 데이터셋: 1005\n",
      "\n",
      "\n",
      "\n",
      "\n",
      "중복 제거 후 학습 데이터셋: 4003\n",
      "중복 제거 후 테스트 데이터셋: 1001\n"
     ]
    }
   ],
   "source": [
    "# labeling 된 데이터 불러오기\n",
    "survey = pd.read_csv(\"./_data/survey.csv\", index_col=0)\n",
    "survey.fillna(0, inplace=True)\n",
    "survey = survey.reset_index()\n",
    "\n",
    "# 데이터 중에서 작업을 하고자 하는 라벨만 가져오기\n",
    "scale_data = survey[['content_id', 'scale']]\n",
    "\n",
    "# content_id 중에서 댓글이 같이 추가된 데이터 정리\n",
    "scale_data['content_id'] = scale_data['content_id'].apply(lambda x: x.split(',')[0] if len(str(x)) > 6 else x)\n",
    "\n",
    "# content_id 가 0인 데이터 제외 -> content_id 모두 int type 으로 변경 (추후 Merge 를 위함)\n",
    "scale_data = scale_data[scale_data['content_id'] != 0].reset_index().drop(columns=['index'])\n",
    "scale_data['content_id'] = scale_data['content_id'].astype(int)\n",
    "\n",
    "# 전체 review data 불러오기\n",
    "review_all = pd.read_csv(\"./_data/reviews.csv\", index_col=0)\n",
    "\n",
    "# 전체 review data 중에서 survey data에 있는 댓글만 가져오기\n",
    "survey_content = review_all.loc[review_all['id'].isin(scale_data['content_id'])][['id', 'content']]\n",
    "# merge 를 위해서 id 컬럼명 통일하기\n",
    "survey_content.columns=['content_id', 'content']\n",
    "\n",
    "# 통일된 content_id 를 기반으로 데이터 merge\n",
    "scale_data = pd.merge(scale_data, survey_content)\n",
    "\n",
    "# 추후 원활한 계산을 위해서 숫자 부분은 모두 int 로 바꿔줌\n",
    "scale_data['scale'] = scale_data['scale'].astype(int)\n",
    "\n",
    "# 최소한의 전처리\n",
    "def cleaned_content(text):\n",
    "    d = re.sub('\\n', '. ', text) # 줄바꿈 > .\n",
    "    d = re.sub('[^가-힣0-9a-zA-Z ]{2,}', \".\", d) # 특수문자 두개 이상인거 .으로 변경\n",
    "    return d\n",
    "\n",
    "scale_data['content'] = scale_data['content'].apply(cleaned_content)\n",
    "\n",
    "final_df = scale_data[['content', 'scale']]\n",
    "\n",
    "# 라벨별 개수 확인\n",
    "print(final_df['scale'].value_counts())\n",
    "print('\\n')\n",
    "train_data = final_df.sample(frac=0.8, random_state=42).reset_index().drop(columns='index')\n",
    "print('train_data', train_data['scale'].value_counts())\n",
    "test_data = final_df.drop(train_data.index).reset_index().drop(columns='index')\n",
    "print('\\n', 'test_data', test_data['scale'].value_counts())\n",
    "print('\\n')\n",
    "# 중복 데이터 제거(데이터 분리 후 중복이 생길 수 있어서 데이터 분리 후 중복 데이터 처리 진행)\n",
    "\n",
    "# 데이터셋 개수 확인\n",
    "print('중복 제거 전 학습 데이터셋: {}'.format(len(train_data)))\n",
    "print('중복 제거 전 테스트 데이터셋: {}'.format(len(test_data)))\n",
    "print('\\n')\n",
    "# 중복 데이터 제거\n",
    "train_data.drop_duplicates(subset=['content'], inplace=True)\n",
    "test_data.drop_duplicates(subset=['content'], inplace=True)\n",
    "print('\\n')\n",
    "# 데이터셋 개수 확인\n",
    "print('중복 제거 후 학습 데이터셋: {}'.format(len(train_data)))\n",
    "print('중복 제거 후 테스트 데이터셋: {}'.format(len(test_data)))"
   ]
  },
  {
   "cell_type": "code",
   "execution_count": 3,
   "metadata": {},
   "outputs": [
    {
     "name": "stderr",
     "output_type": "stream",
     "text": [
      "Some weights of ElectraForSequenceClassification were not initialized from the model checkpoint at monologg/koelectra-small-v3-discriminator and are newly initialized: ['classifier.out_proj.weight', 'classifier.dense.bias', 'classifier.out_proj.bias', 'classifier.dense.weight']\n",
      "You should probably TRAIN this model on a down-stream task to be able to use it for predictions and inference.\n"
     ]
    },
    {
     "data": {
      "text/plain": [
       "Embedding(35080, 128)"
      ]
     },
     "execution_count": 3,
     "metadata": {},
     "output_type": "execute_result"
    }
   ],
   "source": [
    "# 토큰에 추가할 단어 -> '방탈출'이라는 도메인 지시기에 근거한 용어, 분리되어서는 안 되기 때문에 별도로 추가 작업 진행\n",
    "addword = ['공테', '약공테', '감테', '창공', '갑툭튀', '삐딱', '삑', '꽝', '삑딱쾅', '삑딱쾅', '삑딱', '쫄', '극쫄',\n",
    "            '극극쫄', '쫄팟', '쫄탱', '쫄보', '극', '약탱', '탱쫄', '극극극', '뉴비', '하드캐리', '극혐', '피지컬',\n",
    "            '어거지', '뚝배기', '뚝문', '셀뚝', '억까', '트롤링', '트롤짓', '흙길', '풀길', '꽃길', '풀꽃', '꽃다발',\n",
    "            '꽃밭', '웰메이드', '인생테마', '머글', '방린이', '방유아', '방세포', '방태아', '방탈러', '과몰입러', '옵저버',\n",
    "            '리트', '연방', '혼방', '혼불', '워킹', '워크인', '장치방', '문제방', '직렬', '병렬', '육각형', '볼드', '볼드충', '에바',\n",
    "            '가이드', '조도', '조명', '밝기', '어두움', '인테리어', '비주얼', '소품', '디자인',\n",
    "            '스토리','기승전결','흐름도','결말','서사','이야기','유니버스','전개','시나리오', '개연성', '명료',\n",
    "            '창의성','창의','신선','독특','참신','발상', '연출','짜임','사실감','구현','현실감','현장감', '활동성','활동력','활동량','움직임','반경',\n",
    "            '규모','스케일','볼륨','사이즈','크기','넓이','공간감','분량', '공포','공테','무서움','담력','스릴러',\n",
    "            '문제', '장치', '기계', '센서', '기구', '불친절',\n",
    "            '메르헨', '커튼콜', '카르텔', '소우주', '풀문', '도고', '플래시', '나우히어', '나비효과', '몽중', '가이드라인',\n",
    "            '연출력', '짜임새', '공포도', '공포감', '공포심', '약공테', '문제퀄']\n",
    "\n",
    "# 사전학습된 bert 모델 사용\n",
    "# num_labels 클래스에 대해서 훈련을 하기 위해서 num_labels=3 할당함, problem_type=\"multi_label_classification\" 를 통해서 모델이 다중 레이블 분류에 해당함을 명시\n",
    "model = ElectraForSequenceClassification.from_pretrained(\"monologg/koelectra-small-v3-discriminator\", num_labels=3, problem_type=\"multi_label_classification\")\n",
    "tokenizer = ElectraTokenizer.from_pretrained(\"monologg/koelectra-base-v3-discriminator\")\n",
    "\n",
    "# token에 새로운 단어 추가 \n",
    "tokenizer.add_tokens(addword)\n",
    "# token에 단어 추가후 기존 모델의 임베딩 레이어에 추가한 단어에 대한 임베딩 벡터가 없을 수 있기 때문\n",
    "# 아래 코드를 통해서 토큰의 개수가 변했음을 모델에 알리고 모델의 임베딩 레이어를 조정하여 새로운 토큰을 수용할 수 있게 함\n",
    "model.resize_token_embeddings(len(tokenizer))"
   ]
  },
  {
   "cell_type": "code",
   "execution_count": 5,
   "metadata": {},
   "outputs": [],
   "source": [
    "# train content 토큰화\n",
    "tokenized_train_sentences = tokenizer(\n",
    "    list(train_data['content']),\n",
    "    return_tensors=\"pt\",\n",
    "    max_length=128,\n",
    "    padding=True,\n",
    "    truncation=True,\n",
    "    add_special_tokens=True\n",
    ")\n",
    "\n",
    "# test content 토큰화\n",
    "tokenized_test_sentences = tokenizer(\n",
    "    list(test_data['content']),\n",
    "    return_tensors=\"pt\",\n",
    "    max_length=128,\n",
    "    padding=True,\n",
    "    truncation=True,\n",
    "    add_special_tokens=True\n",
    ")\n",
    "\n",
    "# 분류 모델에 넣기 위해서 1차원으로 구성된 세 개의 클래스를 2차원으로 재구성 후 label 로 투입\n",
    "# -1(부정)=0, 0(중립)=1, 1(긍정)=2\n",
    "\n",
    "train_label = []\n",
    "for label in train_data[\"scale\"].values:\n",
    "    if label == -1:\n",
    "        train_label.append([1., 0., 0.])\n",
    "    elif label == 0:\n",
    "        train_label.append([0., 1., 0.])\n",
    "    elif label == 1:\n",
    "        train_label.append([0., 0., 1.])\n",
    "\n",
    "test_label = []\n",
    "for label in test_data['scale'].values:\n",
    "    if label == 0:\n",
    "        test_label.append([0., 1., 0.])\n",
    "    elif label == -1:\n",
    "        test_label.append([1., 0., 0.])\n",
    "    elif label == 1:\n",
    "        test_label.append([0., 0., 1.])\n",
    "\n",
    "# model 에 넣기 위한 dataset 생성 class\n",
    "class CurseDataset(torch.utils.data.Dataset):\n",
    "    def __init__(self, encodings, labels):\n",
    "        self.encodings = encodings\n",
    "        self.labels = labels\n",
    "    \n",
    "    def __getitem__(self, idx):\n",
    "        item = {key: torch.tensor(val[idx]) for key, val in self.encodings.items()}\n",
    "        item[\"labels\"] = torch.tensor(self.labels[idx])\n",
    "        return item\n",
    "    \n",
    "    def __len__(self):\n",
    "        return len(self.labels)\n",
    "        \n",
    "# bert 모델에 데이터가 들어갈 수 있게 만들어 둔 class를 활용하여 train, test dataset 생성\n",
    "train_dataset = CurseDataset(tokenized_train_sentences, train_label)\n",
    "test_dataset = CurseDataset(tokenized_test_sentences, test_label)\n",
    "\n",
    "# hugging face 의 trasformers 라이브러리를 사용하여 모델 훈련시킬 때 사용되는 객체 설정 부분\n",
    "training_args = TrainingArguments(\n",
    "    output_dir = './scale_model/check_point/try_2',    # 모델과 훈련 중 생성되는 파일이 저장될 디렉토리 경로\n",
    "    num_train_epochs = 15,              # 훈련 epoch 수\n",
    "    per_device_train_batch_size = 8,    # 장치에 할당된 훈련 배치 크기\n",
    "    per_device_eval_batch_size = 16,    # 장치에 할당된 평가 배치 크기, 모델을 평가할 때 사용되는 배치 크기\n",
    "    logging_dir = './logs',             # 훈련 중 로그 파일이 저장될 디렉토리\n",
    "    logging_steps = 500,                # 로그 출력 빈도, 500 step에 한 번씩 출력 예정\n",
    "    save_total_limit = 2,               # 체크포인트 파일 저장 제한 수\n",
    ")\n",
    "\n",
    "# hugging face 의 trasformers 라이브러리를 사용하여 모델 훈련하고 관리하는 객체 설정 부분\n",
    "trainer = Trainer(\n",
    "    model=model,\n",
    "    args=training_args,\n",
    "    train_dataset=train_dataset,\n",
    "    eval_dataset=test_dataset,\n",
    ")"
   ]
  },
  {
   "cell_type": "code",
   "execution_count": 6,
   "metadata": {},
   "outputs": [
    {
     "name": "stderr",
     "output_type": "stream",
     "text": [
      "  0%|          | 0/7515 [00:00<?, ?it/s]/var/folders/t4/314qsssd1p718wry9j0bh9000000gn/T/ipykernel_63772/1989731884.py:49: UserWarning: To copy construct from a tensor, it is recommended to use sourceTensor.clone().detach() or sourceTensor.clone().detach().requires_grad_(True), rather than torch.tensor(sourceTensor).\n",
      "  item = {key: torch.tensor(val[idx]) for key, val in self.encodings.items()}\n",
      "  7%|▋         | 500/7515 [01:25<19:29,  6.00it/s]"
     ]
    },
    {
     "name": "stdout",
     "output_type": "stream",
     "text": [
      "{'loss': 0.2515, 'learning_rate': 4.6673320026613444e-05, 'epoch': 1.0}\n"
     ]
    },
    {
     "name": "stderr",
     "output_type": "stream",
     "text": [
      "  7%|▋         | 501/7515 [01:26<40:00,  2.92it/s]/var/folders/t4/314qsssd1p718wry9j0bh9000000gn/T/ipykernel_63772/1989731884.py:49: UserWarning: To copy construct from a tensor, it is recommended to use sourceTensor.clone().detach() or sourceTensor.clone().detach().requires_grad_(True), rather than torch.tensor(sourceTensor).\n",
      "  item = {key: torch.tensor(val[idx]) for key, val in self.encodings.items()}\n",
      " 13%|█▎        | 1000/7515 [02:51<18:04,  6.00it/s]"
     ]
    },
    {
     "name": "stdout",
     "output_type": "stream",
     "text": [
      "{'loss': 0.1418, 'learning_rate': 4.3346640053226885e-05, 'epoch': 2.0}\n"
     ]
    },
    {
     "name": "stderr",
     "output_type": "stream",
     "text": [
      "/var/folders/t4/314qsssd1p718wry9j0bh9000000gn/T/ipykernel_63772/1989731884.py:49: UserWarning: To copy construct from a tensor, it is recommended to use sourceTensor.clone().detach() or sourceTensor.clone().detach().requires_grad_(True), rather than torch.tensor(sourceTensor).\n",
      "  item = {key: torch.tensor(val[idx]) for key, val in self.encodings.items()}\n",
      " 20%|█▉        | 1500/7515 [04:16<17:22,  5.77it/s]"
     ]
    },
    {
     "name": "stdout",
     "output_type": "stream",
     "text": [
      "{'loss': 0.1152, 'learning_rate': 4.0019960079840326e-05, 'epoch': 2.99}\n"
     ]
    },
    {
     "name": "stderr",
     "output_type": "stream",
     "text": [
      "/var/folders/t4/314qsssd1p718wry9j0bh9000000gn/T/ipykernel_63772/1989731884.py:49: UserWarning: To copy construct from a tensor, it is recommended to use sourceTensor.clone().detach() or sourceTensor.clone().detach().requires_grad_(True), rather than torch.tensor(sourceTensor).\n",
      "  item = {key: torch.tensor(val[idx]) for key, val in self.encodings.items()}\n",
      " 27%|██▋       | 2000/7515 [05:45<20:54,  4.40it/s]"
     ]
    },
    {
     "name": "stdout",
     "output_type": "stream",
     "text": [
      "{'loss': 0.0935, 'learning_rate': 3.669328010645376e-05, 'epoch': 3.99}\n"
     ]
    },
    {
     "name": "stderr",
     "output_type": "stream",
     "text": [
      "/var/folders/t4/314qsssd1p718wry9j0bh9000000gn/T/ipykernel_63772/1989731884.py:49: UserWarning: To copy construct from a tensor, it is recommended to use sourceTensor.clone().detach() or sourceTensor.clone().detach().requires_grad_(True), rather than torch.tensor(sourceTensor).\n",
      "  item = {key: torch.tensor(val[idx]) for key, val in self.encodings.items()}\n",
      " 33%|███▎      | 2500/7515 [07:39<19:06,  4.37it/s]"
     ]
    },
    {
     "name": "stdout",
     "output_type": "stream",
     "text": [
      "{'loss': 0.0753, 'learning_rate': 3.33666001330672e-05, 'epoch': 4.99}\n"
     ]
    },
    {
     "name": "stderr",
     "output_type": "stream",
     "text": [
      "/var/folders/t4/314qsssd1p718wry9j0bh9000000gn/T/ipykernel_63772/1989731884.py:49: UserWarning: To copy construct from a tensor, it is recommended to use sourceTensor.clone().detach() or sourceTensor.clone().detach().requires_grad_(True), rather than torch.tensor(sourceTensor).\n",
      "  item = {key: torch.tensor(val[idx]) for key, val in self.encodings.items()}\n",
      " 40%|███▉      | 3000/7515 [09:33<17:02,  4.41it/s]"
     ]
    },
    {
     "name": "stdout",
     "output_type": "stream",
     "text": [
      "{'loss': 0.072, 'learning_rate': 3.003992015968064e-05, 'epoch': 5.99}\n"
     ]
    },
    {
     "name": "stderr",
     "output_type": "stream",
     "text": [
      "/var/folders/t4/314qsssd1p718wry9j0bh9000000gn/T/ipykernel_63772/1989731884.py:49: UserWarning: To copy construct from a tensor, it is recommended to use sourceTensor.clone().detach() or sourceTensor.clone().detach().requires_grad_(True), rather than torch.tensor(sourceTensor).\n",
      "  item = {key: torch.tensor(val[idx]) for key, val in self.encodings.items()}\n",
      " 47%|████▋     | 3500/7515 [11:27<15:32,  4.30it/s]"
     ]
    },
    {
     "name": "stdout",
     "output_type": "stream",
     "text": [
      "{'loss': 0.0673, 'learning_rate': 2.671324018629408e-05, 'epoch': 6.99}\n"
     ]
    },
    {
     "name": "stderr",
     "output_type": "stream",
     "text": [
      "/var/folders/t4/314qsssd1p718wry9j0bh9000000gn/T/ipykernel_63772/1989731884.py:49: UserWarning: To copy construct from a tensor, it is recommended to use sourceTensor.clone().detach() or sourceTensor.clone().detach().requires_grad_(True), rather than torch.tensor(sourceTensor).\n",
      "  item = {key: torch.tensor(val[idx]) for key, val in self.encodings.items()}\n",
      " 53%|█████▎    | 4000/7515 [13:22<13:31,  4.33it/s]"
     ]
    },
    {
     "name": "stdout",
     "output_type": "stream",
     "text": [
      "{'loss': 0.0661, 'learning_rate': 2.338656021290752e-05, 'epoch': 7.98}\n"
     ]
    },
    {
     "name": "stderr",
     "output_type": "stream",
     "text": [
      "/var/folders/t4/314qsssd1p718wry9j0bh9000000gn/T/ipykernel_63772/1989731884.py:49: UserWarning: To copy construct from a tensor, it is recommended to use sourceTensor.clone().detach() or sourceTensor.clone().detach().requires_grad_(True), rather than torch.tensor(sourceTensor).\n",
      "  item = {key: torch.tensor(val[idx]) for key, val in self.encodings.items()}\n",
      " 60%|█████▉    | 4500/7515 [15:16<11:27,  4.38it/s]"
     ]
    },
    {
     "name": "stdout",
     "output_type": "stream",
     "text": [
      "{'loss': 0.0638, 'learning_rate': 2.0059880239520957e-05, 'epoch': 8.98}\n"
     ]
    },
    {
     "name": "stderr",
     "output_type": "stream",
     "text": [
      "/var/folders/t4/314qsssd1p718wry9j0bh9000000gn/T/ipykernel_63772/1989731884.py:49: UserWarning: To copy construct from a tensor, it is recommended to use sourceTensor.clone().detach() or sourceTensor.clone().detach().requires_grad_(True), rather than torch.tensor(sourceTensor).\n",
      "  item = {key: torch.tensor(val[idx]) for key, val in self.encodings.items()}\n",
      " 67%|██████▋   | 5000/7515 [17:11<09:30,  4.41it/s]"
     ]
    },
    {
     "name": "stdout",
     "output_type": "stream",
     "text": [
      "{'loss': 0.0572, 'learning_rate': 1.67332002661344e-05, 'epoch': 9.98}\n"
     ]
    },
    {
     "name": "stderr",
     "output_type": "stream",
     "text": [
      "/var/folders/t4/314qsssd1p718wry9j0bh9000000gn/T/ipykernel_63772/1989731884.py:49: UserWarning: To copy construct from a tensor, it is recommended to use sourceTensor.clone().detach() or sourceTensor.clone().detach().requires_grad_(True), rather than torch.tensor(sourceTensor).\n",
      "  item = {key: torch.tensor(val[idx]) for key, val in self.encodings.items()}\n",
      " 73%|███████▎  | 5500/7515 [19:05<07:37,  4.40it/s]"
     ]
    },
    {
     "name": "stdout",
     "output_type": "stream",
     "text": [
      "{'loss': 0.0576, 'learning_rate': 1.3406520292747837e-05, 'epoch': 10.98}\n"
     ]
    },
    {
     "name": "stderr",
     "output_type": "stream",
     "text": [
      "/var/folders/t4/314qsssd1p718wry9j0bh9000000gn/T/ipykernel_63772/1989731884.py:49: UserWarning: To copy construct from a tensor, it is recommended to use sourceTensor.clone().detach() or sourceTensor.clone().detach().requires_grad_(True), rather than torch.tensor(sourceTensor).\n",
      "  item = {key: torch.tensor(val[idx]) for key, val in self.encodings.items()}\n",
      " 80%|███████▉  | 6000/7515 [21:00<05:43,  4.41it/s]"
     ]
    },
    {
     "name": "stdout",
     "output_type": "stream",
     "text": [
      "{'loss': 0.0545, 'learning_rate': 1.0079840319361278e-05, 'epoch': 11.98}\n"
     ]
    },
    {
     "name": "stderr",
     "output_type": "stream",
     "text": [
      "/var/folders/t4/314qsssd1p718wry9j0bh9000000gn/T/ipykernel_63772/1989731884.py:49: UserWarning: To copy construct from a tensor, it is recommended to use sourceTensor.clone().detach() or sourceTensor.clone().detach().requires_grad_(True), rather than torch.tensor(sourceTensor).\n",
      "  item = {key: torch.tensor(val[idx]) for key, val in self.encodings.items()}\n",
      " 86%|████████▋ | 6500/7515 [22:54<03:51,  4.38it/s]"
     ]
    },
    {
     "name": "stdout",
     "output_type": "stream",
     "text": [
      "{'loss': 0.0529, 'learning_rate': 6.753160345974717e-06, 'epoch': 12.97}\n"
     ]
    },
    {
     "name": "stderr",
     "output_type": "stream",
     "text": [
      "/var/folders/t4/314qsssd1p718wry9j0bh9000000gn/T/ipykernel_63772/1989731884.py:49: UserWarning: To copy construct from a tensor, it is recommended to use sourceTensor.clone().detach() or sourceTensor.clone().detach().requires_grad_(True), rather than torch.tensor(sourceTensor).\n",
      "  item = {key: torch.tensor(val[idx]) for key, val in self.encodings.items()}\n",
      " 93%|█████████▎| 7000/7515 [24:49<01:56,  4.42it/s]"
     ]
    },
    {
     "name": "stdout",
     "output_type": "stream",
     "text": [
      "{'loss': 0.0548, 'learning_rate': 3.4264803725881573e-06, 'epoch': 13.97}\n"
     ]
    },
    {
     "name": "stderr",
     "output_type": "stream",
     "text": [
      "/var/folders/t4/314qsssd1p718wry9j0bh9000000gn/T/ipykernel_63772/1989731884.py:49: UserWarning: To copy construct from a tensor, it is recommended to use sourceTensor.clone().detach() or sourceTensor.clone().detach().requires_grad_(True), rather than torch.tensor(sourceTensor).\n",
      "  item = {key: torch.tensor(val[idx]) for key, val in self.encodings.items()}\n",
      "100%|█████████▉| 7500/7515 [26:43<00:03,  4.37it/s]"
     ]
    },
    {
     "name": "stdout",
     "output_type": "stream",
     "text": [
      "{'loss': 0.0498, 'learning_rate': 9.98003992015968e-08, 'epoch': 14.97}\n"
     ]
    },
    {
     "name": "stderr",
     "output_type": "stream",
     "text": [
      "/var/folders/t4/314qsssd1p718wry9j0bh9000000gn/T/ipykernel_63772/1989731884.py:49: UserWarning: To copy construct from a tensor, it is recommended to use sourceTensor.clone().detach() or sourceTensor.clone().detach().requires_grad_(True), rather than torch.tensor(sourceTensor).\n",
      "  item = {key: torch.tensor(val[idx]) for key, val in self.encodings.items()}\n",
      "100%|██████████| 7515/7515 [26:46<00:00,  4.68it/s]"
     ]
    },
    {
     "name": "stdout",
     "output_type": "stream",
     "text": [
      "{'train_runtime': 1606.9956, 'train_samples_per_second': 37.365, 'train_steps_per_second': 4.676, 'train_loss': 0.08479672674330091, 'epoch': 15.0}\n"
     ]
    },
    {
     "name": "stderr",
     "output_type": "stream",
     "text": [
      "\n"
     ]
    },
    {
     "data": {
      "text/plain": [
       "TrainOutput(global_step=7515, training_loss=0.08479672674330091, metrics={'train_runtime': 1606.9956, 'train_samples_per_second': 37.365, 'train_steps_per_second': 4.676, 'train_loss': 0.08479672674330091, 'epoch': 15.0})"
      ]
     },
     "execution_count": 6,
     "metadata": {},
     "output_type": "execute_result"
    }
   ],
   "source": [
    "# train 진행\n",
    "trainer.train() "
   ]
  },
  {
   "cell_type": "code",
   "execution_count": 7,
   "metadata": {},
   "outputs": [
    {
     "data": {
      "text/plain": [
       "('./scale_model/try_2/scale_tokenizer2/tokenizer_config.json',\n",
       " './scale_model/try_2/scale_tokenizer2/special_tokens_map.json',\n",
       " './scale_model/try_2/scale_tokenizer2/vocab.txt',\n",
       " './scale_model/try_2/scale_tokenizer2/added_tokens.json')"
      ]
     },
     "execution_count": 7,
     "metadata": {},
     "output_type": "execute_result"
    }
   ],
   "source": [
    "trainer.save_model(\"./scale_model/try_2/scale_model2\")\n",
    "tokenizer.save_pretrained(\"./scale_model/try_2/scale_tokenizer2\")"
   ]
  },
  {
   "cell_type": "code",
   "execution_count": 2,
   "metadata": {},
   "outputs": [
    {
     "name": "stderr",
     "output_type": "stream",
     "text": [
      "Special tokens have been added in the vocabulary, make sure the associated word embeddings are fine-tuned or trained.\n"
     ]
    }
   ],
   "source": [
    "# 저장된 모델과 토크나이저를 불러오기\n",
    "\n",
    "model_path = \"./scale_model/try_2/scale_model2\"\n",
    "tokenizer_path = \"./scale_model/try_2/scale_tokenizer2\"\n",
    "\n",
    "model = ElectraForSequenceClassification.from_pretrained(model_path)\n",
    "tokenizer = ElectraTokenizer.from_pretrained(tokenizer_path)"
   ]
  },
  {
   "cell_type": "code",
   "execution_count": 5,
   "metadata": {},
   "outputs": [
    {
     "name": "stderr",
     "output_type": "stream",
     "text": [
      "100%|██████████| 1001/1001 [00:13<00:00, 72.83it/s]\n"
     ]
    },
    {
     "data": {
      "text/html": [
       "<div>\n",
       "<style scoped>\n",
       "    .dataframe tbody tr th:only-of-type {\n",
       "        vertical-align: middle;\n",
       "    }\n",
       "\n",
       "    .dataframe tbody tr th {\n",
       "        vertical-align: top;\n",
       "    }\n",
       "\n",
       "    .dataframe thead th {\n",
       "        text-align: right;\n",
       "    }\n",
       "</style>\n",
       "<table border=\"1\" class=\"dataframe\">\n",
       "  <thead>\n",
       "    <tr style=\"text-align: right;\">\n",
       "      <th></th>\n",
       "      <th>content</th>\n",
       "      <th>scale</th>\n",
       "      <th>pred</th>\n",
       "    </tr>\n",
       "  </thead>\n",
       "  <tbody>\n",
       "    <tr>\n",
       "      <th>0</th>\n",
       "      <td>#1415_20221128_3인. 흐음.잘 열어보지 않으면</td>\n",
       "      <td>0</td>\n",
       "      <td>0</td>\n",
       "    </tr>\n",
       "    <tr>\n",
       "      <th>1</th>\n",
       "      <td>난.바보야.</td>\n",
       "      <td>0</td>\n",
       "      <td>0</td>\n",
       "    </tr>\n",
       "    <tr>\n",
       "      <th>2</th>\n",
       "      <td>들어가자마자 커피향이 씨게 낫다 좋앗다 하지만 인테리어는 그냥그랫다. 풀정도 되는듯.</td>\n",
       "      <td>0</td>\n",
       "      <td>0</td>\n",
       "    </tr>\n",
       "    <tr>\n",
       "      <th>3</th>\n",
       "      <td>3인. 스토리가 잘 감이 안 잡힌다!</td>\n",
       "      <td>0</td>\n",
       "      <td>0</td>\n",
       "    </tr>\n",
       "    <tr>\n",
       "      <th>4</th>\n",
       "      <td>1.5/3인. 활동성 있음.추락조심</td>\n",
       "      <td>0</td>\n",
       "      <td>0</td>\n",
       "    </tr>\n",
       "    <tr>\n",
       "      <th>...</th>\n",
       "      <td>...</td>\n",
       "      <td>...</td>\n",
       "      <td>...</td>\n",
       "    </tr>\n",
       "    <tr>\n",
       "      <th>999</th>\n",
       "      <td>나에겐 너무 어려웠던. 방탈짬바 있는 분들에게 추천</td>\n",
       "      <td>0</td>\n",
       "      <td>0</td>\n",
       "    </tr>\n",
       "    <tr>\n",
       "      <th>1000</th>\n",
       "      <td>2021. 12. 26. (3인) 각자 1인분씩 하고 뿌듯했던 테마.</td>\n",
       "      <td>0</td>\n",
       "      <td>0</td>\n",
       "    </tr>\n",
       "    <tr>\n",
       "      <th>1001</th>\n",
       "      <td>첫방 디버프로 초반에 절어버림. 볼것도 못보고 힌트썼는데 잘꾸며놓았다 . 살짝 장치...</td>\n",
       "      <td>0</td>\n",
       "      <td>0</td>\n",
       "    </tr>\n",
       "    <tr>\n",
       "      <th>1002</th>\n",
       "      <td>#5 - 2인 - 볼륨에 압도됨 - 히터도 방마다 빵빵함 - 다른 테마도 궁금해짐</td>\n",
       "      <td>1</td>\n",
       "      <td>1</td>\n",
       "    </tr>\n",
       "    <tr>\n",
       "      <th>1003</th>\n",
       "      <td>265, 2인, 장치. 그걸 왜 몰랐냐. 장치에 속지 말자</td>\n",
       "      <td>0</td>\n",
       "      <td>0</td>\n",
       "    </tr>\n",
       "  </tbody>\n",
       "</table>\n",
       "<p>1001 rows × 3 columns</p>\n",
       "</div>"
      ],
      "text/plain": [
       "                                                content  scale  pred\n",
       "0                      #1415_20221128_3인. 흐음.잘 열어보지 않으면      0     0\n",
       "1                                                난.바보야.      0     0\n",
       "2       들어가자마자 커피향이 씨게 낫다 좋앗다 하지만 인테리어는 그냥그랫다. 풀정도 되는듯.      0     0\n",
       "3                                  3인. 스토리가 잘 감이 안 잡힌다!      0     0\n",
       "4                                   1.5/3인. 활동성 있음.추락조심      0     0\n",
       "...                                                 ...    ...   ...\n",
       "999                        나에겐 너무 어려웠던. 방탈짬바 있는 분들에게 추천      0     0\n",
       "1000             2021. 12. 26. (3인) 각자 1인분씩 하고 뿌듯했던 테마.      0     0\n",
       "1001  첫방 디버프로 초반에 절어버림. 볼것도 못보고 힌트썼는데 잘꾸며놓았다 . 살짝 장치...      0     0\n",
       "1002      #5 - 2인 - 볼륨에 압도됨 - 히터도 방마다 빵빵함 - 다른 테마도 궁금해짐      1     1\n",
       "1003                   265, 2인, 장치. 그걸 왜 몰랐냐. 장치에 속지 말자      0     0\n",
       "\n",
       "[1001 rows x 3 columns]"
      ]
     },
     "execution_count": 5,
     "metadata": {},
     "output_type": "execute_result"
    }
   ],
   "source": [
    "# 문장을 입력했을 때, 예측 값을 도출해주는 함수\n",
    "\n",
    "from torch.nn.functional import softmax\n",
    "\n",
    "# 함수 정의\n",
    "def classify_text(text):\n",
    "    # 문장을 토큰화하고 모델에 입력으로 전달\n",
    "    text = cleaned_content(text)\n",
    "    inputs = tokenizer(text, return_tensors=\"pt\")\n",
    "    outputs = model(**inputs)\n",
    "\n",
    "    # 소프트맥스 함수를 사용하여 확률값 계산\n",
    "    probabilities = softmax(outputs.logits, dim=1)\n",
    "\n",
    "    # 가장 높은 확률값에 해당하는 클래스 선택\n",
    "    predicted_class = torch.argmax(probabilities).item()\n",
    "\n",
    "    return predicted_class, probabilities\n",
    "\n",
    "def change_num(num):\n",
    "    if num == 0:\n",
    "        return (-1)\n",
    "    elif num == 1:\n",
    "        return 0\n",
    "    elif num == 2:\n",
    "        return 1\n",
    "\n",
    "pred_list = []\n",
    "for sent in tqdm(test_data['content']):\n",
    "    pred, _ = classify_text(sent)\n",
    "    pred_list.append(pred)\n",
    "\n",
    "test_data['pred'] = pred_list\n",
    "test_data['pred'] = test_data['pred'].apply(change_num)\n",
    "test_data\n",
    "    "
   ]
  },
  {
   "cell_type": "code",
   "execution_count": 6,
   "metadata": {},
   "outputs": [
    {
     "name": "stdout",
     "output_type": "stream",
     "text": [
      "all_ scale\n",
      " 0    4675\n",
      " 1     200\n",
      "-1     148\n",
      "Name: count, dtype: int64\n",
      "------------------------------\n",
      "train_ scale\n",
      " 0    3724\n",
      " 1     159\n",
      "-1     120\n",
      "Name: count, dtype: int64\n",
      "test_ scale\n",
      " 0    936\n",
      "-1     36\n",
      " 1     29\n",
      "Name: count, dtype: int64\n"
     ]
    }
   ],
   "source": [
    "print('all_', final_df['scale'].value_counts())\n",
    "\n",
    "print('-' * 30)\n",
    "\n",
    "print('train_', train_data['scale'].value_counts())\n",
    "print('test_', test_data['scale'].value_counts())"
   ]
  },
  {
   "cell_type": "code",
   "execution_count": 7,
   "metadata": {},
   "outputs": [
    {
     "name": "stdout",
     "output_type": "stream",
     "text": [
      "              precision    recall  f1-score   support\n",
      "\n",
      "          -1       0.81      0.61      0.70        36\n",
      "           0       1.00      1.00      1.00       936\n",
      "           1       0.64      0.86      0.74        29\n",
      "\n",
      "    accuracy                           0.98      1001\n",
      "   macro avg       0.82      0.82      0.81      1001\n",
      "weighted avg       0.98      0.98      0.98      1001\n",
      "\n",
      "              precision    recall  f1-score   support\n",
      "\n",
      "          -1       0.92      0.61      0.73        36\n",
      "           0       0.00      0.00      0.00         0\n",
      "           1       0.66      0.86      0.75        29\n",
      "\n",
      "    accuracy                           0.72        65\n",
      "   macro avg       0.52      0.49      0.49        65\n",
      "weighted avg       0.80      0.72      0.74        65\n",
      "\n"
     ]
    },
    {
     "name": "stderr",
     "output_type": "stream",
     "text": [
      "/opt/homebrew/anaconda3/envs/bert_electra/lib/python3.9/site-packages/sklearn/metrics/_classification.py:1469: UndefinedMetricWarning: Recall and F-score are ill-defined and being set to 0.0 in labels with no true samples. Use `zero_division` parameter to control this behavior.\n",
      "  _warn_prf(average, modifier, msg_start, len(result))\n",
      "/opt/homebrew/anaconda3/envs/bert_electra/lib/python3.9/site-packages/sklearn/metrics/_classification.py:1469: UndefinedMetricWarning: Recall and F-score are ill-defined and being set to 0.0 in labels with no true samples. Use `zero_division` parameter to control this behavior.\n",
      "  _warn_prf(average, modifier, msg_start, len(result))\n",
      "/opt/homebrew/anaconda3/envs/bert_electra/lib/python3.9/site-packages/sklearn/metrics/_classification.py:1469: UndefinedMetricWarning: Recall and F-score are ill-defined and being set to 0.0 in labels with no true samples. Use `zero_division` parameter to control this behavior.\n",
      "  _warn_prf(average, modifier, msg_start, len(result))\n"
     ]
    }
   ],
   "source": [
    "print(classification_report(test_data['scale'], test_data['pred']))\n",
    "test_data2 = test_data[test_data['scale'] != 0]\n",
    "print(classification_report(test_data2['scale'], test_data2['pred']))"
   ]
  },
  {
   "cell_type": "code",
   "execution_count": 9,
   "metadata": {},
   "outputs": [
    {
     "name": "stdout",
     "output_type": "stream",
     "text": [
      "문장: 테마 규모 대박, 평가: 2\n",
      "----------\n",
      "문장: 테마 규모 개좋음, 평가: 2\n",
      "----------\n",
      "문장: 규모 대박, 평가: 2\n",
      "----------\n",
      "문장: 테마 규모 개쩐다., 평가: 2\n",
      "----------\n",
      "문장: 테마 규모 좁읍, 평가: 2\n",
      "----------\n",
      "문장: 테마 규모 작음, 평가: 2\n",
      "----------\n",
      "문장: 규모 별로임, 평가: 2\n",
      "----------\n",
      "문장: 규모 최악, 평가: 2\n",
      "----------\n",
      "문장: 규모 콩알만함, 평가: 2\n",
      "----------\n"
     ]
    }
   ],
   "source": [
    "test = [\n",
    "    '테마 규모 대박',\n",
    "    '테마 규모 개좋음',\n",
    "    '규모 대박',\n",
    "    '테마 규모 개쩐다.',\n",
    "    '테마 규모 좁읍',\n",
    "    '테마 규모 작음',\n",
    "    '규모 별로임',\n",
    "    '규모 최악',\n",
    "    '규모 콩알만함',\n",
    "]\n",
    "\n",
    "for sent in test:\n",
    "    pred, _ = classify_text(sent)\n",
    "    print(f'문장: {sent}, 평가: {pred}')\n",
    "    print(\"-\"*10)"
   ]
  },
  {
   "cell_type": "code",
   "execution_count": null,
   "metadata": {},
   "outputs": [
    {
     "name": "stdout",
     "output_type": "stream",
     "text": [
      "문장: 테마 규모 대박, 평가: 2\n",
      "----------\n",
      "문장: 테마 규모 개좋음, 평가: 2\n",
      "----------\n",
      "문장: 규모 대박, 평가: 2\n",
      "----------\n",
      "문장: 테마 규모 개쩐다., 평가: 2\n",
      "----------\n",
      "문장: 테마 규모 좁읍, 평가: 2\n",
      "----------\n",
      "문장: 테마 규모 작음, 평가: 2\n",
      "----------\n",
      "문장: 규모 별로임, 평가: 2\n",
      "----------\n",
      "문장: 규모 최악, 평가: 2\n",
      "----------\n",
      "문장: 규모 콩알만함, 평가: 2\n",
      "----------\n"
     ]
    }
   ],
   "source": [
    "test = [\n",
    "    '테마 규모 대박',\n",
    "    '테마 규모 개좋음',\n",
    "    '규모 대박',\n",
    "    '테마 규모 개쩐다.',\n",
    "    '테마 규모 좁읍',\n",
    "    '테마 규모 작음',\n",
    "    '규모 별로임',\n",
    "    '규모 최악',\n",
    "    '규모 콩알만함',\n",
    "]\n",
    "\n",
    "for sent in test:\n",
    "    pred, _ = classify_text(sent)\n",
    "    print(f'문장: {sent}, 평가: {pred}')\n",
    "    print(\"-\"*10)"
   ]
  },
  {
   "cell_type": "code",
   "execution_count": null,
   "metadata": {},
   "outputs": [],
   "source": []
  },
  {
   "cell_type": "markdown",
   "metadata": {},
   "source": [
    "# 3차 모델"
   ]
  },
  {
   "cell_type": "code",
   "execution_count": 2,
   "metadata": {},
   "outputs": [
    {
     "name": "stderr",
     "output_type": "stream",
     "text": [
      "/var/folders/t4/314qsssd1p718wry9j0bh9000000gn/T/ipykernel_68418/949624988.py:10: SettingWithCopyWarning: \n",
      "A value is trying to be set on a copy of a slice from a DataFrame.\n",
      "Try using .loc[row_indexer,col_indexer] = value instead\n",
      "\n",
      "See the caveats in the documentation: https://pandas.pydata.org/pandas-docs/stable/user_guide/indexing.html#returning-a-view-versus-a-copy\n",
      "  scale_data['content_id'] = scale_data['content_id'].apply(lambda x: x.split(',')[0] if len(str(x)) > 6 else x)\n"
     ]
    },
    {
     "name": "stdout",
     "output_type": "stream",
     "text": [
      "scale\n",
      " 0    4675\n",
      " 1     200\n",
      "-1     148\n",
      "Name: count, dtype: int64\n",
      "\n",
      "\n",
      "train_data scale\n",
      " 0    3739\n",
      " 1     159\n",
      "-1     120\n",
      "Name: count, dtype: int64\n",
      "\n",
      " test_data scale\n",
      " 0    940\n",
      "-1     36\n",
      " 1     29\n",
      "Name: count, dtype: int64\n",
      "\n",
      "\n",
      "중복 제거 전 학습 데이터셋: 4018\n",
      "중복 제거 전 테스트 데이터셋: 1005\n",
      "\n",
      "\n",
      "\n",
      "\n",
      "중복 제거 후 학습 데이터셋: 4003\n",
      "중복 제거 후 테스트 데이터셋: 1001\n"
     ]
    }
   ],
   "source": [
    "# labeling 된 데이터 불러오기\n",
    "survey = pd.read_csv(\"./_data/survey.csv\", index_col=0)\n",
    "survey.fillna(0, inplace=True)\n",
    "survey = survey.reset_index()\n",
    "\n",
    "# 데이터 중에서 작업을 하고자 하는 라벨만 가져오기\n",
    "scale_data = survey[['content_id', 'scale']]\n",
    "\n",
    "# content_id 중에서 댓글이 같이 추가된 데이터 정리\n",
    "scale_data['content_id'] = scale_data['content_id'].apply(lambda x: x.split(',')[0] if len(str(x)) > 6 else x)\n",
    "\n",
    "# content_id 가 0인 데이터 제외 -> content_id 모두 int type 으로 변경 (추후 Merge 를 위함)\n",
    "scale_data = scale_data[scale_data['content_id'] != 0].reset_index().drop(columns=['index'])\n",
    "scale_data['content_id'] = scale_data['content_id'].astype(int)\n",
    "\n",
    "# 전체 review data 불러오기\n",
    "review_all = pd.read_csv(\"./_data/reviews.csv\", index_col=0)\n",
    "\n",
    "# 전체 review data 중에서 survey data에 있는 댓글만 가져오기\n",
    "survey_content = review_all.loc[review_all['id'].isin(scale_data['content_id'])][['id', 'content']]\n",
    "# merge 를 위해서 id 컬럼명 통일하기\n",
    "survey_content.columns=['content_id', 'content']\n",
    "\n",
    "# 통일된 content_id 를 기반으로 데이터 merge\n",
    "scale_data = pd.merge(scale_data, survey_content)\n",
    "\n",
    "# 추후 원활한 계산을 위해서 숫자 부분은 모두 int 로 바꿔줌\n",
    "scale_data['scale'] = scale_data['scale'].astype(int)\n",
    "\n",
    "# 최소한의 전처리\n",
    "def cleaned_content(text):\n",
    "    d = re.sub('\\n', '. ', text) # 줄바꿈 > .\n",
    "    d = re.sub('[^가-힣0-9a-zA-Z ]{2,}', \".\", d) # 특수문자 두개 이상인거 .으로 변경\n",
    "    return d\n",
    "\n",
    "scale_data['content'] = scale_data['content'].apply(cleaned_content)\n",
    "\n",
    "final_df = scale_data[['content', 'scale']]\n",
    "\n",
    "# 라벨별 개수 확인\n",
    "print(final_df['scale'].value_counts())\n",
    "print('\\n')\n",
    "train_data = final_df.sample(frac=0.8, random_state=42).reset_index().drop(columns='index')\n",
    "print('train_data', train_data['scale'].value_counts())\n",
    "test_data = final_df.drop(train_data.index).reset_index().drop(columns='index')\n",
    "print('\\n', 'test_data', test_data['scale'].value_counts())\n",
    "print('\\n')\n",
    "# 중복 데이터 제거(데이터 분리 후 중복이 생길 수 있어서 데이터 분리 후 중복 데이터 처리 진행)\n",
    "\n",
    "# 데이터셋 개수 확인\n",
    "print('중복 제거 전 학습 데이터셋: {}'.format(len(train_data)))\n",
    "print('중복 제거 전 테스트 데이터셋: {}'.format(len(test_data)))\n",
    "print('\\n')\n",
    "# 중복 데이터 제거\n",
    "train_data.drop_duplicates(subset=['content'], inplace=True)\n",
    "test_data.drop_duplicates(subset=['content'], inplace=True)\n",
    "print('\\n')\n",
    "# 데이터셋 개수 확인\n",
    "print('중복 제거 후 학습 데이터셋: {}'.format(len(train_data)))\n",
    "print('중복 제거 후 테스트 데이터셋: {}'.format(len(test_data)))"
   ]
  },
  {
   "cell_type": "code",
   "execution_count": 3,
   "metadata": {},
   "outputs": [
    {
     "name": "stderr",
     "output_type": "stream",
     "text": [
      "Some weights of ElectraForSequenceClassification were not initialized from the model checkpoint at monologg/koelectra-small-v3-discriminator and are newly initialized: ['classifier.dense.weight', 'classifier.dense.bias', 'classifier.out_proj.bias', 'classifier.out_proj.weight']\n",
      "You should probably TRAIN this model on a down-stream task to be able to use it for predictions and inference.\n"
     ]
    },
    {
     "data": {
      "text/plain": [
       "Embedding(35080, 128)"
      ]
     },
     "execution_count": 3,
     "metadata": {},
     "output_type": "execute_result"
    }
   ],
   "source": [
    "# 토큰에 추가할 단어 -> '방탈출'이라는 도메인 지시기에 근거한 용어, 분리되어서는 안 되기 때문에 별도로 추가 작업 진행\n",
    "addword = ['공테', '약공테', '감테', '창공', '갑툭튀', '삐딱', '삑', '꽝', '삑딱쾅', '삑딱쾅', '삑딱', '쫄', '극쫄',\n",
    "            '극극쫄', '쫄팟', '쫄탱', '쫄보', '극', '약탱', '탱쫄', '극극극', '뉴비', '하드캐리', '극혐', '피지컬',\n",
    "            '어거지', '뚝배기', '뚝문', '셀뚝', '억까', '트롤링', '트롤짓', '흙길', '풀길', '꽃길', '풀꽃', '꽃다발',\n",
    "            '꽃밭', '웰메이드', '인생테마', '머글', '방린이', '방유아', '방세포', '방태아', '방탈러', '과몰입러', '옵저버',\n",
    "            '리트', '연방', '혼방', '혼불', '워킹', '워크인', '장치방', '문제방', '직렬', '병렬', '육각형', '볼드', '볼드충', '에바',\n",
    "            '가이드', '조도', '조명', '밝기', '어두움', '인테리어', '비주얼', '소품', '디자인',\n",
    "            '스토리','기승전결','흐름도','결말','서사','이야기','유니버스','전개','시나리오', '개연성', '명료',\n",
    "            '창의성','창의','신선','독특','참신','발상', '연출','짜임','사실감','구현','현실감','현장감', '활동성','활동력','활동량','움직임','반경',\n",
    "            '규모','스케일','볼륨','사이즈','크기','넓이','공간감','분량', '공포','공테','무서움','담력','스릴러',\n",
    "            '문제', '장치', '기계', '센서', '기구', '불친절',\n",
    "            '메르헨', '커튼콜', '카르텔', '소우주', '풀문', '도고', '플래시', '나우히어', '나비효과', '몽중', '가이드라인',\n",
    "            '연출력', '짜임새', '공포도', '공포감', '공포심', '약공테', '문제퀄']\n",
    "\n",
    "# 사전학습된 bert 모델 사용\n",
    "# num_labels 클래스에 대해서 훈련을 하기 위해서 num_labels=3 할당함, problem_type=\"multi_label_classification\" 를 통해서 모델이 다중 레이블 분류에 해당함을 명시\n",
    "model = ElectraForSequenceClassification.from_pretrained(\"monologg/koelectra-small-v3-discriminator\", num_labels=3, problem_type=\"multi_label_classification\")\n",
    "tokenizer = ElectraTokenizer.from_pretrained(\"monologg/koelectra-base-v3-discriminator\")\n",
    "\n",
    "# token에 새로운 단어 추가 \n",
    "tokenizer.add_tokens(addword)\n",
    "# token에 단어 추가후 기존 모델의 임베딩 레이어에 추가한 단어에 대한 임베딩 벡터가 없을 수 있기 때문\n",
    "# 아래 코드를 통해서 토큰의 개수가 변했음을 모델에 알리고 모델의 임베딩 레이어를 조정하여 새로운 토큰을 수용할 수 있게 함\n",
    "model.resize_token_embeddings(len(tokenizer))"
   ]
  },
  {
   "cell_type": "code",
   "execution_count": 4,
   "metadata": {},
   "outputs": [],
   "source": [
    "# train content 토큰화\n",
    "tokenized_train_sentences = tokenizer(\n",
    "    list(train_data['content']),\n",
    "    return_tensors=\"pt\",\n",
    "    max_length=128,\n",
    "    padding=True,\n",
    "    truncation=True,\n",
    "    add_special_tokens=True\n",
    ")\n",
    "\n",
    "# test content 토큰화\n",
    "tokenized_test_sentences = tokenizer(\n",
    "    list(test_data['content']),\n",
    "    return_tensors=\"pt\",\n",
    "    max_length=128,\n",
    "    padding=True,\n",
    "    truncation=True,\n",
    "    add_special_tokens=True\n",
    ")\n",
    "\n",
    "# 분류 모델에 넣기 위해서 1차원으로 구성된 세 개의 클래스를 2차원으로 재구성 후 label 로 투입\n",
    "# -1(부정)=0, 0(중립)=1, 1(긍정)=2\n",
    "\n",
    "train_label = []\n",
    "for label in train_data[\"scale\"].values:\n",
    "    if label == -1:\n",
    "        train_label.append([1., 0., 0.])\n",
    "    elif label == 0:\n",
    "        train_label.append([0., 1., 0.])\n",
    "    elif label == 1:\n",
    "        train_label.append([0., 0., 1.])\n",
    "\n",
    "test_label = []\n",
    "for label in test_data['scale'].values:\n",
    "    if label == 0:\n",
    "        test_label.append([0., 1., 0.])\n",
    "    elif label == -1:\n",
    "        test_label.append([1., 0., 0.])\n",
    "    elif label == 1:\n",
    "        test_label.append([0., 0., 1.])\n",
    "\n",
    "# model 에 넣기 위한 dataset 생성 class\n",
    "class CurseDataset(torch.utils.data.Dataset):\n",
    "    def __init__(self, encodings, labels):\n",
    "        self.encodings = encodings\n",
    "        self.labels = labels\n",
    "    \n",
    "    def __getitem__(self, idx):\n",
    "        item = {key: torch.tensor(val[idx]) for key, val in self.encodings.items()}\n",
    "        item[\"labels\"] = torch.tensor(self.labels[idx])\n",
    "        return item\n",
    "    \n",
    "    def __len__(self):\n",
    "        return len(self.labels)\n",
    "        \n",
    "# bert 모델에 데이터가 들어갈 수 있게 만들어 둔 class를 활용하여 train, test dataset 생성\n",
    "train_dataset = CurseDataset(tokenized_train_sentences, train_label)\n",
    "test_dataset = CurseDataset(tokenized_test_sentences, test_label)\n",
    "\n",
    "# hugging face 의 trasformers 라이브러리를 사용하여 모델 훈련시킬 때 사용되는 객체 설정 부분\n",
    "training_args = TrainingArguments(\n",
    "    output_dir = './scale_model/check_point/try_2',    # 모델과 훈련 중 생성되는 파일이 저장될 디렉토리 경로\n",
    "    num_train_epochs = 20,              # 훈련 epoch 수\n",
    "    per_device_train_batch_size = 8,    # 장치에 할당된 훈련 배치 크기\n",
    "    per_device_eval_batch_size = 16,    # 장치에 할당된 평가 배치 크기, 모델을 평가할 때 사용되는 배치 크기\n",
    "    logging_dir = './logs',             # 훈련 중 로그 파일이 저장될 디렉토리\n",
    "    logging_steps = 500,                # 로그 출력 빈도, 500 step에 한 번씩 출력 예정\n",
    "    save_total_limit = 2,               # 체크포인트 파일 저장 제한 수\n",
    ")\n",
    "\n",
    "# hugging face 의 trasformers 라이브러리를 사용하여 모델 훈련하고 관리하는 객체 설정 부분\n",
    "trainer = Trainer(\n",
    "    model=model,\n",
    "    args=training_args,\n",
    "    train_dataset=train_dataset,\n",
    "    eval_dataset=test_dataset,\n",
    ")"
   ]
  },
  {
   "cell_type": "code",
   "execution_count": 6,
   "metadata": {},
   "outputs": [
    {
     "name": "stderr",
     "output_type": "stream",
     "text": [
      "  1%|          | 68/10020 [00:22<55:48,  2.97it/s]\n",
      "/var/folders/t4/314qsssd1p718wry9j0bh9000000gn/T/ipykernel_65828/3418354174.py:49: UserWarning: To copy construct from a tensor, it is recommended to use sourceTensor.clone().detach() or sourceTensor.clone().detach().requires_grad_(True), rather than torch.tensor(sourceTensor).\n",
      "  item = {key: torch.tensor(val[idx]) for key, val in self.encodings.items()}\n",
      "\n",
      "\u001b[A                                                "
     ]
    },
    {
     "name": "stdout",
     "output_type": "stream",
     "text": [
      "{'loss': 0.2065, 'learning_rate': 4.750499001996008e-05, 'epoch': 1.0}\n"
     ]
    },
    {
     "name": "stderr",
     "output_type": "stream",
     "text": [
      "/var/folders/t4/314qsssd1p718wry9j0bh9000000gn/T/ipykernel_65828/3418354174.py:49: UserWarning: To copy construct from a tensor, it is recommended to use sourceTensor.clone().detach() or sourceTensor.clone().detach().requires_grad_(True), rather than torch.tensor(sourceTensor).\n",
      "  item = {key: torch.tensor(val[idx]) for key, val in self.encodings.items()}\n",
      "\n",
      "\u001b[A                                                 "
     ]
    },
    {
     "name": "stdout",
     "output_type": "stream",
     "text": [
      "{'loss': 0.1209, 'learning_rate': 4.5009980039920164e-05, 'epoch': 2.0}\n"
     ]
    },
    {
     "name": "stderr",
     "output_type": "stream",
     "text": [
      "/var/folders/t4/314qsssd1p718wry9j0bh9000000gn/T/ipykernel_65828/3418354174.py:49: UserWarning: To copy construct from a tensor, it is recommended to use sourceTensor.clone().detach() or sourceTensor.clone().detach().requires_grad_(True), rather than torch.tensor(sourceTensor).\n",
      "  item = {key: torch.tensor(val[idx]) for key, val in self.encodings.items()}\n",
      "\n",
      "\u001b[A                                                 "
     ]
    },
    {
     "name": "stdout",
     "output_type": "stream",
     "text": [
      "{'loss': 0.091, 'learning_rate': 4.251497005988024e-05, 'epoch': 2.99}\n"
     ]
    },
    {
     "name": "stderr",
     "output_type": "stream",
     "text": [
      "/var/folders/t4/314qsssd1p718wry9j0bh9000000gn/T/ipykernel_65828/3418354174.py:49: UserWarning: To copy construct from a tensor, it is recommended to use sourceTensor.clone().detach() or sourceTensor.clone().detach().requires_grad_(True), rather than torch.tensor(sourceTensor).\n",
      "  item = {key: torch.tensor(val[idx]) for key, val in self.encodings.items()}\n",
      "\n",
      "\u001b[A                                                 "
     ]
    },
    {
     "name": "stdout",
     "output_type": "stream",
     "text": [
      "{'loss': 0.081, 'learning_rate': 4.0019960079840326e-05, 'epoch': 3.99}\n"
     ]
    },
    {
     "name": "stderr",
     "output_type": "stream",
     "text": [
      "/var/folders/t4/314qsssd1p718wry9j0bh9000000gn/T/ipykernel_65828/3418354174.py:49: UserWarning: To copy construct from a tensor, it is recommended to use sourceTensor.clone().detach() or sourceTensor.clone().detach().requires_grad_(True), rather than torch.tensor(sourceTensor).\n",
      "  item = {key: torch.tensor(val[idx]) for key, val in self.encodings.items()}\n",
      "\n",
      "\u001b[A                                                 "
     ]
    },
    {
     "name": "stdout",
     "output_type": "stream",
     "text": [
      "{'loss': 0.0749, 'learning_rate': 3.75249500998004e-05, 'epoch': 4.99}\n"
     ]
    },
    {
     "name": "stderr",
     "output_type": "stream",
     "text": [
      "/var/folders/t4/314qsssd1p718wry9j0bh9000000gn/T/ipykernel_65828/3418354174.py:49: UserWarning: To copy construct from a tensor, it is recommended to use sourceTensor.clone().detach() or sourceTensor.clone().detach().requires_grad_(True), rather than torch.tensor(sourceTensor).\n",
      "  item = {key: torch.tensor(val[idx]) for key, val in self.encodings.items()}\n",
      "\n",
      "\u001b[A                                                 "
     ]
    },
    {
     "name": "stdout",
     "output_type": "stream",
     "text": [
      "{'loss': 0.0694, 'learning_rate': 3.502994011976048e-05, 'epoch': 5.99}\n"
     ]
    },
    {
     "name": "stderr",
     "output_type": "stream",
     "text": [
      "/var/folders/t4/314qsssd1p718wry9j0bh9000000gn/T/ipykernel_65828/3418354174.py:49: UserWarning: To copy construct from a tensor, it is recommended to use sourceTensor.clone().detach() or sourceTensor.clone().detach().requires_grad_(True), rather than torch.tensor(sourceTensor).\n",
      "  item = {key: torch.tensor(val[idx]) for key, val in self.encodings.items()}\n",
      "\n",
      "\u001b[A                                                 "
     ]
    },
    {
     "name": "stdout",
     "output_type": "stream",
     "text": [
      "{'loss': 0.0618, 'learning_rate': 3.253493013972056e-05, 'epoch': 6.99}\n"
     ]
    },
    {
     "name": "stderr",
     "output_type": "stream",
     "text": [
      "/var/folders/t4/314qsssd1p718wry9j0bh9000000gn/T/ipykernel_65828/3418354174.py:49: UserWarning: To copy construct from a tensor, it is recommended to use sourceTensor.clone().detach() or sourceTensor.clone().detach().requires_grad_(True), rather than torch.tensor(sourceTensor).\n",
      "  item = {key: torch.tensor(val[idx]) for key, val in self.encodings.items()}\n",
      "\n",
      "\u001b[A                                                 "
     ]
    },
    {
     "name": "stdout",
     "output_type": "stream",
     "text": [
      "{'loss': 0.0586, 'learning_rate': 3.003992015968064e-05, 'epoch': 7.98}\n"
     ]
    },
    {
     "name": "stderr",
     "output_type": "stream",
     "text": [
      "/var/folders/t4/314qsssd1p718wry9j0bh9000000gn/T/ipykernel_65828/3418354174.py:49: UserWarning: To copy construct from a tensor, it is recommended to use sourceTensor.clone().detach() or sourceTensor.clone().detach().requires_grad_(True), rather than torch.tensor(sourceTensor).\n",
      "  item = {key: torch.tensor(val[idx]) for key, val in self.encodings.items()}\n",
      "\n",
      "\u001b[A                                                 "
     ]
    },
    {
     "name": "stdout",
     "output_type": "stream",
     "text": [
      "{'loss': 0.0548, 'learning_rate': 2.754491017964072e-05, 'epoch': 8.98}\n"
     ]
    },
    {
     "name": "stderr",
     "output_type": "stream",
     "text": [
      "/var/folders/t4/314qsssd1p718wry9j0bh9000000gn/T/ipykernel_65828/3418354174.py:49: UserWarning: To copy construct from a tensor, it is recommended to use sourceTensor.clone().detach() or sourceTensor.clone().detach().requires_grad_(True), rather than torch.tensor(sourceTensor).\n",
      "  item = {key: torch.tensor(val[idx]) for key, val in self.encodings.items()}\n",
      "\n",
      "\u001b[A                                                 "
     ]
    },
    {
     "name": "stdout",
     "output_type": "stream",
     "text": [
      "{'loss': 0.0554, 'learning_rate': 2.5049900199600802e-05, 'epoch': 9.98}\n"
     ]
    },
    {
     "name": "stderr",
     "output_type": "stream",
     "text": [
      "/var/folders/t4/314qsssd1p718wry9j0bh9000000gn/T/ipykernel_65828/3418354174.py:49: UserWarning: To copy construct from a tensor, it is recommended to use sourceTensor.clone().detach() or sourceTensor.clone().detach().requires_grad_(True), rather than torch.tensor(sourceTensor).\n",
      "  item = {key: torch.tensor(val[idx]) for key, val in self.encodings.items()}\n",
      "\n",
      "\u001b[A                                                 "
     ]
    },
    {
     "name": "stdout",
     "output_type": "stream",
     "text": [
      "{'loss': 0.0461, 'learning_rate': 2.255489021956088e-05, 'epoch': 10.98}\n"
     ]
    },
    {
     "name": "stderr",
     "output_type": "stream",
     "text": [
      "/var/folders/t4/314qsssd1p718wry9j0bh9000000gn/T/ipykernel_65828/3418354174.py:49: UserWarning: To copy construct from a tensor, it is recommended to use sourceTensor.clone().detach() or sourceTensor.clone().detach().requires_grad_(True), rather than torch.tensor(sourceTensor).\n",
      "  item = {key: torch.tensor(val[idx]) for key, val in self.encodings.items()}\n",
      "\n",
      "\u001b[A                                                 "
     ]
    },
    {
     "name": "stdout",
     "output_type": "stream",
     "text": [
      "{'loss': 0.0395, 'learning_rate': 2.0059880239520957e-05, 'epoch': 11.98}\n"
     ]
    },
    {
     "name": "stderr",
     "output_type": "stream",
     "text": [
      "/var/folders/t4/314qsssd1p718wry9j0bh9000000gn/T/ipykernel_65828/3418354174.py:49: UserWarning: To copy construct from a tensor, it is recommended to use sourceTensor.clone().detach() or sourceTensor.clone().detach().requires_grad_(True), rather than torch.tensor(sourceTensor).\n",
      "  item = {key: torch.tensor(val[idx]) for key, val in self.encodings.items()}\n",
      "\n",
      "\u001b[A                                                 "
     ]
    },
    {
     "name": "stdout",
     "output_type": "stream",
     "text": [
      "{'loss': 0.0296, 'learning_rate': 1.756487025948104e-05, 'epoch': 12.97}\n"
     ]
    },
    {
     "name": "stderr",
     "output_type": "stream",
     "text": [
      "/var/folders/t4/314qsssd1p718wry9j0bh9000000gn/T/ipykernel_65828/3418354174.py:49: UserWarning: To copy construct from a tensor, it is recommended to use sourceTensor.clone().detach() or sourceTensor.clone().detach().requires_grad_(True), rather than torch.tensor(sourceTensor).\n",
      "  item = {key: torch.tensor(val[idx]) for key, val in self.encodings.items()}\n",
      "\n",
      "\u001b[A                                                 "
     ]
    },
    {
     "name": "stdout",
     "output_type": "stream",
     "text": [
      "{'loss': 0.0244, 'learning_rate': 1.506986027944112e-05, 'epoch': 13.97}\n"
     ]
    },
    {
     "name": "stderr",
     "output_type": "stream",
     "text": [
      "/var/folders/t4/314qsssd1p718wry9j0bh9000000gn/T/ipykernel_65828/3418354174.py:49: UserWarning: To copy construct from a tensor, it is recommended to use sourceTensor.clone().detach() or sourceTensor.clone().detach().requires_grad_(True), rather than torch.tensor(sourceTensor).\n",
      "  item = {key: torch.tensor(val[idx]) for key, val in self.encodings.items()}\n",
      "\n",
      "\u001b[A                                                 "
     ]
    },
    {
     "name": "stdout",
     "output_type": "stream",
     "text": [
      "{'loss': 0.0192, 'learning_rate': 1.2574850299401197e-05, 'epoch': 14.97}\n"
     ]
    },
    {
     "name": "stderr",
     "output_type": "stream",
     "text": [
      "/var/folders/t4/314qsssd1p718wry9j0bh9000000gn/T/ipykernel_65828/3418354174.py:49: UserWarning: To copy construct from a tensor, it is recommended to use sourceTensor.clone().detach() or sourceTensor.clone().detach().requires_grad_(True), rather than torch.tensor(sourceTensor).\n",
      "  item = {key: torch.tensor(val[idx]) for key, val in self.encodings.items()}\n",
      "\n",
      "\u001b[A                                                 "
     ]
    },
    {
     "name": "stdout",
     "output_type": "stream",
     "text": [
      "{'loss': 0.0164, 'learning_rate': 1.0079840319361278e-05, 'epoch': 15.97}\n"
     ]
    },
    {
     "name": "stderr",
     "output_type": "stream",
     "text": [
      "/var/folders/t4/314qsssd1p718wry9j0bh9000000gn/T/ipykernel_65828/3418354174.py:49: UserWarning: To copy construct from a tensor, it is recommended to use sourceTensor.clone().detach() or sourceTensor.clone().detach().requires_grad_(True), rather than torch.tensor(sourceTensor).\n",
      "  item = {key: torch.tensor(val[idx]) for key, val in self.encodings.items()}\n",
      "\n",
      "\u001b[A                                                 "
     ]
    },
    {
     "name": "stdout",
     "output_type": "stream",
     "text": [
      "{'loss': 0.0161, 'learning_rate': 7.584830339321358e-06, 'epoch': 16.97}\n"
     ]
    },
    {
     "name": "stderr",
     "output_type": "stream",
     "text": [
      "/var/folders/t4/314qsssd1p718wry9j0bh9000000gn/T/ipykernel_65828/3418354174.py:49: UserWarning: To copy construct from a tensor, it is recommended to use sourceTensor.clone().detach() or sourceTensor.clone().detach().requires_grad_(True), rather than torch.tensor(sourceTensor).\n",
      "  item = {key: torch.tensor(val[idx]) for key, val in self.encodings.items()}\n",
      "\n",
      "\u001b[A                                                 "
     ]
    },
    {
     "name": "stdout",
     "output_type": "stream",
     "text": [
      "{'loss': 0.0143, 'learning_rate': 5.0898203592814375e-06, 'epoch': 17.96}\n"
     ]
    },
    {
     "name": "stderr",
     "output_type": "stream",
     "text": [
      "/var/folders/t4/314qsssd1p718wry9j0bh9000000gn/T/ipykernel_65828/3418354174.py:49: UserWarning: To copy construct from a tensor, it is recommended to use sourceTensor.clone().detach() or sourceTensor.clone().detach().requires_grad_(True), rather than torch.tensor(sourceTensor).\n",
      "  item = {key: torch.tensor(val[idx]) for key, val in self.encodings.items()}\n",
      "\n",
      "\u001b[A                                                 "
     ]
    },
    {
     "name": "stdout",
     "output_type": "stream",
     "text": [
      "{'loss': 0.0109, 'learning_rate': 2.594810379241517e-06, 'epoch': 18.96}\n"
     ]
    },
    {
     "name": "stderr",
     "output_type": "stream",
     "text": [
      "/var/folders/t4/314qsssd1p718wry9j0bh9000000gn/T/ipykernel_65828/3418354174.py:49: UserWarning: To copy construct from a tensor, it is recommended to use sourceTensor.clone().detach() or sourceTensor.clone().detach().requires_grad_(True), rather than torch.tensor(sourceTensor).\n",
      "  item = {key: torch.tensor(val[idx]) for key, val in self.encodings.items()}\n",
      "\n",
      "\u001b[A                                                  "
     ]
    },
    {
     "name": "stdout",
     "output_type": "stream",
     "text": [
      "{'loss': 0.0092, 'learning_rate': 9.98003992015968e-08, 'epoch': 19.96}\n"
     ]
    },
    {
     "name": "stderr",
     "output_type": "stream",
     "text": [
      "/var/folders/t4/314qsssd1p718wry9j0bh9000000gn/T/ipykernel_65828/3418354174.py:49: UserWarning: To copy construct from a tensor, it is recommended to use sourceTensor.clone().detach() or sourceTensor.clone().detach().requires_grad_(True), rather than torch.tensor(sourceTensor).\n",
      "  item = {key: torch.tensor(val[idx]) for key, val in self.encodings.items()}\n",
      "\n",
      "100%|██████████| 10020/10020 [38:20<00:00,  4.36it/s]"
     ]
    },
    {
     "name": "stdout",
     "output_type": "stream",
     "text": [
      "{'train_runtime': 2300.2294, 'train_samples_per_second': 34.805, 'train_steps_per_second': 4.356, 'train_loss': 0.05489099013494577, 'epoch': 20.0}\n"
     ]
    },
    {
     "name": "stderr",
     "output_type": "stream",
     "text": [
      "\n"
     ]
    },
    {
     "data": {
      "text/plain": [
       "TrainOutput(global_step=10020, training_loss=0.05489099013494577, metrics={'train_runtime': 2300.2294, 'train_samples_per_second': 34.805, 'train_steps_per_second': 4.356, 'train_loss': 0.05489099013494577, 'epoch': 20.0})"
      ]
     },
     "execution_count": 6,
     "metadata": {},
     "output_type": "execute_result"
    }
   ],
   "source": [
    "# train 진행\n",
    "trainer.train() "
   ]
  },
  {
   "cell_type": "code",
   "execution_count": 7,
   "metadata": {},
   "outputs": [
    {
     "data": {
      "text/plain": [
       "('./scale_model/try_3/scale_tokenizer3/tokenizer_config.json',\n",
       " './scale_model/try_3/scale_tokenizer3/special_tokens_map.json',\n",
       " './scale_model/try_3/scale_tokenizer3/vocab.txt',\n",
       " './scale_model/try_3/scale_tokenizer3/added_tokens.json')"
      ]
     },
     "execution_count": 7,
     "metadata": {},
     "output_type": "execute_result"
    }
   ],
   "source": [
    "trainer.save_model(\"./scale_model/try_3/scale_model3\")\n",
    "tokenizer.save_pretrained(\"./scale_model/try_3/scale_tokenizer3\")"
   ]
  },
  {
   "cell_type": "code",
   "execution_count": 3,
   "metadata": {},
   "outputs": [
    {
     "name": "stderr",
     "output_type": "stream",
     "text": [
      "Special tokens have been added in the vocabulary, make sure the associated word embeddings are fine-tuned or trained.\n"
     ]
    }
   ],
   "source": [
    "# 저장된 모델과 토크나이저를 불러오기\n",
    "\n",
    "model_path = \"./scale_model/try_3/scale_model3\"\n",
    "tokenizer_path = \"./scale_model/try_3/scale_tokenizer3\"\n",
    "\n",
    "model = ElectraForSequenceClassification.from_pretrained(model_path)\n",
    "tokenizer = ElectraTokenizer.from_pretrained(tokenizer_path)"
   ]
  },
  {
   "cell_type": "code",
   "execution_count": 4,
   "metadata": {},
   "outputs": [
    {
     "name": "stderr",
     "output_type": "stream",
     "text": [
      "100%|██████████| 1001/1001 [00:13<00:00, 72.97it/s]\n"
     ]
    },
    {
     "data": {
      "text/html": [
       "<div>\n",
       "<style scoped>\n",
       "    .dataframe tbody tr th:only-of-type {\n",
       "        vertical-align: middle;\n",
       "    }\n",
       "\n",
       "    .dataframe tbody tr th {\n",
       "        vertical-align: top;\n",
       "    }\n",
       "\n",
       "    .dataframe thead th {\n",
       "        text-align: right;\n",
       "    }\n",
       "</style>\n",
       "<table border=\"1\" class=\"dataframe\">\n",
       "  <thead>\n",
       "    <tr style=\"text-align: right;\">\n",
       "      <th></th>\n",
       "      <th>content</th>\n",
       "      <th>scale</th>\n",
       "      <th>pred</th>\n",
       "    </tr>\n",
       "  </thead>\n",
       "  <tbody>\n",
       "    <tr>\n",
       "      <th>0</th>\n",
       "      <td>#1415_20221128_3인. 흐음.잘 열어보지 않으면</td>\n",
       "      <td>0</td>\n",
       "      <td>0</td>\n",
       "    </tr>\n",
       "    <tr>\n",
       "      <th>1</th>\n",
       "      <td>난.바보야.</td>\n",
       "      <td>0</td>\n",
       "      <td>0</td>\n",
       "    </tr>\n",
       "    <tr>\n",
       "      <th>2</th>\n",
       "      <td>들어가자마자 커피향이 씨게 낫다 좋앗다 하지만 인테리어는 그냥그랫다. 풀정도 되는듯.</td>\n",
       "      <td>0</td>\n",
       "      <td>0</td>\n",
       "    </tr>\n",
       "    <tr>\n",
       "      <th>3</th>\n",
       "      <td>3인. 스토리가 잘 감이 안 잡힌다!</td>\n",
       "      <td>0</td>\n",
       "      <td>0</td>\n",
       "    </tr>\n",
       "    <tr>\n",
       "      <th>4</th>\n",
       "      <td>1.5/3인. 활동성 있음.추락조심</td>\n",
       "      <td>0</td>\n",
       "      <td>0</td>\n",
       "    </tr>\n",
       "    <tr>\n",
       "      <th>...</th>\n",
       "      <td>...</td>\n",
       "      <td>...</td>\n",
       "      <td>...</td>\n",
       "    </tr>\n",
       "    <tr>\n",
       "      <th>999</th>\n",
       "      <td>나에겐 너무 어려웠던. 방탈짬바 있는 분들에게 추천</td>\n",
       "      <td>0</td>\n",
       "      <td>0</td>\n",
       "    </tr>\n",
       "    <tr>\n",
       "      <th>1000</th>\n",
       "      <td>2021. 12. 26. (3인) 각자 1인분씩 하고 뿌듯했던 테마.</td>\n",
       "      <td>0</td>\n",
       "      <td>0</td>\n",
       "    </tr>\n",
       "    <tr>\n",
       "      <th>1001</th>\n",
       "      <td>첫방 디버프로 초반에 절어버림. 볼것도 못보고 힌트썼는데 잘꾸며놓았다 . 살짝 장치...</td>\n",
       "      <td>0</td>\n",
       "      <td>0</td>\n",
       "    </tr>\n",
       "    <tr>\n",
       "      <th>1002</th>\n",
       "      <td>#5 - 2인 - 볼륨에 압도됨 - 히터도 방마다 빵빵함 - 다른 테마도 궁금해짐</td>\n",
       "      <td>1</td>\n",
       "      <td>1</td>\n",
       "    </tr>\n",
       "    <tr>\n",
       "      <th>1003</th>\n",
       "      <td>265, 2인, 장치. 그걸 왜 몰랐냐. 장치에 속지 말자</td>\n",
       "      <td>0</td>\n",
       "      <td>0</td>\n",
       "    </tr>\n",
       "  </tbody>\n",
       "</table>\n",
       "<p>1001 rows × 3 columns</p>\n",
       "</div>"
      ],
      "text/plain": [
       "                                                content  scale  pred\n",
       "0                      #1415_20221128_3인. 흐음.잘 열어보지 않으면      0     0\n",
       "1                                                난.바보야.      0     0\n",
       "2       들어가자마자 커피향이 씨게 낫다 좋앗다 하지만 인테리어는 그냥그랫다. 풀정도 되는듯.      0     0\n",
       "3                                  3인. 스토리가 잘 감이 안 잡힌다!      0     0\n",
       "4                                   1.5/3인. 활동성 있음.추락조심      0     0\n",
       "...                                                 ...    ...   ...\n",
       "999                        나에겐 너무 어려웠던. 방탈짬바 있는 분들에게 추천      0     0\n",
       "1000             2021. 12. 26. (3인) 각자 1인분씩 하고 뿌듯했던 테마.      0     0\n",
       "1001  첫방 디버프로 초반에 절어버림. 볼것도 못보고 힌트썼는데 잘꾸며놓았다 . 살짝 장치...      0     0\n",
       "1002      #5 - 2인 - 볼륨에 압도됨 - 히터도 방마다 빵빵함 - 다른 테마도 궁금해짐      1     1\n",
       "1003                   265, 2인, 장치. 그걸 왜 몰랐냐. 장치에 속지 말자      0     0\n",
       "\n",
       "[1001 rows x 3 columns]"
      ]
     },
     "execution_count": 4,
     "metadata": {},
     "output_type": "execute_result"
    }
   ],
   "source": [
    "# 문장을 입력했을 때, 예측 값을 도출해주는 함수\n",
    "\n",
    "from torch.nn.functional import softmax\n",
    "\n",
    "# 함수 정의\n",
    "def classify_text(text):\n",
    "    # 문장을 토큰화하고 모델에 입력으로 전달\n",
    "    text = cleaned_content(text)\n",
    "    inputs = tokenizer(text, return_tensors=\"pt\")\n",
    "    outputs = model(**inputs)\n",
    "\n",
    "    # 소프트맥스 함수를 사용하여 확률값 계산\n",
    "    probabilities = softmax(outputs.logits, dim=1)\n",
    "\n",
    "    # 가장 높은 확률값에 해당하는 클래스 선택\n",
    "    predicted_class = torch.argmax(probabilities).item()\n",
    "\n",
    "    return predicted_class, probabilities\n",
    "\n",
    "def change_num(num):\n",
    "    if num == 0:\n",
    "        return (-1)\n",
    "    elif num == 1:\n",
    "        return 0\n",
    "    elif num == 2:\n",
    "        return 1\n",
    "\n",
    "pred_list = []\n",
    "for sent in tqdm(test_data['content']):\n",
    "    pred, _ = classify_text(sent)\n",
    "    pred_list.append(pred)\n",
    "\n",
    "test_data['pred'] = pred_list\n",
    "test_data['pred'] = test_data['pred'].apply(change_num)\n",
    "test_data\n",
    "    "
   ]
  },
  {
   "cell_type": "code",
   "execution_count": 5,
   "metadata": {},
   "outputs": [
    {
     "name": "stdout",
     "output_type": "stream",
     "text": [
      "all_ scale\n",
      " 0    4675\n",
      " 1     200\n",
      "-1     148\n",
      "Name: count, dtype: int64\n",
      "------------------------------\n",
      "train_ scale\n",
      " 0    3724\n",
      " 1     159\n",
      "-1     120\n",
      "Name: count, dtype: int64\n",
      "test_ scale\n",
      " 0    936\n",
      "-1     36\n",
      " 1     29\n",
      "Name: count, dtype: int64\n"
     ]
    }
   ],
   "source": [
    "print('all_', final_df['scale'].value_counts())\n",
    "\n",
    "print('-' * 30)\n",
    "\n",
    "print('train_', train_data['scale'].value_counts())\n",
    "print('test_', test_data['scale'].value_counts())"
   ]
  },
  {
   "cell_type": "code",
   "execution_count": 6,
   "metadata": {},
   "outputs": [
    {
     "name": "stdout",
     "output_type": "stream",
     "text": [
      "              precision    recall  f1-score   support\n",
      "\n",
      "          -1       0.97      1.00      0.99        36\n",
      "           0       1.00      1.00      1.00       936\n",
      "           1       0.90      0.97      0.93        29\n",
      "\n",
      "    accuracy                           1.00      1001\n",
      "   macro avg       0.96      0.99      0.97      1001\n",
      "weighted avg       1.00      1.00      1.00      1001\n",
      "\n",
      "              precision    recall  f1-score   support\n",
      "\n",
      "          -1       0.97      1.00      0.99        36\n",
      "           1       1.00      0.97      0.98        29\n",
      "\n",
      "    accuracy                           0.98        65\n",
      "   macro avg       0.99      0.98      0.98        65\n",
      "weighted avg       0.99      0.98      0.98        65\n",
      "\n"
     ]
    }
   ],
   "source": [
    "print(classification_report(test_data['scale'], test_data['pred']))\n",
    "test_data2 = test_data[test_data['scale'] != 0]\n",
    "print(classification_report(test_data2['scale'], test_data2['pred']))"
   ]
  },
  {
   "cell_type": "code",
   "execution_count": 7,
   "metadata": {},
   "outputs": [
    {
     "name": "stdout",
     "output_type": "stream",
     "text": [
      "문장: 테마 규모 대박, 평가: 2\n",
      "----------\n",
      "문장: 테마 규모 개좋음, 평가: 2\n",
      "----------\n",
      "문장: 규모 대박, 평가: 2\n",
      "----------\n",
      "문장: 테마 규모 개쩐다., 평가: 2\n",
      "----------\n",
      "문장: 테마 규모 좁읍, 평가: 0\n",
      "----------\n",
      "문장: 테마 규모 작음, 평가: 0\n",
      "----------\n",
      "문장: 규모 별로임, 평가: 2\n",
      "----------\n",
      "문장: 규모 최악, 평가: 2\n",
      "----------\n",
      "문장: 규모 콩알만함, 평가: 2\n",
      "----------\n"
     ]
    }
   ],
   "source": [
    "test = [\n",
    "    '테마 규모 대박',\n",
    "    '테마 규모 개좋음',\n",
    "    '규모 대박',\n",
    "    '테마 규모 개쩐다.',\n",
    "    '테마 규모 좁읍',\n",
    "    '테마 규모 작음',\n",
    "    '규모 별로임',\n",
    "    '규모 최악',\n",
    "    '규모 콩알만함',\n",
    "]\n",
    "\n",
    "for sent in test:\n",
    "    pred, _ = classify_text(sent)\n",
    "    print(f'문장: {sent}, 평가: {pred}')\n",
    "    print(\"-\"*10)"
   ]
  },
  {
   "cell_type": "markdown",
   "metadata": {},
   "source": [
    "# 4차 모델"
   ]
  },
  {
   "cell_type": "code",
   "execution_count": 4,
   "metadata": {},
   "outputs": [
    {
     "name": "stderr",
     "output_type": "stream",
     "text": [
      "/var/folders/t4/314qsssd1p718wry9j0bh9000000gn/T/ipykernel_93317/3482852253.py:10: SettingWithCopyWarning: \n",
      "A value is trying to be set on a copy of a slice from a DataFrame.\n",
      "Try using .loc[row_indexer,col_indexer] = value instead\n",
      "\n",
      "See the caveats in the documentation: https://pandas.pydata.org/pandas-docs/stable/user_guide/indexing.html#returning-a-view-versus-a-copy\n",
      "  scale_data['content_id'] = scale_data['content_id'].apply(lambda x: x.split(',')[0] if len(str(x)) > 6 else x)\n",
      "/var/folders/t4/314qsssd1p718wry9j0bh9000000gn/T/ipykernel_93317/3482852253.py:48: SettingWithCopyWarning: \n",
      "A value is trying to be set on a copy of a slice from a DataFrame.\n",
      "Try using .loc[row_indexer,col_indexer] = value instead\n",
      "\n",
      "See the caveats in the documentation: https://pandas.pydata.org/pandas-docs/stable/user_guide/indexing.html#returning-a-view-versus-a-copy\n",
      "  final_df['content'] = final_df['content'].apply(cleaned_content)\n"
     ]
    },
    {
     "name": "stdout",
     "output_type": "stream",
     "text": [
      "scale\n",
      " 0    4545\n",
      " 1     200\n",
      "-1     147\n",
      "Name: count, dtype: int64\n",
      "\n",
      "\n",
      "train_data scale\n",
      " 0    3639\n",
      " 1     159\n",
      "-1     116\n",
      "Name: count, dtype: int64\n",
      "\n",
      " test_data scale\n",
      " 0    913\n",
      "-1     36\n",
      " 1     29\n",
      "Name: count, dtype: int64\n"
     ]
    },
    {
     "name": "stderr",
     "output_type": "stream",
     "text": [
      "/var/folders/t4/314qsssd1p718wry9j0bh9000000gn/T/ipykernel_93317/3482852253.py:49: SettingWithCopyWarning: \n",
      "A value is trying to be set on a copy of a slice from a DataFrame.\n",
      "Try using .loc[row_indexer,col_indexer] = value instead\n",
      "\n",
      "See the caveats in the documentation: https://pandas.pydata.org/pandas-docs/stable/user_guide/indexing.html#returning-a-view-versus-a-copy\n",
      "  final_df['content'] = final_df['content'].apply(kiwi_clean)\n"
     ]
    }
   ],
   "source": [
    "# labeling 된 데이터 불러오기\n",
    "survey = pd.read_csv(\"./_data/survey.csv\", index_col=0)\n",
    "survey.fillna(0, inplace=True)\n",
    "survey = survey.reset_index()\n",
    "\n",
    "# 데이터 중에서 작업을 하고자 하는 라벨만 가져오기\n",
    "scale_data = survey[['content_id', 'scale']]\n",
    "\n",
    "# content_id 중에서 댓글이 같이 추가된 데이터 정리\n",
    "scale_data['content_id'] = scale_data['content_id'].apply(lambda x: x.split(',')[0] if len(str(x)) > 6 else x)\n",
    "\n",
    "# content_id 가 0인 데이터 제외 -> content_id 모두 int type 으로 변경 (추후 Merge 를 위함)\n",
    "scale_data = scale_data[scale_data['content_id'] != 0].reset_index().drop(columns=['index'])\n",
    "scale_data['content_id'] = scale_data['content_id'].astype(int)\n",
    "\n",
    "# 전체 review data 불러오기\n",
    "review_all = pd.read_csv(\"./_data/reviews.csv\", index_col=0)\n",
    "\n",
    "# 전체 review data 중에서 survey data에 있는 댓글만 가져오기\n",
    "survey_content = review_all.loc[review_all['id'].isin(scale_data['content_id'])][['id', 'content']]\n",
    "# merge 를 위해서 id 컬럼명 통일하기\n",
    "survey_content.columns=['content_id', 'content']\n",
    "\n",
    "# 통일된 content_id 를 기반으로 데이터 merge\n",
    "scale_data = pd.merge(scale_data, survey_content)\n",
    "\n",
    "# 추후 원활한 계산을 위해서 숫자 부분은 모두 int 로 바꿔줌\n",
    "scale_data['scale'] = scale_data['scale'].astype(int)\n",
    "final_df = scale_data[['content', 'scale']]\n",
    "\n",
    "# 최소한의 전처리\n",
    "def cleaned_content(text):\n",
    "    d = re.sub('\\n', '. ', text) # 줄바꿈 > .\n",
    "    d = re.sub('[^가-힣0-9a-zA-Z ]{2,}', \".\", d) # 특수문자 두개 이상인거 .으로 변경\n",
    "    return d\n",
    "\n",
    "from kiwipiepy import Kiwi\n",
    "kiwi = Kiwi()\n",
    "\n",
    "def kiwi_clean(text):\n",
    "    get_kiwi_pos = ['NNG', 'NP', 'NNP', 'MM', 'VV', 'VV-I', 'VV-R', 'VA', 'VA-I', 'VA-R', 'VCP', 'VCN', 'MAG', 'MAJ', 'XR']\n",
    "    kiwi_lem = []\n",
    "    for word in kiwi.tokenize(text):\n",
    "        if word.tag in get_kiwi_pos:\n",
    "            kiwi_lem.append(word.lemma)\n",
    "    return ' '.join(kiwi_lem)\n",
    "\n",
    "final_df['content'] = final_df['content'].apply(cleaned_content)\n",
    "final_df['content'] = final_df['content'].apply(kiwi_clean)\n",
    "\n",
    "final_df = final_df.drop_duplicates()\n",
    "final_df = final_df.reset_index().drop(columns = ['index'])\n",
    "\n",
    "# 라벨별 개수 확인\n",
    "print(final_df['scale'].value_counts())\n",
    "print('\\n')\n",
    "train_data = final_df.sample(frac=0.8, random_state=42).reset_index().drop(columns='index')\n",
    "print('train_data', train_data['scale'].value_counts())\n",
    "test_data = final_df.drop(train_data.index).reset_index().drop(columns='index')\n",
    "print('\\n', 'test_data', test_data['scale'].value_counts())"
   ]
  },
  {
   "cell_type": "code",
   "execution_count": 6,
   "metadata": {},
   "outputs": [
    {
     "name": "stderr",
     "output_type": "stream",
     "text": [
      "Some weights of ElectraForSequenceClassification were not initialized from the model checkpoint at monologg/koelectra-small-v3-discriminator and are newly initialized: ['classifier.dense.bias', 'classifier.out_proj.weight', 'classifier.dense.weight', 'classifier.out_proj.bias']\n",
      "You should probably TRAIN this model on a down-stream task to be able to use it for predictions and inference.\n"
     ]
    },
    {
     "data": {
      "text/plain": [
       "Embedding(35080, 128)"
      ]
     },
     "execution_count": 6,
     "metadata": {},
     "output_type": "execute_result"
    }
   ],
   "source": [
    "# 토큰에 추가할 단어 -> '방탈출'이라는 도메인 지시기에 근거한 용어, 분리되어서는 안 되기 때문에 별도로 추가 작업 진행\n",
    "addword = ['공테', '약공테', '감테', '창공', '갑툭튀', '삐딱', '삑', '꽝', '삑딱쾅', '삑딱쾅', '삑딱', '쫄', '극쫄',\n",
    "            '극극쫄', '쫄팟', '쫄탱', '쫄보', '극', '약탱', '탱쫄', '극극극', '뉴비', '하드캐리', '극혐', '피지컬',\n",
    "            '어거지', '뚝배기', '뚝문', '셀뚝', '억까', '트롤링', '트롤짓', '흙길', '풀길', '꽃길', '풀꽃', '꽃다발',\n",
    "            '꽃밭', '웰메이드', '인생테마', '머글', '방린이', '방유아', '방세포', '방태아', '방탈러', '과몰입러', '옵저버',\n",
    "            '리트', '연방', '혼방', '혼불', '워킹', '워크인', '장치방', '문제방', '직렬', '병렬', '육각형', '볼드', '볼드충', '에바',\n",
    "            '가이드', '조도', '조명', '밝기', '어두움', '인테리어', '비주얼', '소품', '디자인',\n",
    "            '스토리','기승전결','흐름도','결말','서사','이야기','유니버스','전개','시나리오', '개연성', '명료',\n",
    "            '창의성','창의','신선','독특','참신','발상', '연출','짜임','사실감','구현','현실감','현장감', '활동성','활동력','활동량','움직임','반경',\n",
    "            '규모','스케일','볼륨','사이즈','크기','넓이','공간감','분량', '공포','공테','무서움','담력','스릴러',\n",
    "            '문제', '장치', '기계', '센서', '기구', '불친절',\n",
    "            '메르헨', '커튼콜', '카르텔', '소우주', '풀문', '도고', '플래시', '나우히어', '나비효과', '몽중', '가이드라인',\n",
    "            '연출력', '짜임새', '공포도', '공포감', '공포심', '약공테', '문제퀄']\n",
    "\n",
    "# 사전학습된 bert 모델 사용\n",
    "# num_labels 클래스에 대해서 훈련을 하기 위해서 num_labels=3 할당함, problem_type=\"multi_label_classification\" 를 통해서 모델이 다중 레이블 분류에 해당함을 명시\n",
    "model = ElectraForSequenceClassification.from_pretrained(\"monologg/koelectra-small-v3-discriminator\", num_labels=3, problem_type=\"multi_label_classification\")\n",
    "tokenizer = ElectraTokenizer.from_pretrained(\"monologg/koelectra-base-v3-discriminator\")\n",
    "\n",
    "# token에 새로운 단어 추가 \n",
    "tokenizer.add_tokens(addword)\n",
    "# token에 단어 추가후 기존 모델의 임베딩 레이어에 추가한 단어에 대한 임베딩 벡터가 없을 수 있기 때문\n",
    "# 아래 코드를 통해서 토큰의 개수가 변했음을 모델에 알리고 모델의 임베딩 레이어를 조정하여 새로운 토큰을 수용할 수 있게 함\n",
    "model.resize_token_embeddings(len(tokenizer))"
   ]
  },
  {
   "cell_type": "code",
   "execution_count": 7,
   "metadata": {},
   "outputs": [],
   "source": [
    "# train content 토큰화\n",
    "tokenized_train_sentences = tokenizer(\n",
    "    list(train_data['content']),\n",
    "    return_tensors=\"pt\",\n",
    "    max_length=128,\n",
    "    padding=True,\n",
    "    truncation=True,\n",
    "    add_special_tokens=True\n",
    ")\n",
    "\n",
    "# test content 토큰화\n",
    "tokenized_test_sentences = tokenizer(\n",
    "    list(test_data['content']),\n",
    "    return_tensors=\"pt\",\n",
    "    max_length=128,\n",
    "    padding=True,\n",
    "    truncation=True,\n",
    "    add_special_tokens=True\n",
    ")\n",
    "\n",
    "# 분류 모델에 넣기 위해서 1차원으로 구성된 세 개의 클래스를 2차원으로 재구성 후 label 로 투입\n",
    "# -1(부정)=0, 0(중립)=1, 1(긍정)=2\n",
    "\n",
    "train_label = []\n",
    "for label in train_data[\"scale\"].values:\n",
    "    if label == -1:\n",
    "        train_label.append([1., 0., 0.])\n",
    "    elif label == 0:\n",
    "        train_label.append([0., 1., 0.])\n",
    "    elif label == 1:\n",
    "        train_label.append([0., 0., 1.])\n",
    "\n",
    "test_label = []\n",
    "for label in test_data['scale'].values:\n",
    "    if label == 0:\n",
    "        test_label.append([0., 1., 0.])\n",
    "    elif label == -1:\n",
    "        test_label.append([1., 0., 0.])\n",
    "    elif label == 1:\n",
    "        test_label.append([0., 0., 1.])\n",
    "\n",
    "# model 에 넣기 위한 dataset 생성 class\n",
    "class CurseDataset(torch.utils.data.Dataset):\n",
    "    def __init__(self, encodings, labels):\n",
    "        self.encodings = encodings\n",
    "        self.labels = labels\n",
    "    \n",
    "    def __getitem__(self, idx):\n",
    "        item = {key: torch.tensor(val[idx]) for key, val in self.encodings.items()}\n",
    "        item[\"labels\"] = torch.tensor(self.labels[idx])\n",
    "        return item\n",
    "    \n",
    "    def __len__(self):\n",
    "        return len(self.labels)\n",
    "        \n",
    "# bert 모델에 데이터가 들어갈 수 있게 만들어 둔 class를 활용하여 train, test dataset 생성\n",
    "train_dataset = CurseDataset(tokenized_train_sentences, train_label)\n",
    "test_dataset = CurseDataset(tokenized_test_sentences, test_label)\n",
    "\n",
    "# hugging face 의 trasformers 라이브러리를 사용하여 모델 훈련시킬 때 사용되는 객체 설정 부분\n",
    "training_args = TrainingArguments(\n",
    "    output_dir = './scale_model/check_point/try_4',    # 모델과 훈련 중 생성되는 파일이 저장될 디렉토리 경로\n",
    "    num_train_epochs = 30,              # 훈련 epoch 수\n",
    "    per_device_train_batch_size = 8,    # 장치에 할당된 훈련 배치 크기\n",
    "    per_device_eval_batch_size = 16,    # 장치에 할당된 평가 배치 크기, 모델을 평가할 때 사용되는 배치 크기\n",
    "    logging_dir = './logs',             # 훈련 중 로그 파일이 저장될 디렉토리\n",
    "    logging_steps = 500,                # 로그 출력 빈도, 500 step에 한 번씩 출력 예정\n",
    "    save_total_limit = 2,               # 체크포인트 파일 저장 제한 수\n",
    ")\n",
    "\n",
    "# hugging face 의 trasformers 라이브러리를 사용하여 모델 훈련하고 관리하는 객체 설정 부분\n",
    "trainer = Trainer(\n",
    "    model=model,\n",
    "    args=training_args,\n",
    "    train_dataset=train_dataset,\n",
    "    eval_dataset=test_dataset,\n",
    ")"
   ]
  },
  {
   "cell_type": "code",
   "execution_count": 8,
   "metadata": {},
   "outputs": [
    {
     "name": "stderr",
     "output_type": "stream",
     "text": [
      "  0%|          | 0/14700 [00:00<?, ?it/s]/var/folders/t4/314qsssd1p718wry9j0bh9000000gn/T/ipykernel_74840/3346513247.py:49: UserWarning: To copy construct from a tensor, it is recommended to use sourceTensor.clone().detach() or sourceTensor.clone().detach().requires_grad_(True), rather than torch.tensor(sourceTensor).\n",
      "  item = {key: torch.tensor(val[idx]) for key, val in self.encodings.items()}\n",
      "  3%|▎         | 500/14700 [01:24<39:36,  5.98it/s]  "
     ]
    },
    {
     "name": "stdout",
     "output_type": "stream",
     "text": [
      "{'loss': 0.2566, 'learning_rate': 4.8299319727891155e-05, 'epoch': 1.02}\n"
     ]
    },
    {
     "name": "stderr",
     "output_type": "stream",
     "text": [
      "/var/folders/t4/314qsssd1p718wry9j0bh9000000gn/T/ipykernel_74840/3346513247.py:49: UserWarning: To copy construct from a tensor, it is recommended to use sourceTensor.clone().detach() or sourceTensor.clone().detach().requires_grad_(True), rather than torch.tensor(sourceTensor).\n",
      "  item = {key: torch.tensor(val[idx]) for key, val in self.encodings.items()}\n",
      "  7%|▋         | 1000/14700 [02:50<39:24,  5.79it/s] "
     ]
    },
    {
     "name": "stdout",
     "output_type": "stream",
     "text": [
      "{'loss': 0.1874, 'learning_rate': 4.6598639455782315e-05, 'epoch': 2.04}\n"
     ]
    },
    {
     "name": "stderr",
     "output_type": "stream",
     "text": [
      "/var/folders/t4/314qsssd1p718wry9j0bh9000000gn/T/ipykernel_74840/3346513247.py:49: UserWarning: To copy construct from a tensor, it is recommended to use sourceTensor.clone().detach() or sourceTensor.clone().detach().requires_grad_(True), rather than torch.tensor(sourceTensor).\n",
      "  item = {key: torch.tensor(val[idx]) for key, val in self.encodings.items()}\n",
      " 10%|█         | 1500/14700 [04:16<37:50,  5.81it/s]  "
     ]
    },
    {
     "name": "stdout",
     "output_type": "stream",
     "text": [
      "{'loss': 0.1843, 'learning_rate': 4.4897959183673474e-05, 'epoch': 3.06}\n"
     ]
    },
    {
     "name": "stderr",
     "output_type": "stream",
     "text": [
      "/var/folders/t4/314qsssd1p718wry9j0bh9000000gn/T/ipykernel_74840/3346513247.py:49: UserWarning: To copy construct from a tensor, it is recommended to use sourceTensor.clone().detach() or sourceTensor.clone().detach().requires_grad_(True), rather than torch.tensor(sourceTensor).\n",
      "  item = {key: torch.tensor(val[idx]) for key, val in self.encodings.items()}\n",
      " 14%|█▎        | 2000/14700 [05:41<35:31,  5.96it/s]  "
     ]
    },
    {
     "name": "stdout",
     "output_type": "stream",
     "text": [
      "{'loss': 0.1688, 'learning_rate': 4.319727891156463e-05, 'epoch': 4.08}\n"
     ]
    },
    {
     "name": "stderr",
     "output_type": "stream",
     "text": [
      "/var/folders/t4/314qsssd1p718wry9j0bh9000000gn/T/ipykernel_74840/3346513247.py:49: UserWarning: To copy construct from a tensor, it is recommended to use sourceTensor.clone().detach() or sourceTensor.clone().detach().requires_grad_(True), rather than torch.tensor(sourceTensor).\n",
      "  item = {key: torch.tensor(val[idx]) for key, val in self.encodings.items()}\n",
      " 17%|█▋        | 2500/14700 [07:06<33:30,  6.07it/s]  "
     ]
    },
    {
     "name": "stdout",
     "output_type": "stream",
     "text": [
      "{'loss': 0.1165, 'learning_rate': 4.149659863945579e-05, 'epoch': 5.1}\n"
     ]
    },
    {
     "name": "stderr",
     "output_type": "stream",
     "text": [
      "/var/folders/t4/314qsssd1p718wry9j0bh9000000gn/T/ipykernel_74840/3346513247.py:49: UserWarning: To copy construct from a tensor, it is recommended to use sourceTensor.clone().detach() or sourceTensor.clone().detach().requires_grad_(True), rather than torch.tensor(sourceTensor).\n",
      "  item = {key: torch.tensor(val[idx]) for key, val in self.encodings.items()}\n",
      " 20%|██        | 3000/14700 [08:29<32:15,  6.04it/s]"
     ]
    },
    {
     "name": "stdout",
     "output_type": "stream",
     "text": [
      "{'loss': 0.1177, 'learning_rate': 3.979591836734694e-05, 'epoch': 6.12}\n"
     ]
    },
    {
     "name": "stderr",
     "output_type": "stream",
     "text": [
      "/var/folders/t4/314qsssd1p718wry9j0bh9000000gn/T/ipykernel_74840/3346513247.py:49: UserWarning: To copy construct from a tensor, it is recommended to use sourceTensor.clone().detach() or sourceTensor.clone().detach().requires_grad_(True), rather than torch.tensor(sourceTensor).\n",
      "  item = {key: torch.tensor(val[idx]) for key, val in self.encodings.items()}\n",
      " 24%|██▍       | 3500/14700 [09:53<31:01,  6.02it/s]"
     ]
    },
    {
     "name": "stdout",
     "output_type": "stream",
     "text": [
      "{'loss': 0.117, 'learning_rate': 3.809523809523809e-05, 'epoch': 7.14}\n"
     ]
    },
    {
     "name": "stderr",
     "output_type": "stream",
     "text": [
      "/var/folders/t4/314qsssd1p718wry9j0bh9000000gn/T/ipykernel_74840/3346513247.py:49: UserWarning: To copy construct from a tensor, it is recommended to use sourceTensor.clone().detach() or sourceTensor.clone().detach().requires_grad_(True), rather than torch.tensor(sourceTensor).\n",
      "  item = {key: torch.tensor(val[idx]) for key, val in self.encodings.items()}\n",
      " 27%|██▋       | 4000/14700 [11:16<29:01,  6.14it/s]"
     ]
    },
    {
     "name": "stdout",
     "output_type": "stream",
     "text": [
      "{'loss': 0.1132, 'learning_rate': 3.639455782312925e-05, 'epoch': 8.16}\n"
     ]
    },
    {
     "name": "stderr",
     "output_type": "stream",
     "text": [
      "/var/folders/t4/314qsssd1p718wry9j0bh9000000gn/T/ipykernel_74840/3346513247.py:49: UserWarning: To copy construct from a tensor, it is recommended to use sourceTensor.clone().detach() or sourceTensor.clone().detach().requires_grad_(True), rather than torch.tensor(sourceTensor).\n",
      "  item = {key: torch.tensor(val[idx]) for key, val in self.encodings.items()}\n",
      " 31%|███       | 4500/14700 [12:40<28:30,  5.96it/s]"
     ]
    },
    {
     "name": "stdout",
     "output_type": "stream",
     "text": [
      "{'loss': 0.1107, 'learning_rate': 3.469387755102041e-05, 'epoch': 9.18}\n"
     ]
    },
    {
     "name": "stderr",
     "output_type": "stream",
     "text": [
      "/var/folders/t4/314qsssd1p718wry9j0bh9000000gn/T/ipykernel_74840/3346513247.py:49: UserWarning: To copy construct from a tensor, it is recommended to use sourceTensor.clone().detach() or sourceTensor.clone().detach().requires_grad_(True), rather than torch.tensor(sourceTensor).\n",
      "  item = {key: torch.tensor(val[idx]) for key, val in self.encodings.items()}\n",
      " 34%|███▍      | 5000/14700 [14:04<26:57,  6.00it/s]"
     ]
    },
    {
     "name": "stdout",
     "output_type": "stream",
     "text": [
      "{'loss': 0.0922, 'learning_rate': 3.2993197278911564e-05, 'epoch': 10.2}\n"
     ]
    },
    {
     "name": "stderr",
     "output_type": "stream",
     "text": [
      "/var/folders/t4/314qsssd1p718wry9j0bh9000000gn/T/ipykernel_74840/3346513247.py:49: UserWarning: To copy construct from a tensor, it is recommended to use sourceTensor.clone().detach() or sourceTensor.clone().detach().requires_grad_(True), rather than torch.tensor(sourceTensor).\n",
      "  item = {key: torch.tensor(val[idx]) for key, val in self.encodings.items()}\n",
      " 37%|███▋      | 5500/14700 [15:27<25:30,  6.01it/s]"
     ]
    },
    {
     "name": "stdout",
     "output_type": "stream",
     "text": [
      "{'loss': 0.0896, 'learning_rate': 3.1292517006802724e-05, 'epoch': 11.22}\n"
     ]
    },
    {
     "name": "stderr",
     "output_type": "stream",
     "text": [
      "/var/folders/t4/314qsssd1p718wry9j0bh9000000gn/T/ipykernel_74840/3346513247.py:49: UserWarning: To copy construct from a tensor, it is recommended to use sourceTensor.clone().detach() or sourceTensor.clone().detach().requires_grad_(True), rather than torch.tensor(sourceTensor).\n",
      "  item = {key: torch.tensor(val[idx]) for key, val in self.encodings.items()}\n",
      " 41%|████      | 6000/14700 [16:51<23:55,  6.06it/s]"
     ]
    },
    {
     "name": "stdout",
     "output_type": "stream",
     "text": [
      "{'loss': 0.0877, 'learning_rate': 2.959183673469388e-05, 'epoch': 12.24}\n"
     ]
    },
    {
     "name": "stderr",
     "output_type": "stream",
     "text": [
      "/var/folders/t4/314qsssd1p718wry9j0bh9000000gn/T/ipykernel_74840/3346513247.py:49: UserWarning: To copy construct from a tensor, it is recommended to use sourceTensor.clone().detach() or sourceTensor.clone().detach().requires_grad_(True), rather than torch.tensor(sourceTensor).\n",
      "  item = {key: torch.tensor(val[idx]) for key, val in self.encodings.items()}\n",
      " 44%|████▍     | 6500/14700 [18:14<22:22,  6.11it/s]"
     ]
    },
    {
     "name": "stdout",
     "output_type": "stream",
     "text": [
      "{'loss': 0.0798, 'learning_rate': 2.7891156462585033e-05, 'epoch': 13.27}\n"
     ]
    },
    {
     "name": "stderr",
     "output_type": "stream",
     "text": [
      "/var/folders/t4/314qsssd1p718wry9j0bh9000000gn/T/ipykernel_74840/3346513247.py:49: UserWarning: To copy construct from a tensor, it is recommended to use sourceTensor.clone().detach() or sourceTensor.clone().detach().requires_grad_(True), rather than torch.tensor(sourceTensor).\n",
      "  item = {key: torch.tensor(val[idx]) for key, val in self.encodings.items()}\n",
      " 48%|████▊     | 7000/14700 [19:38<21:16,  6.03it/s]"
     ]
    },
    {
     "name": "stdout",
     "output_type": "stream",
     "text": [
      "{'loss': 0.0782, 'learning_rate': 2.6190476190476192e-05, 'epoch': 14.29}\n"
     ]
    },
    {
     "name": "stderr",
     "output_type": "stream",
     "text": [
      "/var/folders/t4/314qsssd1p718wry9j0bh9000000gn/T/ipykernel_74840/3346513247.py:49: UserWarning: To copy construct from a tensor, it is recommended to use sourceTensor.clone().detach() or sourceTensor.clone().detach().requires_grad_(True), rather than torch.tensor(sourceTensor).\n",
      "  item = {key: torch.tensor(val[idx]) for key, val in self.encodings.items()}\n",
      " 51%|█████     | 7500/14700 [21:01<20:27,  5.86it/s]"
     ]
    },
    {
     "name": "stdout",
     "output_type": "stream",
     "text": [
      "{'loss': 0.0787, 'learning_rate': 2.448979591836735e-05, 'epoch': 15.31}\n"
     ]
    },
    {
     "name": "stderr",
     "output_type": "stream",
     "text": [
      "/var/folders/t4/314qsssd1p718wry9j0bh9000000gn/T/ipykernel_74840/3346513247.py:49: UserWarning: To copy construct from a tensor, it is recommended to use sourceTensor.clone().detach() or sourceTensor.clone().detach().requires_grad_(True), rather than torch.tensor(sourceTensor).\n",
      "  item = {key: torch.tensor(val[idx]) for key, val in self.encodings.items()}\n",
      " 54%|█████▍    | 8000/14700 [22:25<18:28,  6.05it/s]"
     ]
    },
    {
     "name": "stdout",
     "output_type": "stream",
     "text": [
      "{'loss': 0.0776, 'learning_rate': 2.2789115646258505e-05, 'epoch': 16.33}\n"
     ]
    },
    {
     "name": "stderr",
     "output_type": "stream",
     "text": [
      "/var/folders/t4/314qsssd1p718wry9j0bh9000000gn/T/ipykernel_74840/3346513247.py:49: UserWarning: To copy construct from a tensor, it is recommended to use sourceTensor.clone().detach() or sourceTensor.clone().detach().requires_grad_(True), rather than torch.tensor(sourceTensor).\n",
      "  item = {key: torch.tensor(val[idx]) for key, val in self.encodings.items()}\n",
      " 58%|█████▊    | 8500/14700 [23:48<16:56,  6.10it/s]"
     ]
    },
    {
     "name": "stdout",
     "output_type": "stream",
     "text": [
      "{'loss': 0.0638, 'learning_rate': 2.108843537414966e-05, 'epoch': 17.35}\n"
     ]
    },
    {
     "name": "stderr",
     "output_type": "stream",
     "text": [
      "/var/folders/t4/314qsssd1p718wry9j0bh9000000gn/T/ipykernel_74840/3346513247.py:49: UserWarning: To copy construct from a tensor, it is recommended to use sourceTensor.clone().detach() or sourceTensor.clone().detach().requires_grad_(True), rather than torch.tensor(sourceTensor).\n",
      "  item = {key: torch.tensor(val[idx]) for key, val in self.encodings.items()}\n",
      " 61%|██████    | 9000/14700 [25:12<15:47,  6.02it/s]"
     ]
    },
    {
     "name": "stdout",
     "output_type": "stream",
     "text": [
      "{'loss': 0.0729, 'learning_rate': 1.9387755102040817e-05, 'epoch': 18.37}\n"
     ]
    },
    {
     "name": "stderr",
     "output_type": "stream",
     "text": [
      "/var/folders/t4/314qsssd1p718wry9j0bh9000000gn/T/ipykernel_74840/3346513247.py:49: UserWarning: To copy construct from a tensor, it is recommended to use sourceTensor.clone().detach() or sourceTensor.clone().detach().requires_grad_(True), rather than torch.tensor(sourceTensor).\n",
      "  item = {key: torch.tensor(val[idx]) for key, val in self.encodings.items()}\n",
      " 65%|██████▍   | 9500/14700 [26:35<14:31,  5.97it/s]"
     ]
    },
    {
     "name": "stdout",
     "output_type": "stream",
     "text": [
      "{'loss': 0.0544, 'learning_rate': 1.7687074829931973e-05, 'epoch': 19.39}\n"
     ]
    },
    {
     "name": "stderr",
     "output_type": "stream",
     "text": [
      "/var/folders/t4/314qsssd1p718wry9j0bh9000000gn/T/ipykernel_74840/3346513247.py:49: UserWarning: To copy construct from a tensor, it is recommended to use sourceTensor.clone().detach() or sourceTensor.clone().detach().requires_grad_(True), rather than torch.tensor(sourceTensor).\n",
      "  item = {key: torch.tensor(val[idx]) for key, val in self.encodings.items()}\n",
      " 68%|██████▊   | 10000/14700 [27:59<13:03,  6.00it/s]"
     ]
    },
    {
     "name": "stdout",
     "output_type": "stream",
     "text": [
      "{'loss': 0.0599, 'learning_rate': 1.5986394557823133e-05, 'epoch': 20.41}\n"
     ]
    },
    {
     "name": "stderr",
     "output_type": "stream",
     "text": [
      "/var/folders/t4/314qsssd1p718wry9j0bh9000000gn/T/ipykernel_74840/3346513247.py:49: UserWarning: To copy construct from a tensor, it is recommended to use sourceTensor.clone().detach() or sourceTensor.clone().detach().requires_grad_(True), rather than torch.tensor(sourceTensor).\n",
      "  item = {key: torch.tensor(val[idx]) for key, val in self.encodings.items()}\n",
      " 71%|███████▏  | 10500/14700 [29:22<11:28,  6.10it/s]"
     ]
    },
    {
     "name": "stdout",
     "output_type": "stream",
     "text": [
      "{'loss': 0.0502, 'learning_rate': 1.4285714285714285e-05, 'epoch': 21.43}\n"
     ]
    },
    {
     "name": "stderr",
     "output_type": "stream",
     "text": [
      "/var/folders/t4/314qsssd1p718wry9j0bh9000000gn/T/ipykernel_74840/3346513247.py:49: UserWarning: To copy construct from a tensor, it is recommended to use sourceTensor.clone().detach() or sourceTensor.clone().detach().requires_grad_(True), rather than torch.tensor(sourceTensor).\n",
      "  item = {key: torch.tensor(val[idx]) for key, val in self.encodings.items()}\n",
      " 75%|███████▍  | 11000/14700 [30:46<10:15,  6.02it/s]"
     ]
    },
    {
     "name": "stdout",
     "output_type": "stream",
     "text": [
      "{'loss': 0.0548, 'learning_rate': 1.2585034013605443e-05, 'epoch': 22.45}\n"
     ]
    },
    {
     "name": "stderr",
     "output_type": "stream",
     "text": [
      "/var/folders/t4/314qsssd1p718wry9j0bh9000000gn/T/ipykernel_74840/3346513247.py:49: UserWarning: To copy construct from a tensor, it is recommended to use sourceTensor.clone().detach() or sourceTensor.clone().detach().requires_grad_(True), rather than torch.tensor(sourceTensor).\n",
      "  item = {key: torch.tensor(val[idx]) for key, val in self.encodings.items()}\n",
      " 78%|███████▊  | 11500/14700 [32:09<08:47,  6.07it/s]"
     ]
    },
    {
     "name": "stdout",
     "output_type": "stream",
     "text": [
      "{'loss': 0.0525, 'learning_rate': 1.08843537414966e-05, 'epoch': 23.47}\n"
     ]
    },
    {
     "name": "stderr",
     "output_type": "stream",
     "text": [
      "/var/folders/t4/314qsssd1p718wry9j0bh9000000gn/T/ipykernel_74840/3346513247.py:49: UserWarning: To copy construct from a tensor, it is recommended to use sourceTensor.clone().detach() or sourceTensor.clone().detach().requires_grad_(True), rather than torch.tensor(sourceTensor).\n",
      "  item = {key: torch.tensor(val[idx]) for key, val in self.encodings.items()}\n",
      " 82%|████████▏ | 12000/14700 [33:33<07:28,  6.02it/s]"
     ]
    },
    {
     "name": "stdout",
     "output_type": "stream",
     "text": [
      "{'loss': 0.0474, 'learning_rate': 9.183673469387756e-06, 'epoch': 24.49}\n"
     ]
    },
    {
     "name": "stderr",
     "output_type": "stream",
     "text": [
      "/var/folders/t4/314qsssd1p718wry9j0bh9000000gn/T/ipykernel_74840/3346513247.py:49: UserWarning: To copy construct from a tensor, it is recommended to use sourceTensor.clone().detach() or sourceTensor.clone().detach().requires_grad_(True), rather than torch.tensor(sourceTensor).\n",
      "  item = {key: torch.tensor(val[idx]) for key, val in self.encodings.items()}\n",
      " 85%|████████▌ | 12500/14700 [34:56<06:06,  6.00it/s]"
     ]
    },
    {
     "name": "stdout",
     "output_type": "stream",
     "text": [
      "{'loss': 0.05, 'learning_rate': 7.482993197278912e-06, 'epoch': 25.51}\n"
     ]
    },
    {
     "name": "stderr",
     "output_type": "stream",
     "text": [
      "/var/folders/t4/314qsssd1p718wry9j0bh9000000gn/T/ipykernel_74840/3346513247.py:49: UserWarning: To copy construct from a tensor, it is recommended to use sourceTensor.clone().detach() or sourceTensor.clone().detach().requires_grad_(True), rather than torch.tensor(sourceTensor).\n",
      "  item = {key: torch.tensor(val[idx]) for key, val in self.encodings.items()}\n",
      " 88%|████████▊ | 13000/14700 [36:20<04:42,  6.01it/s]"
     ]
    },
    {
     "name": "stdout",
     "output_type": "stream",
     "text": [
      "{'loss': 0.0398, 'learning_rate': 5.782312925170069e-06, 'epoch': 26.53}\n"
     ]
    },
    {
     "name": "stderr",
     "output_type": "stream",
     "text": [
      "/var/folders/t4/314qsssd1p718wry9j0bh9000000gn/T/ipykernel_74840/3346513247.py:49: UserWarning: To copy construct from a tensor, it is recommended to use sourceTensor.clone().detach() or sourceTensor.clone().detach().requires_grad_(True), rather than torch.tensor(sourceTensor).\n",
      "  item = {key: torch.tensor(val[idx]) for key, val in self.encodings.items()}\n",
      " 92%|█████████▏| 13500/14700 [37:43<03:21,  5.95it/s]"
     ]
    },
    {
     "name": "stdout",
     "output_type": "stream",
     "text": [
      "{'loss': 0.0381, 'learning_rate': 4.081632653061224e-06, 'epoch': 27.55}\n"
     ]
    },
    {
     "name": "stderr",
     "output_type": "stream",
     "text": [
      "/var/folders/t4/314qsssd1p718wry9j0bh9000000gn/T/ipykernel_74840/3346513247.py:49: UserWarning: To copy construct from a tensor, it is recommended to use sourceTensor.clone().detach() or sourceTensor.clone().detach().requires_grad_(True), rather than torch.tensor(sourceTensor).\n",
      "  item = {key: torch.tensor(val[idx]) for key, val in self.encodings.items()}\n",
      " 95%|█████████▌| 14000/14700 [39:07<01:56,  6.01it/s]"
     ]
    },
    {
     "name": "stdout",
     "output_type": "stream",
     "text": [
      "{'loss': 0.0471, 'learning_rate': 2.3809523809523808e-06, 'epoch': 28.57}\n"
     ]
    },
    {
     "name": "stderr",
     "output_type": "stream",
     "text": [
      "/var/folders/t4/314qsssd1p718wry9j0bh9000000gn/T/ipykernel_74840/3346513247.py:49: UserWarning: To copy construct from a tensor, it is recommended to use sourceTensor.clone().detach() or sourceTensor.clone().detach().requires_grad_(True), rather than torch.tensor(sourceTensor).\n",
      "  item = {key: torch.tensor(val[idx]) for key, val in self.encodings.items()}\n",
      " 99%|█████████▊| 14500/14700 [40:30<00:33,  6.01it/s]"
     ]
    },
    {
     "name": "stdout",
     "output_type": "stream",
     "text": [
      "{'loss': 0.0397, 'learning_rate': 6.802721088435375e-07, 'epoch': 29.59}\n"
     ]
    },
    {
     "name": "stderr",
     "output_type": "stream",
     "text": [
      "/var/folders/t4/314qsssd1p718wry9j0bh9000000gn/T/ipykernel_74840/3346513247.py:49: UserWarning: To copy construct from a tensor, it is recommended to use sourceTensor.clone().detach() or sourceTensor.clone().detach().requires_grad_(True), rather than torch.tensor(sourceTensor).\n",
      "  item = {key: torch.tensor(val[idx]) for key, val in self.encodings.items()}\n",
      "100%|██████████| 14700/14700 [41:04<00:00,  5.97it/s]"
     ]
    },
    {
     "name": "stdout",
     "output_type": "stream",
     "text": [
      "{'train_runtime': 2464.3528, 'train_samples_per_second': 47.647, 'train_steps_per_second': 5.965, 'train_loss': 0.08986154724951503, 'epoch': 30.0}\n"
     ]
    },
    {
     "name": "stderr",
     "output_type": "stream",
     "text": [
      "\n"
     ]
    },
    {
     "data": {
      "text/plain": [
       "TrainOutput(global_step=14700, training_loss=0.08986154724951503, metrics={'train_runtime': 2464.3528, 'train_samples_per_second': 47.647, 'train_steps_per_second': 5.965, 'train_loss': 0.08986154724951503, 'epoch': 30.0})"
      ]
     },
     "execution_count": 8,
     "metadata": {},
     "output_type": "execute_result"
    }
   ],
   "source": [
    "# train 진행\n",
    "trainer.train() "
   ]
  },
  {
   "cell_type": "code",
   "execution_count": 9,
   "metadata": {},
   "outputs": [
    {
     "data": {
      "text/plain": [
       "('./scale_model/try_4/scale_tokenizer4/tokenizer_config.json',\n",
       " './scale_model/try_4/scale_tokenizer4/special_tokens_map.json',\n",
       " './scale_model/try_4/scale_tokenizer4/vocab.txt',\n",
       " './scale_model/try_4/scale_tokenizer4/added_tokens.json')"
      ]
     },
     "execution_count": 9,
     "metadata": {},
     "output_type": "execute_result"
    }
   ],
   "source": [
    "trainer.save_model(\"./scale_model/try_4/scale_model4\")\n",
    "tokenizer.save_pretrained(\"./scale_model/try_4/scale_tokenizer4\")"
   ]
  },
  {
   "cell_type": "code",
   "execution_count": 2,
   "metadata": {},
   "outputs": [
    {
     "name": "stderr",
     "output_type": "stream",
     "text": [
      "Special tokens have been added in the vocabulary, make sure the associated word embeddings are fine-tuned or trained.\n"
     ]
    }
   ],
   "source": [
    "# 저장된 모델과 토크나이저를 불러오기\n",
    "\n",
    "model_path = \"./scale_model/try_4/scale_model4\"\n",
    "tokenizer_path = \"./scale_model/try_4/scale_tokenizer4\"\n",
    "\n",
    "model = ElectraForSequenceClassification.from_pretrained(model_path)\n",
    "tokenizer = ElectraTokenizer.from_pretrained(tokenizer_path)"
   ]
  },
  {
   "cell_type": "code",
   "execution_count": 5,
   "metadata": {},
   "outputs": [
    {
     "name": "stderr",
     "output_type": "stream",
     "text": [
      "  0%|          | 0/978 [00:00<?, ?it/s]"
     ]
    },
    {
     "name": "stderr",
     "output_type": "stream",
     "text": [
      "100%|██████████| 978/978 [00:10<00:00, 96.48it/s] \n"
     ]
    },
    {
     "data": {
      "text/html": [
       "<div>\n",
       "<style scoped>\n",
       "    .dataframe tbody tr th:only-of-type {\n",
       "        vertical-align: middle;\n",
       "    }\n",
       "\n",
       "    .dataframe tbody tr th {\n",
       "        vertical-align: top;\n",
       "    }\n",
       "\n",
       "    .dataframe thead th {\n",
       "        text-align: right;\n",
       "    }\n",
       "</style>\n",
       "<table border=\"1\" class=\"dataframe\">\n",
       "  <thead>\n",
       "    <tr style=\"text-align: right;\">\n",
       "      <th></th>\n",
       "      <th>content</th>\n",
       "      <th>scale</th>\n",
       "      <th>pred</th>\n",
       "    </tr>\n",
       "  </thead>\n",
       "  <tbody>\n",
       "    <tr>\n",
       "      <th>0</th>\n",
       "      <td>인 활동 있다 추락 조심</td>\n",
       "      <td>0</td>\n",
       "      <td>0</td>\n",
       "    </tr>\n",
       "    <tr>\n",
       "      <th>1</th>\n",
       "      <td>인 나 눈 없다 치다</td>\n",
       "      <td>0</td>\n",
       "      <td>0</td>\n",
       "    </tr>\n",
       "    <tr>\n",
       "      <th>2</th>\n",
       "      <td>인테리어 향기 굿 문제 전반 쉽다 문제 이다 같다 나 능지 얼마나 낮다 알다 있다</td>\n",
       "      <td>0</td>\n",
       "      <td>0</td>\n",
       "    </tr>\n",
       "    <tr>\n",
       "      <th>3</th>\n",
       "      <td>문제 재밌다 타임 어택 느낌 좋다 급하다 하다 스토리 못 즐기다 아쉽다</td>\n",
       "      <td>0</td>\n",
       "      <td>0</td>\n",
       "    </tr>\n",
       "    <tr>\n",
       "      <th>4</th>\n",
       "      <td>첫 탈출 우왕좌왕 그래도 거의 탈출 코앞 이다</td>\n",
       "      <td>0</td>\n",
       "      <td>0</td>\n",
       "    </tr>\n",
       "    <tr>\n",
       "      <th>...</th>\n",
       "      <td>...</td>\n",
       "      <td>...</td>\n",
       "      <td>...</td>\n",
       "    </tr>\n",
       "    <tr>\n",
       "      <th>973</th>\n",
       "      <td>나 너무 어렵다 방탈짬바 있다 추천</td>\n",
       "      <td>0</td>\n",
       "      <td>0</td>\n",
       "    </tr>\n",
       "    <tr>\n",
       "      <th>974</th>\n",
       "      <td>인 각자 하다 뿌듯하다 테마</td>\n",
       "      <td>0</td>\n",
       "      <td>0</td>\n",
       "    </tr>\n",
       "    <tr>\n",
       "      <th>975</th>\n",
       "      <td>첫 디버프로 초반 절다 보다 못 보다 힌트 쓰다 잘 꾸미다 살짝 장치 오류 아쉽다</td>\n",
       "      <td>0</td>\n",
       "      <td>0</td>\n",
       "    </tr>\n",
       "    <tr>\n",
       "      <th>976</th>\n",
       "      <td>인 볼륨 압도 히터 방 빵빵하다 다른 테마 궁금</td>\n",
       "      <td>1</td>\n",
       "      <td>-1</td>\n",
       "    </tr>\n",
       "    <tr>\n",
       "      <th>977</th>\n",
       "      <td>인 장치 그거 왜 모르다 장치 속다</td>\n",
       "      <td>0</td>\n",
       "      <td>0</td>\n",
       "    </tr>\n",
       "  </tbody>\n",
       "</table>\n",
       "<p>978 rows × 3 columns</p>\n",
       "</div>"
      ],
      "text/plain": [
       "                                           content  scale  pred\n",
       "0                                    인 활동 있다 추락 조심      0     0\n",
       "1                                      인 나 눈 없다 치다      0     0\n",
       "2    인테리어 향기 굿 문제 전반 쉽다 문제 이다 같다 나 능지 얼마나 낮다 알다 있다      0     0\n",
       "3          문제 재밌다 타임 어택 느낌 좋다 급하다 하다 스토리 못 즐기다 아쉽다      0     0\n",
       "4                        첫 탈출 우왕좌왕 그래도 거의 탈출 코앞 이다      0     0\n",
       "..                                             ...    ...   ...\n",
       "973                            나 너무 어렵다 방탈짬바 있다 추천      0     0\n",
       "974                                인 각자 하다 뿌듯하다 테마      0     0\n",
       "975  첫 디버프로 초반 절다 보다 못 보다 힌트 쓰다 잘 꾸미다 살짝 장치 오류 아쉽다      0     0\n",
       "976                     인 볼륨 압도 히터 방 빵빵하다 다른 테마 궁금      1    -1\n",
       "977                            인 장치 그거 왜 모르다 장치 속다      0     0\n",
       "\n",
       "[978 rows x 3 columns]"
      ]
     },
     "execution_count": 5,
     "metadata": {},
     "output_type": "execute_result"
    }
   ],
   "source": [
    "# 문장을 입력했을 때, 예측 값을 도출해주는 함수\n",
    "\n",
    "from torch.nn.functional import softmax\n",
    "\n",
    "# 함수 정의\n",
    "def classify_text(text):\n",
    "    # 문장을 토큰화하고 모델에 입력으로 전달\n",
    "    text = cleaned_content(text)\n",
    "    inputs = tokenizer(text, return_tensors=\"pt\")\n",
    "    outputs = model(**inputs)\n",
    "\n",
    "    # 소프트맥스 함수를 사용하여 확률값 계산\n",
    "    probabilities = softmax(outputs.logits, dim=1)\n",
    "\n",
    "    # 가장 높은 확률값에 해당하는 클래스 선택\n",
    "    predicted_class = torch.argmax(probabilities).item()\n",
    "\n",
    "    return predicted_class, probabilities\n",
    "\n",
    "def change_num(num):\n",
    "    if num == 0:\n",
    "        return (-1)\n",
    "    elif num == 1:\n",
    "        return 0\n",
    "    elif num == 2:\n",
    "        return 1\n",
    "\n",
    "pred_list = []\n",
    "for sent in tqdm(test_data['content']):\n",
    "    pred, _ = classify_text(sent)\n",
    "    pred_list.append(pred)\n",
    "\n",
    "test_data['pred'] = pred_list\n",
    "test_data['pred'] = test_data['pred'].apply(change_num)\n",
    "test_data\n",
    "    "
   ]
  },
  {
   "cell_type": "code",
   "execution_count": 6,
   "metadata": {},
   "outputs": [
    {
     "name": "stdout",
     "output_type": "stream",
     "text": [
      "0포함 \n",
      "               precision    recall  f1-score   support\n",
      "\n",
      "          -1       0.90      0.72      0.80        36\n",
      "           0       1.00      0.99      1.00       913\n",
      "           1       0.70      0.90      0.79        29\n",
      "\n",
      "    accuracy                           0.98       978\n",
      "   macro avg       0.86      0.87      0.86       978\n",
      "weighted avg       0.98      0.98      0.98       978\n",
      "\n",
      "0 제외 \n",
      "               precision    recall  f1-score   support\n",
      "\n",
      "          -1       0.96      0.72      0.83        36\n",
      "           0       0.00      0.00      0.00         0\n",
      "           1       0.76      0.90      0.83        29\n",
      "\n",
      "    accuracy                           0.80        65\n",
      "   macro avg       0.58      0.54      0.55        65\n",
      "weighted avg       0.87      0.80      0.83        65\n",
      "\n"
     ]
    },
    {
     "name": "stderr",
     "output_type": "stream",
     "text": [
      "/opt/homebrew/anaconda3/envs/bert_electra/lib/python3.9/site-packages/sklearn/metrics/_classification.py:1469: UndefinedMetricWarning: Recall and F-score are ill-defined and being set to 0.0 in labels with no true samples. Use `zero_division` parameter to control this behavior.\n",
      "  _warn_prf(average, modifier, msg_start, len(result))\n",
      "/opt/homebrew/anaconda3/envs/bert_electra/lib/python3.9/site-packages/sklearn/metrics/_classification.py:1469: UndefinedMetricWarning: Recall and F-score are ill-defined and being set to 0.0 in labels with no true samples. Use `zero_division` parameter to control this behavior.\n",
      "  _warn_prf(average, modifier, msg_start, len(result))\n",
      "/opt/homebrew/anaconda3/envs/bert_electra/lib/python3.9/site-packages/sklearn/metrics/_classification.py:1469: UndefinedMetricWarning: Recall and F-score are ill-defined and being set to 0.0 in labels with no true samples. Use `zero_division` parameter to control this behavior.\n",
      "  _warn_prf(average, modifier, msg_start, len(result))\n"
     ]
    }
   ],
   "source": [
    "print('0포함', '\\n', classification_report(test_data['scale'], test_data['pred']))\n",
    "test_data2 = test_data[test_data['scale'] != 0]\n",
    "print('0 제외', '\\n', classification_report(test_data2['scale'], test_data2['pred']))"
   ]
  },
  {
   "cell_type": "code",
   "execution_count": 8,
   "metadata": {},
   "outputs": [
    {
     "name": "stdout",
     "output_type": "stream",
     "text": [
      "문장: 테마 규모 대박, 평가: 2\n",
      "----------\n",
      "문장: 테마 규모 개좋음, 평가: 2\n",
      "----------\n",
      "문장: 규모 대박, 평가: 0\n",
      "----------\n",
      "문장: 테마 규모 개쩐다., 평가: 2\n",
      "----------\n",
      "문장: 테마 규모 좁읍, 평가: 0\n",
      "----------\n",
      "문장: 테마 규모 작음, 평가: 0\n",
      "----------\n",
      "문장: 규모 별로임, 평가: 0\n",
      "----------\n",
      "문장: 규모 최악, 평가: 2\n",
      "----------\n",
      "문장: 규모 콩알만함, 평가: 0\n",
      "----------\n",
      "문장: 스토리 쓰레기, 평가: 1\n",
      "----------\n"
     ]
    }
   ],
   "source": [
    "test = [\n",
    "    '테마 규모 대박',\n",
    "    '테마 규모 개좋음',\n",
    "    '규모 대박',\n",
    "    '테마 규모 개쩐다.',\n",
    "    '테마 규모 좁읍',\n",
    "    '테마 규모 작음',\n",
    "    '규모 별로임',\n",
    "    '규모 최악',\n",
    "    '규모 콩알만함',\n",
    "    '스토리 쓰레기'\n",
    "]\n",
    "\n",
    "for sent in test:\n",
    "    pred, _ = classify_text(sent)\n",
    "    print(f'문장: {sent}, 평가: {pred}')\n",
    "    print(\"-\"*10)"
   ]
  },
  {
   "cell_type": "code",
   "execution_count": null,
   "metadata": {},
   "outputs": [],
   "source": []
  }
 ],
 "metadata": {
  "kernelspec": {
   "display_name": "bert_electra",
   "language": "python",
   "name": "python3"
  },
  "language_info": {
   "codemirror_mode": {
    "name": "ipython",
    "version": 3
   },
   "file_extension": ".py",
   "mimetype": "text/x-python",
   "name": "python",
   "nbconvert_exporter": "python",
   "pygments_lexer": "ipython3",
   "version": "3.9.18"
  }
 },
 "nbformat": 4,
 "nbformat_minor": 2
}
