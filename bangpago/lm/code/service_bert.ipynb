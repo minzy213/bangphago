{
 "cells": [
  {
   "cell_type": "code",
   "execution_count": 8,
   "metadata": {},
   "outputs": [],
   "source": [
    "from transformers import ElectraModel, ElectraTokenizer\n",
    "from transformers import ElectraForSequenceClassification\n",
    "from transformers import AutoTokenizer, AutoModelForSemanticSegmentation, TrainingArguments, Trainer\n",
    "\n",
    "import torch\n",
    "\n",
    "import pandas as pd\n",
    "from konlpy.tag import Mecab\n",
    "import re\n",
    "from tqdm import tqdm, tqdm_notebook\n",
    "from kiwipiepy import Kiwi\n",
    "\n",
    "from sklearn.metrics import precision_recall_fscore_support, accuracy_score, classification_report\n",
    "\n"
   ]
  },
  {
   "cell_type": "markdown",
   "metadata": {},
   "source": [
    "# 1차 모델"
   ]
  },
  {
   "cell_type": "code",
   "execution_count": 2,
   "metadata": {},
   "outputs": [
    {
     "name": "stderr",
     "output_type": "stream",
     "text": [
      "/var/folders/t4/314qsssd1p718wry9j0bh9000000gn/T/ipykernel_69361/4145494998.py:10: SettingWithCopyWarning: \n",
      "A value is trying to be set on a copy of a slice from a DataFrame.\n",
      "Try using .loc[row_indexer,col_indexer] = value instead\n",
      "\n",
      "See the caveats in the documentation: https://pandas.pydata.org/pandas-docs/stable/user_guide/indexing.html#returning-a-view-versus-a-copy\n",
      "  service_data['content_id'] = service_data['content_id'].apply(lambda x: x.split(',')[0] if len(str(x)) > 6 else x)\n"
     ]
    },
    {
     "name": "stdout",
     "output_type": "stream",
     "text": [
      "service\n",
      " 0    4884\n",
      " 1      89\n",
      "-1      50\n",
      "Name: count, dtype: int64\n",
      "\n",
      "\n",
      "train_data service\n",
      " 0    3906\n",
      " 1      70\n",
      "-1      42\n",
      "Name: count, dtype: int64\n",
      "\n",
      " test_data service\n",
      " 0    977\n",
      " 1     14\n",
      "-1     14\n",
      "Name: count, dtype: int64\n",
      "\n",
      "\n",
      "중복 제거 전 학습 데이터셋: 4018\n",
      "중복 제거 전 테스트 데이터셋: 1005\n",
      "\n",
      "\n",
      "\n",
      "\n",
      "중복 제거 후 학습 데이터셋: 4003\n",
      "중복 제거 후 테스트 데이터셋: 1001\n"
     ]
    }
   ],
   "source": [
    "# labeling 된 데이터 불러오기\n",
    "survey = pd.read_csv(\"./_data/survey.csv\", index_col=0)\n",
    "survey.fillna(0, inplace=True)\n",
    "survey = survey.reset_index()\n",
    "\n",
    "# 데이터 중에서 작업을 하고자 하는 라벨만 가져오기\n",
    "service_data = survey[['content_id', 'service']]\n",
    "\n",
    "# content_id 중에서 댓글이 같이 추가된 데이터 정리\n",
    "service_data['content_id'] = service_data['content_id'].apply(lambda x: x.split(',')[0] if len(str(x)) > 6 else x)\n",
    "\n",
    "# content_id 가 0인 데이터 제외 -> content_id 모두 int type 으로 변경 (추후 Merge 를 위함)\n",
    "service_data = service_data[service_data['content_id'] != 0].reset_index().drop(columns=['index'])\n",
    "service_data['content_id'] = service_data['content_id'].astype(int)\n",
    "\n",
    "# 전체 review data 불러오기\n",
    "review_all = pd.read_csv(\"./_data/reviews.csv\", index_col=0)\n",
    "\n",
    "# 전체 review data 중에서 survey data에 있는 댓글만 가져오기\n",
    "survey_content = review_all.loc[review_all['id'].isin(service_data['content_id'])][['id', 'content']]\n",
    "# merge 를 위해서 id 컬럼명 통일하기\n",
    "survey_content.columns=['content_id', 'content']\n",
    "\n",
    "# 통일된 content_id 를 기반으로 데이터 merge\n",
    "service_data = pd.merge(service_data, survey_content)\n",
    "\n",
    "# 추후 원활한 계산을 위해서 숫자 부분은 모두 int 로 바꿔줌\n",
    "service_data['service'] = service_data['service'].astype(int)\n",
    "\n",
    "# 최소한의 전처리\n",
    "def cleaned_content(text):\n",
    "    d = re.sub('\\n', '. ', text) # 줄바꿈 > .\n",
    "    d = re.sub('[^가-힣0-9a-zA-Z ]{2,}', \".\", d) # 특수문자 두개 이상인거 .으로 변경\n",
    "    return d\n",
    "\n",
    "service_data['content'] = service_data['content'].apply(cleaned_content)\n",
    "\n",
    "final_df = service_data[['content', 'service']]\n",
    "\n",
    "# 라벨별 개수 확인\n",
    "print(final_df['service'].value_counts())\n",
    "print('\\n')\n",
    "train_data = final_df.sample(frac=0.8, random_state=42).reset_index().drop(columns='index')\n",
    "print('train_data', train_data['service'].value_counts())\n",
    "test_data = final_df.drop(train_data.index).reset_index().drop(columns='index')\n",
    "print('\\n', 'test_data', test_data['service'].value_counts())\n",
    "print('\\n')\n",
    "# 중복 데이터 제거(데이터 분리 후 중복이 생길 수 있어서 데이터 분리 후 중복 데이터 처리 진행)\n",
    "\n",
    "# 데이터셋 개수 확인\n",
    "print('중복 제거 전 학습 데이터셋: {}'.format(len(train_data)))\n",
    "print('중복 제거 전 테스트 데이터셋: {}'.format(len(test_data)))\n",
    "print('\\n')\n",
    "# 중복 데이터 제거\n",
    "train_data.drop_duplicates(subset=['content'], inplace=True)\n",
    "test_data.drop_duplicates(subset=['content'], inplace=True)\n",
    "print('\\n')\n",
    "# 데이터셋 개수 확인\n",
    "print('중복 제거 후 학습 데이터셋: {}'.format(len(train_data)))\n",
    "print('중복 제거 후 테스트 데이터셋: {}'.format(len(test_data)))"
   ]
  },
  {
   "cell_type": "code",
   "execution_count": 3,
   "metadata": {},
   "outputs": [
    {
     "name": "stderr",
     "output_type": "stream",
     "text": [
      "Some weights of ElectraForSequenceClassification were not initialized from the model checkpoint at monologg/koelectra-small-v3-discriminator and are newly initialized: ['classifier.out_proj.bias', 'classifier.out_proj.weight', 'classifier.dense.bias', 'classifier.dense.weight']\n",
      "You should probably TRAIN this model on a down-stream task to be able to use it for predictions and inference.\n"
     ]
    },
    {
     "data": {
      "text/plain": [
       "Embedding(35080, 128)"
      ]
     },
     "execution_count": 3,
     "metadata": {},
     "output_type": "execute_result"
    }
   ],
   "source": [
    "# 토큰에 추가할 단어 -> '방탈출'이라는 도메인 지시기에 근거한 용어, 분리되어서는 안 되기 때문에 별도로 추가 작업 진행\n",
    "addword = ['공테', '약공테', '감테', '창공', '갑툭튀', '삐딱', '삑', '꽝', '삑딱쾅', '삑딱쾅', '삑딱', '쫄', '극쫄',\n",
    "            '극극쫄', '쫄팟', '쫄탱', '쫄보', '극', '약탱', '탱쫄', '극극극', '뉴비', '하드캐리', '극혐', '피지컬',\n",
    "            '어거지', '뚝배기', '뚝문', '셀뚝', '억까', '트롤링', '트롤짓', '흙길', '풀길', '꽃길', '풀꽃', '꽃다발',\n",
    "            '꽃밭', '웰메이드', '인생테마', '머글', '방린이', '방유아', '방세포', '방태아', '방탈러', '과몰입러', '옵저버',\n",
    "            '리트', '연방', '혼방', '혼불', '워킹', '워크인', '장치방', '문제방', '직렬', '병렬', '육각형', '볼드', '볼드충', '에바',\n",
    "            '가이드', '조도', '조명', '밝기', '어두움', '인테리어', '비주얼', '소품', '디자인',\n",
    "            '스토리','기승전결','흐름도','결말','서사','이야기','유니버스','전개','시나리오', '개연성', '명료',\n",
    "            '창의성','창의','신선','독특','참신','발상', '연출','짜임','사실감','구현','현실감','현장감', '활동성','활동력','활동량','움직임','반경',\n",
    "            '규모','스케일','볼륨','사이즈','크기','넓이','공간감','분량', '공포','공테','무서움','담력','스릴러',\n",
    "            '문제', '장치', '기계', '센서', '기구', '불친절',\n",
    "            '메르헨', '커튼콜', '카르텔', '소우주', '풀문', '도고', '플래시', '나우히어', '나비효과', '몽중', '가이드라인',\n",
    "            '연출력', '짜임새', '공포도', '공포감', '공포심', '약공테', '문제퀄']\n",
    "\n",
    "# 사전학습된 bert 모델 사용\n",
    "# num_labels 클래스에 대해서 훈련을 하기 위해서 num_labels=3 할당함, problem_type=\"multi_label_classification\" 를 통해서 모델이 다중 레이블 분류에 해당함을 명시\n",
    "model = ElectraForSequenceClassification.from_pretrained(\"monologg/koelectra-small-v3-discriminator\", num_labels=3, problem_type=\"multi_label_classification\")\n",
    "tokenizer = ElectraTokenizer.from_pretrained(\"monologg/koelectra-base-v3-discriminator\")\n",
    "\n",
    "# token에 새로운 단어 추가 \n",
    "tokenizer.add_tokens(addword)\n",
    "# token에 단어 추가후 기존 모델의 임베딩 레이어에 추가한 단어에 대한 임베딩 벡터가 없을 수 있기 때문\n",
    "# 아래 코드를 통해서 토큰의 개수가 변했음을 모델에 알리고 모델의 임베딩 레이어를 조정하여 새로운 토큰을 수용할 수 있게 함\n",
    "model.resize_token_embeddings(len(tokenizer))"
   ]
  },
  {
   "cell_type": "code",
   "execution_count": 5,
   "metadata": {},
   "outputs": [],
   "source": [
    "# train content 토큰화\n",
    "tokenized_train_sentences = tokenizer(\n",
    "    list(train_data['content']),\n",
    "    return_tensors=\"pt\",\n",
    "    max_length=128,\n",
    "    padding=True,\n",
    "    truncation=True,\n",
    "    add_special_tokens=True\n",
    ")\n",
    "\n",
    "# test content 토큰화\n",
    "tokenized_test_sentences = tokenizer(\n",
    "    list(test_data['content']),\n",
    "    return_tensors=\"pt\",\n",
    "    max_length=128,\n",
    "    padding=True,\n",
    "    truncation=True,\n",
    "    add_special_tokens=True\n",
    ")\n",
    "\n",
    "# 분류 모델에 넣기 위해서 1차원으로 구성된 세 개의 클래스를 2차원으로 재구성 후 label 로 투입\n",
    "# -1(부정)=0, 0(중립)=1, 1(긍정)=2\n",
    "\n",
    "train_label = []\n",
    "for label in train_data[\"service\"].values:\n",
    "    if label == -1:\n",
    "        train_label.append([1., 0., 0.])\n",
    "    elif label == 0:\n",
    "        train_label.append([0., 1., 0.])\n",
    "    elif label == 1:\n",
    "        train_label.append([0., 0., 1.])\n",
    "\n",
    "test_label = []\n",
    "for label in test_data['service'].values:\n",
    "    if label == 0:\n",
    "        test_label.append([0., 1., 0.])\n",
    "    elif label == -1:\n",
    "        test_label.append([1., 0., 0.])\n",
    "    elif label == 1:\n",
    "        test_label.append([0., 0., 1.])\n",
    "\n",
    "# model 에 넣기 위한 dataset 생성 class\n",
    "class CurseDataset(torch.utils.data.Dataset):\n",
    "    def __init__(self, encodings, labels):\n",
    "        self.encodings = encodings\n",
    "        self.labels = labels\n",
    "    \n",
    "    def __getitem__(self, idx):\n",
    "        item = {key: torch.tensor(val[idx]) for key, val in self.encodings.items()}\n",
    "        item[\"labels\"] = torch.tensor(self.labels[idx])\n",
    "        return item\n",
    "    \n",
    "    def __len__(self):\n",
    "        return len(self.labels)\n",
    "        \n",
    "# bert 모델에 데이터가 들어갈 수 있게 만들어 둔 class를 활용하여 train, test dataset 생성\n",
    "train_dataset = CurseDataset(tokenized_train_sentences, train_label)\n",
    "test_dataset = CurseDataset(tokenized_test_sentences, test_label)\n",
    "\n",
    "# hugging face 의 trasformers 라이브러리를 사용하여 모델 훈련시킬 때 사용되는 객체 설정 부분\n",
    "training_args = TrainingArguments(\n",
    "    output_dir = './service_model/check_point/try_1',    # 모델과 훈련 중 생성되는 파일이 저장될 디렉토리 경로\n",
    "    num_train_epochs = 10,              # 훈련 epoch 수\n",
    "    per_device_train_batch_size = 16,    # 장치에 할당된 훈련 배치 크기\n",
    "    per_device_eval_batch_size = 64,    # 장치에 할당된 평가 배치 크기, 모델을 평가할 때 사용되는 배치 크기\n",
    "    logging_dir = './logs',             # 훈련 중 로그 파일이 저장될 디렉토리\n",
    "    logging_steps = 500,                # 로그 출력 빈도, 500 step에 한 번씩 출력 예정\n",
    "    save_total_limit = 2,               # 체크포인트 파일 저장 제한 수\n",
    ")\n",
    "\n",
    "# hugging face 의 trasformers 라이브러리를 사용하여 모델 훈련하고 관리하는 객체 설정 부분\n",
    "trainer = Trainer(\n",
    "    model=model,\n",
    "    args=training_args,\n",
    "    train_dataset=train_dataset,\n",
    "    eval_dataset=test_dataset,\n",
    ")"
   ]
  },
  {
   "cell_type": "code",
   "execution_count": 6,
   "metadata": {},
   "outputs": [
    {
     "name": "stderr",
     "output_type": "stream",
     "text": [
      "  0%|          | 0/2510 [00:00<?, ?it/s]/var/folders/t4/314qsssd1p718wry9j0bh9000000gn/T/ipykernel_68495/726067504.py:49: UserWarning: To copy construct from a tensor, it is recommended to use sourceTensor.clone().detach() or sourceTensor.clone().detach().requires_grad_(True), rather than torch.tensor(sourceTensor).\n",
      "  item = {key: torch.tensor(val[idx]) for key, val in self.encodings.items()}\n",
      " 20%|█▉        | 500/2510 [02:04<08:16,  4.05it/s]"
     ]
    },
    {
     "name": "stdout",
     "output_type": "stream",
     "text": [
      "{'loss': 0.1746, 'learning_rate': 4.00398406374502e-05, 'epoch': 1.99}\n"
     ]
    },
    {
     "name": "stderr",
     "output_type": "stream",
     "text": [
      "/var/folders/t4/314qsssd1p718wry9j0bh9000000gn/T/ipykernel_68495/726067504.py:49: UserWarning: To copy construct from a tensor, it is recommended to use sourceTensor.clone().detach() or sourceTensor.clone().detach().requires_grad_(True), rather than torch.tensor(sourceTensor).\n",
      "  item = {key: torch.tensor(val[idx]) for key, val in self.encodings.items()}\n",
      " 40%|███▉      | 1000/2510 [04:06<06:06,  4.12it/s]"
     ]
    },
    {
     "name": "stdout",
     "output_type": "stream",
     "text": [
      "{'loss': 0.0636, 'learning_rate': 3.00796812749004e-05, 'epoch': 3.98}\n"
     ]
    },
    {
     "name": "stderr",
     "output_type": "stream",
     "text": [
      "/var/folders/t4/314qsssd1p718wry9j0bh9000000gn/T/ipykernel_68495/726067504.py:49: UserWarning: To copy construct from a tensor, it is recommended to use sourceTensor.clone().detach() or sourceTensor.clone().detach().requires_grad_(True), rather than torch.tensor(sourceTensor).\n",
      "  item = {key: torch.tensor(val[idx]) for key, val in self.encodings.items()}\n",
      " 60%|█████▉    | 1500/2510 [06:07<03:59,  4.22it/s]"
     ]
    },
    {
     "name": "stdout",
     "output_type": "stream",
     "text": [
      "{'loss': 0.0435, 'learning_rate': 2.01195219123506e-05, 'epoch': 5.98}\n"
     ]
    },
    {
     "name": "stderr",
     "output_type": "stream",
     "text": [
      "/var/folders/t4/314qsssd1p718wry9j0bh9000000gn/T/ipykernel_68495/726067504.py:49: UserWarning: To copy construct from a tensor, it is recommended to use sourceTensor.clone().detach() or sourceTensor.clone().detach().requires_grad_(True), rather than torch.tensor(sourceTensor).\n",
      "  item = {key: torch.tensor(val[idx]) for key, val in self.encodings.items()}\n",
      " 80%|███████▉  | 2000/2510 [08:08<02:03,  4.15it/s]"
     ]
    },
    {
     "name": "stdout",
     "output_type": "stream",
     "text": [
      "{'loss': 0.033, 'learning_rate': 1.0159362549800798e-05, 'epoch': 7.97}\n"
     ]
    },
    {
     "name": "stderr",
     "output_type": "stream",
     "text": [
      "/var/folders/t4/314qsssd1p718wry9j0bh9000000gn/T/ipykernel_68495/726067504.py:49: UserWarning: To copy construct from a tensor, it is recommended to use sourceTensor.clone().detach() or sourceTensor.clone().detach().requires_grad_(True), rather than torch.tensor(sourceTensor).\n",
      "  item = {key: torch.tensor(val[idx]) for key, val in self.encodings.items()}\n",
      "100%|█████████▉| 2500/2510 [10:09<00:02,  4.23it/s]"
     ]
    },
    {
     "name": "stdout",
     "output_type": "stream",
     "text": [
      "{'loss': 0.0269, 'learning_rate': 1.99203187250996e-07, 'epoch': 9.96}\n"
     ]
    },
    {
     "name": "stderr",
     "output_type": "stream",
     "text": [
      "/var/folders/t4/314qsssd1p718wry9j0bh9000000gn/T/ipykernel_68495/726067504.py:49: UserWarning: To copy construct from a tensor, it is recommended to use sourceTensor.clone().detach() or sourceTensor.clone().detach().requires_grad_(True), rather than torch.tensor(sourceTensor).\n",
      "  item = {key: torch.tensor(val[idx]) for key, val in self.encodings.items()}\n",
      "100%|██████████| 2510/2510 [10:12<00:00,  4.10it/s]"
     ]
    },
    {
     "name": "stdout",
     "output_type": "stream",
     "text": [
      "{'train_runtime': 612.1111, 'train_samples_per_second': 65.397, 'train_steps_per_second': 4.101, 'train_loss': 0.06815159260276779, 'epoch': 10.0}\n"
     ]
    },
    {
     "name": "stderr",
     "output_type": "stream",
     "text": [
      "\n"
     ]
    },
    {
     "data": {
      "text/plain": [
       "TrainOutput(global_step=2510, training_loss=0.06815159260276779, metrics={'train_runtime': 612.1111, 'train_samples_per_second': 65.397, 'train_steps_per_second': 4.101, 'train_loss': 0.06815159260276779, 'epoch': 10.0})"
      ]
     },
     "execution_count": 6,
     "metadata": {},
     "output_type": "execute_result"
    }
   ],
   "source": [
    "# train 진행\n",
    "trainer.train() "
   ]
  },
  {
   "cell_type": "code",
   "execution_count": 7,
   "metadata": {},
   "outputs": [
    {
     "data": {
      "text/plain": [
       "('./service_model/try_1/service_tokenizer1/tokenizer_config.json',\n",
       " './service_model/try_1/service_tokenizer1/special_tokens_map.json',\n",
       " './service_model/try_1/service_tokenizer1/vocab.txt',\n",
       " './service_model/try_1/service_tokenizer1/added_tokens.json')"
      ]
     },
     "execution_count": 7,
     "metadata": {},
     "output_type": "execute_result"
    }
   ],
   "source": [
    "trainer.save_model(\"./service_model/try_1/service_model1\")\n",
    "tokenizer.save_pretrained(\"./service_model/try_1/service_tokenizer1\")"
   ]
  },
  {
   "cell_type": "code",
   "execution_count": 3,
   "metadata": {},
   "outputs": [
    {
     "name": "stderr",
     "output_type": "stream",
     "text": [
      "Special tokens have been added in the vocabulary, make sure the associated word embeddings are fine-tuned or trained.\n"
     ]
    }
   ],
   "source": [
    "# 저장된 모델과 토크나이저를 불러오기\n",
    "\n",
    "model_path = \"./service_model/try_1/service_model1\"\n",
    "tokenizer_path = \"./service_model/try_1/service_tokenizer1\"\n",
    "\n",
    "model = ElectraForSequenceClassification.from_pretrained(model_path)\n",
    "tokenizer = ElectraTokenizer.from_pretrained(tokenizer_path)"
   ]
  },
  {
   "cell_type": "code",
   "execution_count": 4,
   "metadata": {},
   "outputs": [
    {
     "name": "stderr",
     "output_type": "stream",
     "text": [
      "100%|██████████| 1001/1001 [00:13<00:00, 72.04it/s]\n"
     ]
    },
    {
     "data": {
      "text/html": [
       "<div>\n",
       "<style scoped>\n",
       "    .dataframe tbody tr th:only-of-type {\n",
       "        vertical-align: middle;\n",
       "    }\n",
       "\n",
       "    .dataframe tbody tr th {\n",
       "        vertical-align: top;\n",
       "    }\n",
       "\n",
       "    .dataframe thead th {\n",
       "        text-align: right;\n",
       "    }\n",
       "</style>\n",
       "<table border=\"1\" class=\"dataframe\">\n",
       "  <thead>\n",
       "    <tr style=\"text-align: right;\">\n",
       "      <th></th>\n",
       "      <th>content</th>\n",
       "      <th>service</th>\n",
       "      <th>pred</th>\n",
       "    </tr>\n",
       "  </thead>\n",
       "  <tbody>\n",
       "    <tr>\n",
       "      <th>0</th>\n",
       "      <td>#1415_20221128_3인. 흐음.잘 열어보지 않으면</td>\n",
       "      <td>0</td>\n",
       "      <td>0</td>\n",
       "    </tr>\n",
       "    <tr>\n",
       "      <th>1</th>\n",
       "      <td>난.바보야.</td>\n",
       "      <td>0</td>\n",
       "      <td>0</td>\n",
       "    </tr>\n",
       "    <tr>\n",
       "      <th>2</th>\n",
       "      <td>들어가자마자 커피향이 씨게 낫다 좋앗다 하지만 인테리어는 그냥그랫다. 풀정도 되는듯.</td>\n",
       "      <td>0</td>\n",
       "      <td>0</td>\n",
       "    </tr>\n",
       "    <tr>\n",
       "      <th>3</th>\n",
       "      <td>3인. 스토리가 잘 감이 안 잡힌다!</td>\n",
       "      <td>0</td>\n",
       "      <td>0</td>\n",
       "    </tr>\n",
       "    <tr>\n",
       "      <th>4</th>\n",
       "      <td>1.5/3인. 활동성 있음.추락조심</td>\n",
       "      <td>0</td>\n",
       "      <td>0</td>\n",
       "    </tr>\n",
       "    <tr>\n",
       "      <th>...</th>\n",
       "      <td>...</td>\n",
       "      <td>...</td>\n",
       "      <td>...</td>\n",
       "    </tr>\n",
       "    <tr>\n",
       "      <th>999</th>\n",
       "      <td>나에겐 너무 어려웠던. 방탈짬바 있는 분들에게 추천</td>\n",
       "      <td>0</td>\n",
       "      <td>0</td>\n",
       "    </tr>\n",
       "    <tr>\n",
       "      <th>1000</th>\n",
       "      <td>2021. 12. 26. (3인) 각자 1인분씩 하고 뿌듯했던 테마.</td>\n",
       "      <td>0</td>\n",
       "      <td>0</td>\n",
       "    </tr>\n",
       "    <tr>\n",
       "      <th>1001</th>\n",
       "      <td>첫방 디버프로 초반에 절어버림. 볼것도 못보고 힌트썼는데 잘꾸며놓았다 . 살짝 장치...</td>\n",
       "      <td>0</td>\n",
       "      <td>0</td>\n",
       "    </tr>\n",
       "    <tr>\n",
       "      <th>1002</th>\n",
       "      <td>#5 - 2인 - 볼륨에 압도됨 - 히터도 방마다 빵빵함 - 다른 테마도 궁금해짐</td>\n",
       "      <td>0</td>\n",
       "      <td>0</td>\n",
       "    </tr>\n",
       "    <tr>\n",
       "      <th>1003</th>\n",
       "      <td>265, 2인, 장치. 그걸 왜 몰랐냐. 장치에 속지 말자</td>\n",
       "      <td>0</td>\n",
       "      <td>0</td>\n",
       "    </tr>\n",
       "  </tbody>\n",
       "</table>\n",
       "<p>1001 rows × 3 columns</p>\n",
       "</div>"
      ],
      "text/plain": [
       "                                                content  service  pred\n",
       "0                      #1415_20221128_3인. 흐음.잘 열어보지 않으면        0     0\n",
       "1                                                난.바보야.        0     0\n",
       "2       들어가자마자 커피향이 씨게 낫다 좋앗다 하지만 인테리어는 그냥그랫다. 풀정도 되는듯.        0     0\n",
       "3                                  3인. 스토리가 잘 감이 안 잡힌다!        0     0\n",
       "4                                   1.5/3인. 활동성 있음.추락조심        0     0\n",
       "...                                                 ...      ...   ...\n",
       "999                        나에겐 너무 어려웠던. 방탈짬바 있는 분들에게 추천        0     0\n",
       "1000             2021. 12. 26. (3인) 각자 1인분씩 하고 뿌듯했던 테마.        0     0\n",
       "1001  첫방 디버프로 초반에 절어버림. 볼것도 못보고 힌트썼는데 잘꾸며놓았다 . 살짝 장치...        0     0\n",
       "1002      #5 - 2인 - 볼륨에 압도됨 - 히터도 방마다 빵빵함 - 다른 테마도 궁금해짐        0     0\n",
       "1003                   265, 2인, 장치. 그걸 왜 몰랐냐. 장치에 속지 말자        0     0\n",
       "\n",
       "[1001 rows x 3 columns]"
      ]
     },
     "execution_count": 4,
     "metadata": {},
     "output_type": "execute_result"
    }
   ],
   "source": [
    "# 문장을 입력했을 때, 예측 값을 도출해주는 함수\n",
    "\n",
    "from torch.nn.functional import softmax\n",
    "\n",
    "# 함수 정의\n",
    "def classify_text(text):\n",
    "    # 문장을 토큰화하고 모델에 입력으로 전달\n",
    "    text = cleaned_content(text)\n",
    "    inputs = tokenizer(text, return_tensors=\"pt\")\n",
    "    outputs = model(**inputs)\n",
    "\n",
    "    # 소프트맥스 함수를 사용하여 확률값 계산\n",
    "    probabilities = softmax(outputs.logits, dim=1)\n",
    "\n",
    "    # 가장 높은 확률값에 해당하는 클래스 선택\n",
    "    predicted_class = torch.argmax(probabilities).item()\n",
    "\n",
    "    return predicted_class, probabilities\n",
    "\n",
    "def change_num(num):\n",
    "    if num == 0:\n",
    "        return (-1)\n",
    "    elif num == 1:\n",
    "        return 0\n",
    "    elif num == 2:\n",
    "        return 1\n",
    "\n",
    "pred_list = []\n",
    "for sent in tqdm(test_data['content']):\n",
    "    pred, _ = classify_text(sent)\n",
    "    pred_list.append(pred)\n",
    "\n",
    "test_data['pred'] = pred_list\n",
    "test_data['pred'] = test_data['pred'].apply(change_num)\n",
    "test_data\n",
    "    "
   ]
  },
  {
   "cell_type": "code",
   "execution_count": 5,
   "metadata": {},
   "outputs": [
    {
     "name": "stdout",
     "output_type": "stream",
     "text": [
      "service\n",
      " 0    4884\n",
      " 1      89\n",
      "-1      50\n",
      "Name: count, dtype: int64\n"
     ]
    }
   ],
   "source": [
    "print(final_df['service'].value_counts())"
   ]
  },
  {
   "cell_type": "code",
   "execution_count": 6,
   "metadata": {},
   "outputs": [
    {
     "name": "stdout",
     "output_type": "stream",
     "text": [
      "service\n",
      " 0    3891\n",
      " 1      70\n",
      "-1      42\n",
      "Name: count, dtype: int64\n",
      "service\n",
      " 0    973\n",
      " 1     14\n",
      "-1     14\n",
      "Name: count, dtype: int64\n"
     ]
    }
   ],
   "source": [
    "print(train_data['service'].value_counts())\n",
    "print(test_data['service'].value_counts())"
   ]
  },
  {
   "cell_type": "code",
   "execution_count": 7,
   "metadata": {},
   "outputs": [
    {
     "name": "stdout",
     "output_type": "stream",
     "text": [
      "              precision    recall  f1-score   support\n",
      "\n",
      "          -1       0.00      0.00      0.00        14\n",
      "           0       1.00      1.00      1.00       973\n",
      "           1       0.52      0.93      0.67        14\n",
      "\n",
      "    accuracy                           0.98      1001\n",
      "   macro avg       0.51      0.64      0.55      1001\n",
      "weighted avg       0.98      0.98      0.98      1001\n",
      "\n",
      "              precision    recall  f1-score   support\n",
      "\n",
      "          -1       0.00      0.00      0.00        14\n",
      "           0       0.00      0.00      0.00         0\n",
      "           1       0.54      0.93      0.68        14\n",
      "\n",
      "    accuracy                           0.46        28\n",
      "   macro avg       0.18      0.31      0.23        28\n",
      "weighted avg       0.27      0.46      0.34        28\n",
      "\n"
     ]
    },
    {
     "name": "stderr",
     "output_type": "stream",
     "text": [
      "/opt/homebrew/anaconda3/envs/bert_electra/lib/python3.9/site-packages/sklearn/metrics/_classification.py:1469: UndefinedMetricWarning: Precision and F-score are ill-defined and being set to 0.0 in labels with no predicted samples. Use `zero_division` parameter to control this behavior.\n",
      "  _warn_prf(average, modifier, msg_start, len(result))\n",
      "/opt/homebrew/anaconda3/envs/bert_electra/lib/python3.9/site-packages/sklearn/metrics/_classification.py:1469: UndefinedMetricWarning: Precision and F-score are ill-defined and being set to 0.0 in labels with no predicted samples. Use `zero_division` parameter to control this behavior.\n",
      "  _warn_prf(average, modifier, msg_start, len(result))\n",
      "/opt/homebrew/anaconda3/envs/bert_electra/lib/python3.9/site-packages/sklearn/metrics/_classification.py:1469: UndefinedMetricWarning: Precision and F-score are ill-defined and being set to 0.0 in labels with no predicted samples. Use `zero_division` parameter to control this behavior.\n",
      "  _warn_prf(average, modifier, msg_start, len(result))\n",
      "/opt/homebrew/anaconda3/envs/bert_electra/lib/python3.9/site-packages/sklearn/metrics/_classification.py:1469: UndefinedMetricWarning: Precision and F-score are ill-defined and being set to 0.0 in labels with no predicted samples. Use `zero_division` parameter to control this behavior.\n",
      "  _warn_prf(average, modifier, msg_start, len(result))\n",
      "/opt/homebrew/anaconda3/envs/bert_electra/lib/python3.9/site-packages/sklearn/metrics/_classification.py:1469: UndefinedMetricWarning: Recall and F-score are ill-defined and being set to 0.0 in labels with no true samples. Use `zero_division` parameter to control this behavior.\n",
      "  _warn_prf(average, modifier, msg_start, len(result))\n",
      "/opt/homebrew/anaconda3/envs/bert_electra/lib/python3.9/site-packages/sklearn/metrics/_classification.py:1469: UndefinedMetricWarning: Precision and F-score are ill-defined and being set to 0.0 in labels with no predicted samples. Use `zero_division` parameter to control this behavior.\n",
      "  _warn_prf(average, modifier, msg_start, len(result))\n",
      "/opt/homebrew/anaconda3/envs/bert_electra/lib/python3.9/site-packages/sklearn/metrics/_classification.py:1469: UndefinedMetricWarning: Recall and F-score are ill-defined and being set to 0.0 in labels with no true samples. Use `zero_division` parameter to control this behavior.\n",
      "  _warn_prf(average, modifier, msg_start, len(result))\n",
      "/opt/homebrew/anaconda3/envs/bert_electra/lib/python3.9/site-packages/sklearn/metrics/_classification.py:1469: UndefinedMetricWarning: Precision and F-score are ill-defined and being set to 0.0 in labels with no predicted samples. Use `zero_division` parameter to control this behavior.\n",
      "  _warn_prf(average, modifier, msg_start, len(result))\n",
      "/opt/homebrew/anaconda3/envs/bert_electra/lib/python3.9/site-packages/sklearn/metrics/_classification.py:1469: UndefinedMetricWarning: Recall and F-score are ill-defined and being set to 0.0 in labels with no true samples. Use `zero_division` parameter to control this behavior.\n",
      "  _warn_prf(average, modifier, msg_start, len(result))\n"
     ]
    }
   ],
   "source": [
    "print(classification_report(test_data['service'], test_data['pred']))\n",
    "test_data2 = test_data[test_data['service'] != 0]\n",
    "print(classification_report(test_data2['service'], test_data2['pred']))"
   ]
  },
  {
   "cell_type": "code",
   "execution_count": 8,
   "metadata": {},
   "outputs": [
    {
     "name": "stdout",
     "output_type": "stream",
     "text": [
      "문장: 서비스 대박, 평가: 1\n",
      "----------\n",
      "문장: 개친절함, 평가: 1\n",
      "----------\n",
      "문장: 서비스 개좋음, 평가: 1\n",
      "----------\n",
      "문장: 서비스 무슨 일, 평가: 1\n",
      "----------\n",
      "문장: 서비스 불친절하네, 평가: 1\n",
      "----------\n",
      "문장: 불친절함, 평가: 1\n",
      "----------\n",
      "문장: 스토리 쓰레기네, 평가: 1\n",
      "----------\n",
      "문장: 서비스는 좋은데 재미없었어요., 평가: 2\n",
      "----------\n"
     ]
    }
   ],
   "source": [
    "test = [\n",
    "    '서비스 대박',\n",
    "    '개친절함',\n",
    "    '서비스 개좋음',\n",
    "    '서비스 무슨 일',\n",
    "    '서비스 불친절하네',\n",
    "    '불친절함',\n",
    "    '스토리 쓰레기네',\n",
    "    '서비스는 좋은데 재미없었어요.',\n",
    "]\n",
    "\n",
    "for sent in test:\n",
    "    pred, _ = classify_text(sent)\n",
    "    print(f'문장: {sent}, 평가: {pred}')\n",
    "    print(\"-\"*10)"
   ]
  },
  {
   "cell_type": "markdown",
   "metadata": {},
   "source": [
    "# 2차 모델"
   ]
  },
  {
   "cell_type": "code",
   "execution_count": 2,
   "metadata": {},
   "outputs": [
    {
     "name": "stderr",
     "output_type": "stream",
     "text": [
      "/var/folders/t4/314qsssd1p718wry9j0bh9000000gn/T/ipykernel_70688/4145494998.py:10: SettingWithCopyWarning: \n",
      "A value is trying to be set on a copy of a slice from a DataFrame.\n",
      "Try using .loc[row_indexer,col_indexer] = value instead\n",
      "\n",
      "See the caveats in the documentation: https://pandas.pydata.org/pandas-docs/stable/user_guide/indexing.html#returning-a-view-versus-a-copy\n",
      "  service_data['content_id'] = service_data['content_id'].apply(lambda x: x.split(',')[0] if len(str(x)) > 6 else x)\n"
     ]
    },
    {
     "name": "stdout",
     "output_type": "stream",
     "text": [
      "service\n",
      " 0    4884\n",
      " 1      89\n",
      "-1      50\n",
      "Name: count, dtype: int64\n",
      "\n",
      "\n",
      "train_data service\n",
      " 0    3906\n",
      " 1      70\n",
      "-1      42\n",
      "Name: count, dtype: int64\n",
      "\n",
      " test_data service\n",
      " 0    977\n",
      " 1     14\n",
      "-1     14\n",
      "Name: count, dtype: int64\n",
      "\n",
      "\n",
      "중복 제거 전 학습 데이터셋: 4018\n",
      "중복 제거 전 테스트 데이터셋: 1005\n",
      "\n",
      "\n",
      "\n",
      "\n",
      "중복 제거 후 학습 데이터셋: 4003\n",
      "중복 제거 후 테스트 데이터셋: 1001\n"
     ]
    }
   ],
   "source": [
    "# labeling 된 데이터 불러오기\n",
    "survey = pd.read_csv(\"./_data/survey.csv\", index_col=0)\n",
    "survey.fillna(0, inplace=True)\n",
    "survey = survey.reset_index()\n",
    "\n",
    "# 데이터 중에서 작업을 하고자 하는 라벨만 가져오기\n",
    "service_data = survey[['content_id', 'service']]\n",
    "\n",
    "# content_id 중에서 댓글이 같이 추가된 데이터 정리\n",
    "service_data['content_id'] = service_data['content_id'].apply(lambda x: x.split(',')[0] if len(str(x)) > 6 else x)\n",
    "\n",
    "# content_id 가 0인 데이터 제외 -> content_id 모두 int type 으로 변경 (추후 Merge 를 위함)\n",
    "service_data = service_data[service_data['content_id'] != 0].reset_index().drop(columns=['index'])\n",
    "service_data['content_id'] = service_data['content_id'].astype(int)\n",
    "\n",
    "# 전체 review data 불러오기\n",
    "review_all = pd.read_csv(\"./_data/reviews.csv\", index_col=0)\n",
    "\n",
    "# 전체 review data 중에서 survey data에 있는 댓글만 가져오기\n",
    "survey_content = review_all.loc[review_all['id'].isin(service_data['content_id'])][['id', 'content']]\n",
    "# merge 를 위해서 id 컬럼명 통일하기\n",
    "survey_content.columns=['content_id', 'content']\n",
    "\n",
    "# 통일된 content_id 를 기반으로 데이터 merge\n",
    "service_data = pd.merge(service_data, survey_content)\n",
    "\n",
    "# 추후 원활한 계산을 위해서 숫자 부분은 모두 int 로 바꿔줌\n",
    "service_data['service'] = service_data['service'].astype(int)\n",
    "\n",
    "# 최소한의 전처리\n",
    "def cleaned_content(text):\n",
    "    d = re.sub('\\n', '. ', text) # 줄바꿈 > .\n",
    "    d = re.sub('[^가-힣0-9a-zA-Z ]{2,}', \".\", d) # 특수문자 두개 이상인거 .으로 변경\n",
    "    return d\n",
    "\n",
    "service_data['content'] = service_data['content'].apply(cleaned_content)\n",
    "\n",
    "final_df = service_data[['content', 'service']]\n",
    "\n",
    "# 라벨별 개수 확인\n",
    "print(final_df['service'].value_counts())\n",
    "print('\\n')\n",
    "train_data = final_df.sample(frac=0.8, random_state=42).reset_index().drop(columns='index')\n",
    "print('train_data', train_data['service'].value_counts())\n",
    "test_data = final_df.drop(train_data.index).reset_index().drop(columns='index')\n",
    "print('\\n', 'test_data', test_data['service'].value_counts())\n",
    "print('\\n')\n",
    "# 중복 데이터 제거(데이터 분리 후 중복이 생길 수 있어서 데이터 분리 후 중복 데이터 처리 진행)\n",
    "\n",
    "# 데이터셋 개수 확인\n",
    "print('중복 제거 전 학습 데이터셋: {}'.format(len(train_data)))\n",
    "print('중복 제거 전 테스트 데이터셋: {}'.format(len(test_data)))\n",
    "print('\\n')\n",
    "# 중복 데이터 제거\n",
    "train_data.drop_duplicates(subset=['content'], inplace=True)\n",
    "test_data.drop_duplicates(subset=['content'], inplace=True)\n",
    "print('\\n')\n",
    "# 데이터셋 개수 확인\n",
    "print('중복 제거 후 학습 데이터셋: {}'.format(len(train_data)))\n",
    "print('중복 제거 후 테스트 데이터셋: {}'.format(len(test_data)))"
   ]
  },
  {
   "cell_type": "code",
   "execution_count": 3,
   "metadata": {},
   "outputs": [
    {
     "name": "stderr",
     "output_type": "stream",
     "text": [
      "Some weights of ElectraForSequenceClassification were not initialized from the model checkpoint at monologg/koelectra-small-v3-discriminator and are newly initialized: ['classifier.dense.bias', 'classifier.dense.weight', 'classifier.out_proj.weight', 'classifier.out_proj.bias']\n",
      "You should probably TRAIN this model on a down-stream task to be able to use it for predictions and inference.\n"
     ]
    },
    {
     "data": {
      "text/plain": [
       "Embedding(35080, 128)"
      ]
     },
     "execution_count": 3,
     "metadata": {},
     "output_type": "execute_result"
    }
   ],
   "source": [
    "# 토큰에 추가할 단어 -> '방탈출'이라는 도메인 지시기에 근거한 용어, 분리되어서는 안 되기 때문에 별도로 추가 작업 진행\n",
    "addword = ['공테', '약공테', '감테', '창공', '갑툭튀', '삐딱', '삑', '꽝', '삑딱쾅', '삑딱쾅', '삑딱', '쫄', '극쫄',\n",
    "            '극극쫄', '쫄팟', '쫄탱', '쫄보', '극', '약탱', '탱쫄', '극극극', '뉴비', '하드캐리', '극혐', '피지컬',\n",
    "            '어거지', '뚝배기', '뚝문', '셀뚝', '억까', '트롤링', '트롤짓', '흙길', '풀길', '꽃길', '풀꽃', '꽃다발',\n",
    "            '꽃밭', '웰메이드', '인생테마', '머글', '방린이', '방유아', '방세포', '방태아', '방탈러', '과몰입러', '옵저버',\n",
    "            '리트', '연방', '혼방', '혼불', '워킹', '워크인', '장치방', '문제방', '직렬', '병렬', '육각형', '볼드', '볼드충', '에바',\n",
    "            '가이드', '조도', '조명', '밝기', '어두움', '인테리어', '비주얼', '소품', '디자인',\n",
    "            '스토리','기승전결','흐름도','결말','서사','이야기','유니버스','전개','시나리오', '개연성', '명료',\n",
    "            '창의성','창의','신선','독특','참신','발상', '연출','짜임','사실감','구현','현실감','현장감', '활동성','활동력','활동량','움직임','반경',\n",
    "            '규모','스케일','볼륨','사이즈','크기','넓이','공간감','분량', '공포','공테','무서움','담력','스릴러',\n",
    "            '문제', '장치', '기계', '센서', '기구', '불친절',\n",
    "            '메르헨', '커튼콜', '카르텔', '소우주', '풀문', '도고', '플래시', '나우히어', '나비효과', '몽중', '가이드라인',\n",
    "            '연출력', '짜임새', '공포도', '공포감', '공포심', '약공테', '문제퀄']\n",
    "\n",
    "# 사전학습된 bert 모델 사용\n",
    "# num_labels 클래스에 대해서 훈련을 하기 위해서 num_labels=3 할당함, problem_type=\"multi_label_classification\" 를 통해서 모델이 다중 레이블 분류에 해당함을 명시\n",
    "model = ElectraForSequenceClassification.from_pretrained(\"monologg/koelectra-small-v3-discriminator\", num_labels=3, problem_type=\"multi_label_classification\")\n",
    "tokenizer = ElectraTokenizer.from_pretrained(\"monologg/koelectra-base-v3-discriminator\")\n",
    "\n",
    "# token에 새로운 단어 추가 \n",
    "tokenizer.add_tokens(addword)\n",
    "# token에 단어 추가후 기존 모델의 임베딩 레이어에 추가한 단어에 대한 임베딩 벡터가 없을 수 있기 때문\n",
    "# 아래 코드를 통해서 토큰의 개수가 변했음을 모델에 알리고 모델의 임베딩 레이어를 조정하여 새로운 토큰을 수용할 수 있게 함\n",
    "model.resize_token_embeddings(len(tokenizer))"
   ]
  },
  {
   "cell_type": "code",
   "execution_count": 4,
   "metadata": {},
   "outputs": [],
   "source": [
    "# train content 토큰화\n",
    "tokenized_train_sentences = tokenizer(\n",
    "    list(train_data['content']),\n",
    "    return_tensors=\"pt\",\n",
    "    max_length=128,\n",
    "    padding=True,\n",
    "    truncation=True,\n",
    "    add_special_tokens=True\n",
    ")\n",
    "\n",
    "# test content 토큰화\n",
    "tokenized_test_sentences = tokenizer(\n",
    "    list(test_data['content']),\n",
    "    return_tensors=\"pt\",\n",
    "    max_length=128,\n",
    "    padding=True,\n",
    "    truncation=True,\n",
    "    add_special_tokens=True\n",
    ")\n",
    "\n",
    "# 분류 모델에 넣기 위해서 1차원으로 구성된 세 개의 클래스를 2차원으로 재구성 후 label 로 투입\n",
    "# -1(부정)=0, 0(중립)=1, 1(긍정)=2\n",
    "\n",
    "train_label = []\n",
    "for label in train_data[\"service\"].values:\n",
    "    if label == -1:\n",
    "        train_label.append([1., 0., 0.])\n",
    "    elif label == 0:\n",
    "        train_label.append([0., 1., 0.])\n",
    "    elif label == 1:\n",
    "        train_label.append([0., 0., 1.])\n",
    "\n",
    "test_label = []\n",
    "for label in test_data['service'].values:\n",
    "    if label == 0:\n",
    "        test_label.append([0., 1., 0.])\n",
    "    elif label == -1:\n",
    "        test_label.append([1., 0., 0.])\n",
    "    elif label == 1:\n",
    "        test_label.append([0., 0., 1.])\n",
    "\n",
    "# model 에 넣기 위한 dataset 생성 class\n",
    "class CurseDataset(torch.utils.data.Dataset):\n",
    "    def __init__(self, encodings, labels):\n",
    "        self.encodings = encodings\n",
    "        self.labels = labels\n",
    "    \n",
    "    def __getitem__(self, idx):\n",
    "        item = {key: torch.tensor(val[idx]) for key, val in self.encodings.items()}\n",
    "        item[\"labels\"] = torch.tensor(self.labels[idx])\n",
    "        return item\n",
    "    \n",
    "    def __len__(self):\n",
    "        return len(self.labels)\n",
    "        \n",
    "# bert 모델에 데이터가 들어갈 수 있게 만들어 둔 class를 활용하여 train, test dataset 생성\n",
    "train_dataset = CurseDataset(tokenized_train_sentences, train_label)\n",
    "test_dataset = CurseDataset(tokenized_test_sentences, test_label)\n",
    "\n",
    "# hugging face 의 trasformers 라이브러리를 사용하여 모델 훈련시킬 때 사용되는 객체 설정 부분\n",
    "training_args = TrainingArguments(\n",
    "    output_dir = './service_model/check_point/try_2',    # 모델과 훈련 중 생성되는 파일이 저장될 디렉토리 경로\n",
    "    num_train_epochs = 15,              # 훈련 epoch 수\n",
    "    per_device_train_batch_size = 16,    # 장치에 할당된 훈련 배치 크기\n",
    "    per_device_eval_batch_size = 64,    # 장치에 할당된 평가 배치 크기, 모델을 평가할 때 사용되는 배치 크기\n",
    "    logging_dir = './logs',             # 훈련 중 로그 파일이 저장될 디렉토리\n",
    "    logging_steps = 500,                # 로그 출력 빈도, 500 step에 한 번씩 출력 예정\n",
    "    save_total_limit = 2,               # 체크포인트 파일 저장 제한 수\n",
    ")\n",
    "\n",
    "# hugging face 의 trasformers 라이브러리를 사용하여 모델 훈련하고 관리하는 객체 설정 부분\n",
    "trainer = Trainer(\n",
    "    model=model,\n",
    "    args=training_args,\n",
    "    train_dataset=train_dataset,\n",
    "    eval_dataset=test_dataset,\n",
    ")"
   ]
  },
  {
   "cell_type": "code",
   "execution_count": 5,
   "metadata": {},
   "outputs": [
    {
     "name": "stderr",
     "output_type": "stream",
     "text": [
      "  0%|          | 0/3765 [00:00<?, ?it/s]/var/folders/t4/314qsssd1p718wry9j0bh9000000gn/T/ipykernel_69506/1575091855.py:49: UserWarning: To copy construct from a tensor, it is recommended to use sourceTensor.clone().detach() or sourceTensor.clone().detach().requires_grad_(True), rather than torch.tensor(sourceTensor).\n",
      "  item = {key: torch.tensor(val[idx]) for key, val in self.encodings.items()}\n",
      " 13%|█▎        | 500/3765 [02:04<13:13,  4.12it/s]"
     ]
    },
    {
     "name": "stdout",
     "output_type": "stream",
     "text": [
      "{'loss': 0.1715, 'learning_rate': 4.335989375830013e-05, 'epoch': 1.99}\n"
     ]
    },
    {
     "name": "stderr",
     "output_type": "stream",
     "text": [
      "/var/folders/t4/314qsssd1p718wry9j0bh9000000gn/T/ipykernel_69506/1575091855.py:49: UserWarning: To copy construct from a tensor, it is recommended to use sourceTensor.clone().detach() or sourceTensor.clone().detach().requires_grad_(True), rather than torch.tensor(sourceTensor).\n",
      "  item = {key: torch.tensor(val[idx]) for key, val in self.encodings.items()}\n",
      " 27%|██▋       | 1000/3765 [04:06<11:26,  4.03it/s]"
     ]
    },
    {
     "name": "stdout",
     "output_type": "stream",
     "text": [
      "{'loss': 0.0701, 'learning_rate': 3.671978751660027e-05, 'epoch': 3.98}\n"
     ]
    },
    {
     "name": "stderr",
     "output_type": "stream",
     "text": [
      "/var/folders/t4/314qsssd1p718wry9j0bh9000000gn/T/ipykernel_69506/1575091855.py:49: UserWarning: To copy construct from a tensor, it is recommended to use sourceTensor.clone().detach() or sourceTensor.clone().detach().requires_grad_(True), rather than torch.tensor(sourceTensor).\n",
      "  item = {key: torch.tensor(val[idx]) for key, val in self.encodings.items()}\n",
      " 40%|███▉      | 1500/3765 [06:07<09:02,  4.17it/s]"
     ]
    },
    {
     "name": "stdout",
     "output_type": "stream",
     "text": [
      "{'loss': 0.0478, 'learning_rate': 3.00796812749004e-05, 'epoch': 5.98}\n"
     ]
    },
    {
     "name": "stderr",
     "output_type": "stream",
     "text": [
      "/var/folders/t4/314qsssd1p718wry9j0bh9000000gn/T/ipykernel_69506/1575091855.py:49: UserWarning: To copy construct from a tensor, it is recommended to use sourceTensor.clone().detach() or sourceTensor.clone().detach().requires_grad_(True), rather than torch.tensor(sourceTensor).\n",
      "  item = {key: torch.tensor(val[idx]) for key, val in self.encodings.items()}\n",
      " 53%|█████▎    | 2000/3765 [08:09<07:09,  4.11it/s]"
     ]
    },
    {
     "name": "stdout",
     "output_type": "stream",
     "text": [
      "{'loss': 0.0352, 'learning_rate': 2.3439575033200534e-05, 'epoch': 7.97}\n"
     ]
    },
    {
     "name": "stderr",
     "output_type": "stream",
     "text": [
      "/var/folders/t4/314qsssd1p718wry9j0bh9000000gn/T/ipykernel_69506/1575091855.py:49: UserWarning: To copy construct from a tensor, it is recommended to use sourceTensor.clone().detach() or sourceTensor.clone().detach().requires_grad_(True), rather than torch.tensor(sourceTensor).\n",
      "  item = {key: torch.tensor(val[idx]) for key, val in self.encodings.items()}\n",
      " 66%|██████▋   | 2500/3765 [10:11<05:12,  4.04it/s]"
     ]
    },
    {
     "name": "stdout",
     "output_type": "stream",
     "text": [
      "{'loss': 0.0286, 'learning_rate': 1.6799468791500664e-05, 'epoch': 9.96}\n"
     ]
    },
    {
     "name": "stderr",
     "output_type": "stream",
     "text": [
      "/var/folders/t4/314qsssd1p718wry9j0bh9000000gn/T/ipykernel_69506/1575091855.py:49: UserWarning: To copy construct from a tensor, it is recommended to use sourceTensor.clone().detach() or sourceTensor.clone().detach().requires_grad_(True), rather than torch.tensor(sourceTensor).\n",
      "  item = {key: torch.tensor(val[idx]) for key, val in self.encodings.items()}\n",
      " 80%|███████▉  | 3000/3765 [12:14<03:05,  4.12it/s]"
     ]
    },
    {
     "name": "stdout",
     "output_type": "stream",
     "text": [
      "{'loss': 0.0256, 'learning_rate': 1.0159362549800798e-05, 'epoch': 11.95}\n"
     ]
    },
    {
     "name": "stderr",
     "output_type": "stream",
     "text": [
      "/var/folders/t4/314qsssd1p718wry9j0bh9000000gn/T/ipykernel_69506/1575091855.py:49: UserWarning: To copy construct from a tensor, it is recommended to use sourceTensor.clone().detach() or sourceTensor.clone().detach().requires_grad_(True), rather than torch.tensor(sourceTensor).\n",
      "  item = {key: torch.tensor(val[idx]) for key, val in self.encodings.items()}\n",
      " 93%|█████████▎| 3500/3765 [14:16<01:04,  4.09it/s]"
     ]
    },
    {
     "name": "stdout",
     "output_type": "stream",
     "text": [
      "{'loss': 0.0254, 'learning_rate': 3.51925630810093e-06, 'epoch': 13.94}\n"
     ]
    },
    {
     "name": "stderr",
     "output_type": "stream",
     "text": [
      "/var/folders/t4/314qsssd1p718wry9j0bh9000000gn/T/ipykernel_69506/1575091855.py:49: UserWarning: To copy construct from a tensor, it is recommended to use sourceTensor.clone().detach() or sourceTensor.clone().detach().requires_grad_(True), rather than torch.tensor(sourceTensor).\n",
      "  item = {key: torch.tensor(val[idx]) for key, val in self.encodings.items()}\n",
      "100%|██████████| 3765/3765 [15:21<00:00,  4.08it/s]"
     ]
    },
    {
     "name": "stdout",
     "output_type": "stream",
     "text": [
      "{'train_runtime': 921.7939, 'train_samples_per_second': 65.139, 'train_steps_per_second': 4.084, 'train_loss': 0.055353891137111706, 'epoch': 15.0}\n"
     ]
    },
    {
     "name": "stderr",
     "output_type": "stream",
     "text": [
      "\n"
     ]
    },
    {
     "data": {
      "text/plain": [
       "TrainOutput(global_step=3765, training_loss=0.055353891137111706, metrics={'train_runtime': 921.7939, 'train_samples_per_second': 65.139, 'train_steps_per_second': 4.084, 'train_loss': 0.055353891137111706, 'epoch': 15.0})"
      ]
     },
     "execution_count": 5,
     "metadata": {},
     "output_type": "execute_result"
    }
   ],
   "source": [
    "# train 진행\n",
    "trainer.train() "
   ]
  },
  {
   "cell_type": "code",
   "execution_count": 6,
   "metadata": {},
   "outputs": [
    {
     "data": {
      "text/plain": [
       "('./service_model/try_2/service_tokenizer2/tokenizer_config.json',\n",
       " './service_model/try_2/service_tokenizer2/special_tokens_map.json',\n",
       " './service_model/try_2/service_tokenizer2/vocab.txt',\n",
       " './service_model/try_2/service_tokenizer2/added_tokens.json')"
      ]
     },
     "execution_count": 6,
     "metadata": {},
     "output_type": "execute_result"
    }
   ],
   "source": [
    "trainer.save_model(\"./service_model/try_2/service_model2\")\n",
    "tokenizer.save_pretrained(\"./service_model/try_2/service_tokenizer2\")"
   ]
  },
  {
   "cell_type": "code",
   "execution_count": 3,
   "metadata": {},
   "outputs": [
    {
     "name": "stderr",
     "output_type": "stream",
     "text": [
      "Special tokens have been added in the vocabulary, make sure the associated word embeddings are fine-tuned or trained.\n"
     ]
    }
   ],
   "source": [
    "# 저장된 모델과 토크나이저를 불러오기\n",
    "\n",
    "model_path = \"./service_model/try_2/service_model2\"\n",
    "tokenizer_path = \"./service_model/try_2/service_tokenizer2\"\n",
    "\n",
    "model = ElectraForSequenceClassification.from_pretrained(model_path)\n",
    "tokenizer = ElectraTokenizer.from_pretrained(tokenizer_path)"
   ]
  },
  {
   "cell_type": "code",
   "execution_count": 4,
   "metadata": {},
   "outputs": [
    {
     "name": "stderr",
     "output_type": "stream",
     "text": [
      "100%|██████████| 1001/1001 [00:16<00:00, 61.20it/s]\n"
     ]
    },
    {
     "data": {
      "text/html": [
       "<div>\n",
       "<style scoped>\n",
       "    .dataframe tbody tr th:only-of-type {\n",
       "        vertical-align: middle;\n",
       "    }\n",
       "\n",
       "    .dataframe tbody tr th {\n",
       "        vertical-align: top;\n",
       "    }\n",
       "\n",
       "    .dataframe thead th {\n",
       "        text-align: right;\n",
       "    }\n",
       "</style>\n",
       "<table border=\"1\" class=\"dataframe\">\n",
       "  <thead>\n",
       "    <tr style=\"text-align: right;\">\n",
       "      <th></th>\n",
       "      <th>content</th>\n",
       "      <th>service</th>\n",
       "      <th>pred</th>\n",
       "    </tr>\n",
       "  </thead>\n",
       "  <tbody>\n",
       "    <tr>\n",
       "      <th>0</th>\n",
       "      <td>#1415_20221128_3인. 흐음.잘 열어보지 않으면</td>\n",
       "      <td>0</td>\n",
       "      <td>0</td>\n",
       "    </tr>\n",
       "    <tr>\n",
       "      <th>1</th>\n",
       "      <td>난.바보야.</td>\n",
       "      <td>0</td>\n",
       "      <td>0</td>\n",
       "    </tr>\n",
       "    <tr>\n",
       "      <th>2</th>\n",
       "      <td>들어가자마자 커피향이 씨게 낫다 좋앗다 하지만 인테리어는 그냥그랫다. 풀정도 되는듯.</td>\n",
       "      <td>0</td>\n",
       "      <td>0</td>\n",
       "    </tr>\n",
       "    <tr>\n",
       "      <th>3</th>\n",
       "      <td>3인. 스토리가 잘 감이 안 잡힌다!</td>\n",
       "      <td>0</td>\n",
       "      <td>0</td>\n",
       "    </tr>\n",
       "    <tr>\n",
       "      <th>4</th>\n",
       "      <td>1.5/3인. 활동성 있음.추락조심</td>\n",
       "      <td>0</td>\n",
       "      <td>0</td>\n",
       "    </tr>\n",
       "    <tr>\n",
       "      <th>...</th>\n",
       "      <td>...</td>\n",
       "      <td>...</td>\n",
       "      <td>...</td>\n",
       "    </tr>\n",
       "    <tr>\n",
       "      <th>999</th>\n",
       "      <td>나에겐 너무 어려웠던. 방탈짬바 있는 분들에게 추천</td>\n",
       "      <td>0</td>\n",
       "      <td>0</td>\n",
       "    </tr>\n",
       "    <tr>\n",
       "      <th>1000</th>\n",
       "      <td>2021. 12. 26. (3인) 각자 1인분씩 하고 뿌듯했던 테마.</td>\n",
       "      <td>0</td>\n",
       "      <td>0</td>\n",
       "    </tr>\n",
       "    <tr>\n",
       "      <th>1001</th>\n",
       "      <td>첫방 디버프로 초반에 절어버림. 볼것도 못보고 힌트썼는데 잘꾸며놓았다 . 살짝 장치...</td>\n",
       "      <td>0</td>\n",
       "      <td>0</td>\n",
       "    </tr>\n",
       "    <tr>\n",
       "      <th>1002</th>\n",
       "      <td>#5 - 2인 - 볼륨에 압도됨 - 히터도 방마다 빵빵함 - 다른 테마도 궁금해짐</td>\n",
       "      <td>0</td>\n",
       "      <td>0</td>\n",
       "    </tr>\n",
       "    <tr>\n",
       "      <th>1003</th>\n",
       "      <td>265, 2인, 장치. 그걸 왜 몰랐냐. 장치에 속지 말자</td>\n",
       "      <td>0</td>\n",
       "      <td>0</td>\n",
       "    </tr>\n",
       "  </tbody>\n",
       "</table>\n",
       "<p>1001 rows × 3 columns</p>\n",
       "</div>"
      ],
      "text/plain": [
       "                                                content  service  pred\n",
       "0                      #1415_20221128_3인. 흐음.잘 열어보지 않으면        0     0\n",
       "1                                                난.바보야.        0     0\n",
       "2       들어가자마자 커피향이 씨게 낫다 좋앗다 하지만 인테리어는 그냥그랫다. 풀정도 되는듯.        0     0\n",
       "3                                  3인. 스토리가 잘 감이 안 잡힌다!        0     0\n",
       "4                                   1.5/3인. 활동성 있음.추락조심        0     0\n",
       "...                                                 ...      ...   ...\n",
       "999                        나에겐 너무 어려웠던. 방탈짬바 있는 분들에게 추천        0     0\n",
       "1000             2021. 12. 26. (3인) 각자 1인분씩 하고 뿌듯했던 테마.        0     0\n",
       "1001  첫방 디버프로 초반에 절어버림. 볼것도 못보고 힌트썼는데 잘꾸며놓았다 . 살짝 장치...        0     0\n",
       "1002      #5 - 2인 - 볼륨에 압도됨 - 히터도 방마다 빵빵함 - 다른 테마도 궁금해짐        0     0\n",
       "1003                   265, 2인, 장치. 그걸 왜 몰랐냐. 장치에 속지 말자        0     0\n",
       "\n",
       "[1001 rows x 3 columns]"
      ]
     },
     "execution_count": 4,
     "metadata": {},
     "output_type": "execute_result"
    }
   ],
   "source": [
    "# 문장을 입력했을 때, 예측 값을 도출해주는 함수\n",
    "\n",
    "from torch.nn.functional import softmax\n",
    "\n",
    "# 함수 정의\n",
    "def classify_text(text):\n",
    "    # 문장을 토큰화하고 모델에 입력으로 전달\n",
    "    text = cleaned_content(text)\n",
    "    inputs = tokenizer(text, return_tensors=\"pt\")\n",
    "    outputs = model(**inputs)\n",
    "\n",
    "    # 소프트맥스 함수를 사용하여 확률값 계산\n",
    "    probabilities = softmax(outputs.logits, dim=1)\n",
    "\n",
    "    # 가장 높은 확률값에 해당하는 클래스 선택\n",
    "    predicted_class = torch.argmax(probabilities).item()\n",
    "\n",
    "    return predicted_class, probabilities\n",
    "\n",
    "def change_num(num):\n",
    "    if num == 0:\n",
    "        return (-1)\n",
    "    elif num == 1:\n",
    "        return 0\n",
    "    elif num == 2:\n",
    "        return 1\n",
    "\n",
    "pred_list = []\n",
    "for sent in tqdm(test_data['content']):\n",
    "    pred, _ = classify_text(sent)\n",
    "    pred_list.append(pred)\n",
    "\n",
    "test_data['pred'] = pred_list\n",
    "test_data['pred'] = test_data['pred'].apply(change_num)\n",
    "test_data\n",
    "    "
   ]
  },
  {
   "cell_type": "code",
   "execution_count": 5,
   "metadata": {},
   "outputs": [
    {
     "name": "stdout",
     "output_type": "stream",
     "text": [
      "전체 라벨 수 service\n",
      " 0    4884\n",
      " 1      89\n",
      "-1      50\n",
      "Name: count, dtype: int64\n",
      "train_data 라벨 수 service\n",
      " 0    3891\n",
      " 1      70\n",
      "-1      42\n",
      "Name: count, dtype: int64\n",
      "test_data 라벨 수 service\n",
      " 0    973\n",
      " 1     14\n",
      "-1     14\n",
      "Name: count, dtype: int64\n"
     ]
    }
   ],
   "source": [
    "print('전체 라벨 수', final_df['service'].value_counts())\n",
    "print('train_data 라벨 수', train_data['service'].value_counts())\n",
    "print('test_data 라벨 수', test_data['service'].value_counts())"
   ]
  },
  {
   "cell_type": "code",
   "execution_count": 6,
   "metadata": {},
   "outputs": [
    {
     "name": "stdout",
     "output_type": "stream",
     "text": [
      "0포함 예측률               precision    recall  f1-score   support\n",
      "\n",
      "          -1       0.00      0.00      0.00        14\n",
      "           0       1.00      1.00      1.00       973\n",
      "           1       0.52      0.93      0.67        14\n",
      "\n",
      "    accuracy                           0.99      1001\n",
      "   macro avg       0.51      0.64      0.56      1001\n",
      "weighted avg       0.98      0.99      0.98      1001\n",
      "\n",
      "0제외 예측률               precision    recall  f1-score   support\n",
      "\n",
      "          -1       0.00      0.00      0.00        14\n",
      "           0       0.00      0.00      0.00         0\n",
      "           1       0.52      0.93      0.67        14\n",
      "\n",
      "    accuracy                           0.46        28\n",
      "   macro avg       0.17      0.31      0.22        28\n",
      "weighted avg       0.26      0.46      0.33        28\n",
      "\n"
     ]
    },
    {
     "name": "stderr",
     "output_type": "stream",
     "text": [
      "/opt/homebrew/anaconda3/envs/bert_electra/lib/python3.9/site-packages/sklearn/metrics/_classification.py:1469: UndefinedMetricWarning: Precision and F-score are ill-defined and being set to 0.0 in labels with no predicted samples. Use `zero_division` parameter to control this behavior.\n",
      "  _warn_prf(average, modifier, msg_start, len(result))\n",
      "/opt/homebrew/anaconda3/envs/bert_electra/lib/python3.9/site-packages/sklearn/metrics/_classification.py:1469: UndefinedMetricWarning: Precision and F-score are ill-defined and being set to 0.0 in labels with no predicted samples. Use `zero_division` parameter to control this behavior.\n",
      "  _warn_prf(average, modifier, msg_start, len(result))\n",
      "/opt/homebrew/anaconda3/envs/bert_electra/lib/python3.9/site-packages/sklearn/metrics/_classification.py:1469: UndefinedMetricWarning: Precision and F-score are ill-defined and being set to 0.0 in labels with no predicted samples. Use `zero_division` parameter to control this behavior.\n",
      "  _warn_prf(average, modifier, msg_start, len(result))\n",
      "/opt/homebrew/anaconda3/envs/bert_electra/lib/python3.9/site-packages/sklearn/metrics/_classification.py:1469: UndefinedMetricWarning: Precision and F-score are ill-defined and being set to 0.0 in labels with no predicted samples. Use `zero_division` parameter to control this behavior.\n",
      "  _warn_prf(average, modifier, msg_start, len(result))\n",
      "/opt/homebrew/anaconda3/envs/bert_electra/lib/python3.9/site-packages/sklearn/metrics/_classification.py:1469: UndefinedMetricWarning: Recall and F-score are ill-defined and being set to 0.0 in labels with no true samples. Use `zero_division` parameter to control this behavior.\n",
      "  _warn_prf(average, modifier, msg_start, len(result))\n",
      "/opt/homebrew/anaconda3/envs/bert_electra/lib/python3.9/site-packages/sklearn/metrics/_classification.py:1469: UndefinedMetricWarning: Precision and F-score are ill-defined and being set to 0.0 in labels with no predicted samples. Use `zero_division` parameter to control this behavior.\n",
      "  _warn_prf(average, modifier, msg_start, len(result))\n",
      "/opt/homebrew/anaconda3/envs/bert_electra/lib/python3.9/site-packages/sklearn/metrics/_classification.py:1469: UndefinedMetricWarning: Recall and F-score are ill-defined and being set to 0.0 in labels with no true samples. Use `zero_division` parameter to control this behavior.\n",
      "  _warn_prf(average, modifier, msg_start, len(result))\n",
      "/opt/homebrew/anaconda3/envs/bert_electra/lib/python3.9/site-packages/sklearn/metrics/_classification.py:1469: UndefinedMetricWarning: Precision and F-score are ill-defined and being set to 0.0 in labels with no predicted samples. Use `zero_division` parameter to control this behavior.\n",
      "  _warn_prf(average, modifier, msg_start, len(result))\n",
      "/opt/homebrew/anaconda3/envs/bert_electra/lib/python3.9/site-packages/sklearn/metrics/_classification.py:1469: UndefinedMetricWarning: Recall and F-score are ill-defined and being set to 0.0 in labels with no true samples. Use `zero_division` parameter to control this behavior.\n",
      "  _warn_prf(average, modifier, msg_start, len(result))\n"
     ]
    }
   ],
   "source": [
    "print('0포함 예측률',classification_report(test_data['service'], test_data['pred']))\n",
    "test_data2 = test_data[test_data['service'] != 0]\n",
    "print('0제외 예측률',classification_report(test_data2['service'], test_data2['pred']))"
   ]
  },
  {
   "cell_type": "code",
   "execution_count": 7,
   "metadata": {},
   "outputs": [
    {
     "name": "stdout",
     "output_type": "stream",
     "text": [
      "문장: 서비스 대박, 평가: 1\n",
      "----------\n",
      "문장: 개친절함, 평가: 1\n",
      "----------\n",
      "문장: 서비스 개좋음, 평가: 2\n",
      "----------\n",
      "문장: 서비스 무슨 일, 평가: 2\n",
      "----------\n",
      "문장: 서비스 불친절하네, 평가: 2\n",
      "----------\n",
      "문장: 불친절함, 평가: 1\n",
      "----------\n",
      "문장: 스토리 쓰레기네, 평가: 1\n",
      "----------\n",
      "문장: 서비스는 좋은데 재미없었어요., 평가: 2\n",
      "----------\n"
     ]
    }
   ],
   "source": [
    "test = [\n",
    "    '서비스 대박',\n",
    "    '개친절함',\n",
    "    '서비스 개좋음',\n",
    "    '서비스 무슨 일',\n",
    "    '서비스 불친절하네',\n",
    "    '불친절함',\n",
    "    '스토리 쓰레기네',\n",
    "    '서비스는 좋은데 재미없었어요.',\n",
    "]\n",
    "\n",
    "for sent in test:\n",
    "    pred, _ = classify_text(sent)\n",
    "    print(f'문장: {sent}, 평가: {pred}')\n",
    "    print(\"-\"*10)"
   ]
  },
  {
   "cell_type": "markdown",
   "metadata": {},
   "source": [
    "## 2차 결과\n",
    "- 데이터 넣어주기!\n",
    "- 데이터가 부족해서 결과가 안 나온당"
   ]
  },
  {
   "cell_type": "markdown",
   "metadata": {},
   "source": [
    "# 3차 모델"
   ]
  },
  {
   "cell_type": "code",
   "execution_count": 2,
   "metadata": {},
   "outputs": [
    {
     "name": "stderr",
     "output_type": "stream",
     "text": [
      "/var/folders/t4/314qsssd1p718wry9j0bh9000000gn/T/ipykernel_96083/2105697174.py:10: SettingWithCopyWarning: \n",
      "A value is trying to be set on a copy of a slice from a DataFrame.\n",
      "Try using .loc[row_indexer,col_indexer] = value instead\n",
      "\n",
      "See the caveats in the documentation: https://pandas.pydata.org/pandas-docs/stable/user_guide/indexing.html#returning-a-view-versus-a-copy\n",
      "  service_data['content_id'] = service_data['content_id'].apply(lambda x: x.split(',')[0] if len(str(x)) > 6 else x)\n",
      "/var/folders/t4/314qsssd1p718wry9j0bh9000000gn/T/ipykernel_96083/2105697174.py:46: SettingWithCopyWarning: \n",
      "A value is trying to be set on a copy of a slice from a DataFrame.\n",
      "Try using .loc[row_indexer,col_indexer] = value instead\n",
      "\n",
      "See the caveats in the documentation: https://pandas.pydata.org/pandas-docs/stable/user_guide/indexing.html#returning-a-view-versus-a-copy\n",
      "  final_df['content'] = final_df['content'].apply(cleaned_content)\n"
     ]
    },
    {
     "name": "stdout",
     "output_type": "stream",
     "text": [
      "service\n",
      " 0    4753\n",
      " 1      89\n",
      "-1      50\n",
      "Name: count, dtype: int64\n",
      "\n",
      "\n",
      "train_data service\n",
      " 0    3807\n",
      " 1      65\n",
      "-1      42\n",
      "Name: count, dtype: int64\n",
      "\n",
      " test_data service\n",
      " 0    950\n",
      " 1     14\n",
      "-1     14\n",
      "Name: count, dtype: int64\n"
     ]
    },
    {
     "name": "stderr",
     "output_type": "stream",
     "text": [
      "/var/folders/t4/314qsssd1p718wry9j0bh9000000gn/T/ipykernel_96083/2105697174.py:47: SettingWithCopyWarning: \n",
      "A value is trying to be set on a copy of a slice from a DataFrame.\n",
      "Try using .loc[row_indexer,col_indexer] = value instead\n",
      "\n",
      "See the caveats in the documentation: https://pandas.pydata.org/pandas-docs/stable/user_guide/indexing.html#returning-a-view-versus-a-copy\n",
      "  final_df['content'] = final_df['content'].apply(kiwi_clean)\n"
     ]
    }
   ],
   "source": [
    "# labeling 된 데이터 불러오기\n",
    "survey = pd.read_csv(\"./_data/survey.csv\", index_col=0)\n",
    "survey.fillna(0, inplace=True)\n",
    "survey = survey.reset_index()\n",
    "\n",
    "# 데이터 중에서 작업을 하고자 하는 라벨만 가져오기\n",
    "service_data = survey[['content_id', 'service']]\n",
    "\n",
    "# content_id 중에서 댓글이 같이 추가된 데이터 정리\n",
    "service_data['content_id'] = service_data['content_id'].apply(lambda x: x.split(',')[0] if len(str(x)) > 6 else x)\n",
    "\n",
    "# content_id 가 0인 데이터 제외 -> content_id 모두 int type 으로 변경 (추후 Merge 를 위함)\n",
    "service_data = service_data[service_data['content_id'] != 0].reset_index().drop(columns=['index'])\n",
    "service_data['content_id'] = service_data['content_id'].astype(int)\n",
    "\n",
    "# 전체 review data 불러오기\n",
    "review_all = pd.read_csv(\"./_data/reviews.csv\", index_col=0)\n",
    "\n",
    "# 전체 review data 중에서 survey data에 있는 댓글만 가져오기\n",
    "survey_content = review_all.loc[review_all['id'].isin(service_data['content_id'])][['id', 'content']]\n",
    "# merge 를 위해서 id 컬럼명 통일하기\n",
    "survey_content.columns=['content_id', 'content']\n",
    "\n",
    "# 통일된 content_id 를 기반으로 데이터 merge\n",
    "service_data = pd.merge(service_data, survey_content)\n",
    "\n",
    "# 추후 원활한 계산을 위해서 숫자 부분은 모두 int 로 바꿔줌\n",
    "service_data['service'] = service_data['service'].astype(int)\n",
    "\n",
    "final_df = service_data[['content', 'service']]\n",
    "\n",
    "# 최소한의 전처리\n",
    "def cleaned_content(text):\n",
    "    d = re.sub('\\n', '. ', text) # 줄바꿈 > .\n",
    "    d = re.sub('[^가-힣0-9a-zA-Z ]{2,}', \".\", d) # 특수문자 두개 이상인거 .으로 변경\n",
    "    return d\n",
    "\n",
    "def kiwi_clean(text):\n",
    "    get_kiwi_pos = ['NNG', 'NP', 'NNP', 'MM', 'VV', 'VV-I', 'VV-R', 'VA', 'VA-I', 'VA-R', 'VCP', 'VCN', 'MAG', 'MAJ', 'XR']\n",
    "    kiwi_lem = []\n",
    "    for word in kiwi.tokenize(text):\n",
    "        if word.tag in get_kiwi_pos:\n",
    "            kiwi_lem.append(word.lemma)\n",
    "    return ' '.join(kiwi_lem)\n",
    "\n",
    "final_df['content'] = final_df['content'].apply(cleaned_content)\n",
    "final_df['content'] = final_df['content'].apply(kiwi_clean)\n",
    "\n",
    "\n",
    "final_df = final_df.drop_duplicates()\n",
    "final_df = final_df.reset_index().drop(columns = ['index'])\n",
    "\n",
    "# 라벨별 개수 확인\n",
    "print(final_df['service'].value_counts())\n",
    "print('\\n')\n",
    "train_data = final_df.sample(frac=0.8, random_state=42).reset_index().drop(columns='index')\n",
    "print('train_data', train_data['service'].value_counts())\n",
    "test_data = final_df.drop(train_data.index).reset_index().drop(columns='index')\n",
    "print('\\n', 'test_data', test_data['service'].value_counts())"
   ]
  },
  {
   "cell_type": "code",
   "execution_count": 6,
   "metadata": {},
   "outputs": [
    {
     "name": "stderr",
     "output_type": "stream",
     "text": [
      "Some weights of ElectraForSequenceClassification were not initialized from the model checkpoint at monologg/koelectra-small-v3-discriminator and are newly initialized: ['classifier.out_proj.bias', 'classifier.dense.bias', 'classifier.dense.weight', 'classifier.out_proj.weight']\n",
      "You should probably TRAIN this model on a down-stream task to be able to use it for predictions and inference.\n"
     ]
    },
    {
     "data": {
      "text/plain": [
       "Embedding(35080, 128)"
      ]
     },
     "execution_count": 6,
     "metadata": {},
     "output_type": "execute_result"
    }
   ],
   "source": [
    "# 토큰에 추가할 단어 -> '방탈출'이라는 도메인 지시기에 근거한 용어, 분리되어서는 안 되기 때문에 별도로 추가 작업 진행\n",
    "addword = ['공테', '약공테', '감테', '창공', '갑툭튀', '삐딱', '삑', '꽝', '삑딱쾅', '삑딱쾅', '삑딱', '쫄', '극쫄',\n",
    "            '극극쫄', '쫄팟', '쫄탱', '쫄보', '극', '약탱', '탱쫄', '극극극', '뉴비', '하드캐리', '극혐', '피지컬',\n",
    "            '어거지', '뚝배기', '뚝문', '셀뚝', '억까', '트롤링', '트롤짓', '흙길', '풀길', '꽃길', '풀꽃', '꽃다발',\n",
    "            '꽃밭', '웰메이드', '인생테마', '머글', '방린이', '방유아', '방세포', '방태아', '방탈러', '과몰입러', '옵저버',\n",
    "            '리트', '연방', '혼방', '혼불', '워킹', '워크인', '장치방', '문제방', '직렬', '병렬', '육각형', '볼드', '볼드충', '에바',\n",
    "            '가이드', '조도', '조명', '밝기', '어두움', '인테리어', '비주얼', '소품', '디자인',\n",
    "            '스토리','기승전결','흐름도','결말','서사','이야기','유니버스','전개','시나리오', '개연성', '명료',\n",
    "            '창의성','창의','신선','독특','참신','발상', '연출','짜임','사실감','구현','현실감','현장감', '활동성','활동력','활동량','움직임','반경',\n",
    "            '규모','스케일','볼륨','사이즈','크기','넓이','공간감','분량', '공포','공테','무서움','담력','스릴러',\n",
    "            '문제', '장치', '기계', '센서', '기구', '불친절',\n",
    "            '메르헨', '커튼콜', '카르텔', '소우주', '풀문', '도고', '플래시', '나우히어', '나비효과', '몽중', '가이드라인',\n",
    "            '연출력', '짜임새', '공포도', '공포감', '공포심', '약공테', '문제퀄']\n",
    "\n",
    "# 사전학습된 bert 모델 사용\n",
    "# num_labels 클래스에 대해서 훈련을 하기 위해서 num_labels=3 할당함, problem_type=\"multi_label_classification\" 를 통해서 모델이 다중 레이블 분류에 해당함을 명시\n",
    "model = ElectraForSequenceClassification.from_pretrained(\"monologg/koelectra-small-v3-discriminator\", num_labels=3, problem_type=\"multi_label_classification\")\n",
    "tokenizer = ElectraTokenizer.from_pretrained(\"monologg/koelectra-base-v3-discriminator\")\n",
    "\n",
    "# token에 새로운 단어 추가 \n",
    "tokenizer.add_tokens(addword)\n",
    "# token에 단어 추가후 기존 모델의 임베딩 레이어에 추가한 단어에 대한 임베딩 벡터가 없을 수 있기 때문\n",
    "# 아래 코드를 통해서 토큰의 개수가 변했음을 모델에 알리고 모델의 임베딩 레이어를 조정하여 새로운 토큰을 수용할 수 있게 함\n",
    "model.resize_token_embeddings(len(tokenizer))"
   ]
  },
  {
   "cell_type": "code",
   "execution_count": 7,
   "metadata": {},
   "outputs": [],
   "source": [
    "# train content 토큰화\n",
    "tokenized_train_sentences = tokenizer(\n",
    "    list(train_data['content']),\n",
    "    return_tensors=\"pt\",\n",
    "    max_length=128,\n",
    "    padding=True,\n",
    "    truncation=True,\n",
    "    add_special_tokens=True\n",
    ")\n",
    "\n",
    "# test content 토큰화\n",
    "tokenized_test_sentences = tokenizer(\n",
    "    list(test_data['content']),\n",
    "    return_tensors=\"pt\",\n",
    "    max_length=128,\n",
    "    padding=True,\n",
    "    truncation=True,\n",
    "    add_special_tokens=True\n",
    ")\n",
    "\n",
    "# 분류 모델에 넣기 위해서 1차원으로 구성된 세 개의 클래스를 2차원으로 재구성 후 label 로 투입\n",
    "# -1(부정)=0, 0(중립)=1, 1(긍정)=2\n",
    "\n",
    "train_label = []\n",
    "for label in train_data[\"service\"].values:\n",
    "    if label == -1:\n",
    "        train_label.append([1., 0., 0.])\n",
    "    elif label == 0:\n",
    "        train_label.append([0., 1., 0.])\n",
    "    elif label == 1:\n",
    "        train_label.append([0., 0., 1.])\n",
    "\n",
    "test_label = []\n",
    "for label in test_data['service'].values:\n",
    "    if label == 0:\n",
    "        test_label.append([0., 1., 0.])\n",
    "    elif label == -1:\n",
    "        test_label.append([1., 0., 0.])\n",
    "    elif label == 1:\n",
    "        test_label.append([0., 0., 1.])\n",
    "\n",
    "# model 에 넣기 위한 dataset 생성 class\n",
    "class CurseDataset(torch.utils.data.Dataset):\n",
    "    def __init__(self, encodings, labels):\n",
    "        self.encodings = encodings\n",
    "        self.labels = labels\n",
    "    \n",
    "    def __getitem__(self, idx):\n",
    "        item = {key: torch.tensor(val[idx]) for key, val in self.encodings.items()}\n",
    "        item[\"labels\"] = torch.tensor(self.labels[idx])\n",
    "        return item\n",
    "    \n",
    "    def __len__(self):\n",
    "        return len(self.labels)\n",
    "        \n",
    "# bert 모델에 데이터가 들어갈 수 있게 만들어 둔 class를 활용하여 train, test dataset 생성\n",
    "train_dataset = CurseDataset(tokenized_train_sentences, train_label)\n",
    "test_dataset = CurseDataset(tokenized_test_sentences, test_label)\n",
    "\n",
    "# hugging face 의 trasformers 라이브러리를 사용하여 모델 훈련시킬 때 사용되는 객체 설정 부분\n",
    "training_args = TrainingArguments(\n",
    "    output_dir = './service_model/check_point/try_3',    # 모델과 훈련 중 생성되는 파일이 저장될 디렉토리 경로\n",
    "    num_train_epochs = 30,              # 훈련 epoch 수\n",
    "    per_device_train_batch_size = 16,    # 장치에 할당된 훈련 배치 크기\n",
    "    per_device_eval_batch_size = 64,    # 장치에 할당된 평가 배치 크기, 모델을 평가할 때 사용되는 배치 크기\n",
    "    logging_dir = './logs',             # 훈련 중 로그 파일이 저장될 디렉토리\n",
    "    logging_steps = 500,                # 로그 출력 빈도, 500 step에 한 번씩 출력 예정\n",
    "    save_total_limit = 2,               # 체크포인트 파일 저장 제한 수\n",
    ")\n",
    "\n",
    "# hugging face 의 trasformers 라이브러리를 사용하여 모델 훈련하고 관리하는 객체 설정 부분\n",
    "trainer = Trainer(\n",
    "    model=model,\n",
    "    args=training_args,\n",
    "    train_dataset=train_dataset,\n",
    "    eval_dataset=test_dataset,\n",
    ")"
   ]
  },
  {
   "cell_type": "code",
   "execution_count": 8,
   "metadata": {},
   "outputs": [
    {
     "name": "stderr",
     "output_type": "stream",
     "text": [
      "  0%|          | 0/7350 [00:00<?, ?it/s]/var/folders/t4/314qsssd1p718wry9j0bh9000000gn/T/ipykernel_93641/1452544400.py:49: UserWarning: To copy construct from a tensor, it is recommended to use sourceTensor.clone().detach() or sourceTensor.clone().detach().requires_grad_(True), rather than torch.tensor(sourceTensor).\n",
      "  item = {key: torch.tensor(val[idx]) for key, val in self.encodings.items()}\n",
      "  7%|▋         | 500/7350 [01:47<28:02,  4.07it/s]  "
     ]
    },
    {
     "name": "stdout",
     "output_type": "stream",
     "text": [
      "{'loss': 0.1809, 'learning_rate': 4.6598639455782315e-05, 'epoch': 2.04}\n"
     ]
    },
    {
     "name": "stderr",
     "output_type": "stream",
     "text": [
      "/var/folders/t4/314qsssd1p718wry9j0bh9000000gn/T/ipykernel_93641/1452544400.py:49: UserWarning: To copy construct from a tensor, it is recommended to use sourceTensor.clone().detach() or sourceTensor.clone().detach().requires_grad_(True), rather than torch.tensor(sourceTensor).\n",
      "  item = {key: torch.tensor(val[idx]) for key, val in self.encodings.items()}\n",
      " 14%|█▎        | 1000/7350 [03:48<26:02,  4.06it/s]"
     ]
    },
    {
     "name": "stdout",
     "output_type": "stream",
     "text": [
      "{'loss': 0.0913, 'learning_rate': 4.319727891156463e-05, 'epoch': 4.08}\n"
     ]
    },
    {
     "name": "stderr",
     "output_type": "stream",
     "text": [
      "/var/folders/t4/314qsssd1p718wry9j0bh9000000gn/T/ipykernel_93641/1452544400.py:49: UserWarning: To copy construct from a tensor, it is recommended to use sourceTensor.clone().detach() or sourceTensor.clone().detach().requires_grad_(True), rather than torch.tensor(sourceTensor).\n",
      "  item = {key: torch.tensor(val[idx]) for key, val in self.encodings.items()}\n",
      " 20%|██        | 1500/7350 [05:47<23:15,  4.19it/s]"
     ]
    },
    {
     "name": "stdout",
     "output_type": "stream",
     "text": [
      "{'loss': 0.0892, 'learning_rate': 3.979591836734694e-05, 'epoch': 6.12}\n"
     ]
    },
    {
     "name": "stderr",
     "output_type": "stream",
     "text": [
      "/var/folders/t4/314qsssd1p718wry9j0bh9000000gn/T/ipykernel_93641/1452544400.py:49: UserWarning: To copy construct from a tensor, it is recommended to use sourceTensor.clone().detach() or sourceTensor.clone().detach().requires_grad_(True), rather than torch.tensor(sourceTensor).\n",
      "  item = {key: torch.tensor(val[idx]) for key, val in self.encodings.items()}\n",
      " 27%|██▋       | 2000/7350 [07:45<20:35,  4.33it/s]"
     ]
    },
    {
     "name": "stdout",
     "output_type": "stream",
     "text": [
      "{'loss': 0.0835, 'learning_rate': 3.639455782312925e-05, 'epoch': 8.16}\n"
     ]
    },
    {
     "name": "stderr",
     "output_type": "stream",
     "text": [
      "/var/folders/t4/314qsssd1p718wry9j0bh9000000gn/T/ipykernel_93641/1452544400.py:49: UserWarning: To copy construct from a tensor, it is recommended to use sourceTensor.clone().detach() or sourceTensor.clone().detach().requires_grad_(True), rather than torch.tensor(sourceTensor).\n",
      "  item = {key: torch.tensor(val[idx]) for key, val in self.encodings.items()}\n",
      " 34%|███▍      | 2500/7350 [09:44<19:15,  4.20it/s]"
     ]
    },
    {
     "name": "stdout",
     "output_type": "stream",
     "text": [
      "{'loss': 0.092, 'learning_rate': 3.2993197278911564e-05, 'epoch': 10.2}\n"
     ]
    },
    {
     "name": "stderr",
     "output_type": "stream",
     "text": [
      "/var/folders/t4/314qsssd1p718wry9j0bh9000000gn/T/ipykernel_93641/1452544400.py:49: UserWarning: To copy construct from a tensor, it is recommended to use sourceTensor.clone().detach() or sourceTensor.clone().detach().requires_grad_(True), rather than torch.tensor(sourceTensor).\n",
      "  item = {key: torch.tensor(val[idx]) for key, val in self.encodings.items()}\n",
      " 41%|████      | 3000/7350 [11:43<17:17,  4.19it/s]"
     ]
    },
    {
     "name": "stdout",
     "output_type": "stream",
     "text": [
      "{'loss': 0.091, 'learning_rate': 2.959183673469388e-05, 'epoch': 12.24}\n"
     ]
    },
    {
     "name": "stderr",
     "output_type": "stream",
     "text": [
      "/var/folders/t4/314qsssd1p718wry9j0bh9000000gn/T/ipykernel_93641/1452544400.py:49: UserWarning: To copy construct from a tensor, it is recommended to use sourceTensor.clone().detach() or sourceTensor.clone().detach().requires_grad_(True), rather than torch.tensor(sourceTensor).\n",
      "  item = {key: torch.tensor(val[idx]) for key, val in self.encodings.items()}\n",
      " 48%|████▊     | 3500/7350 [13:45<15:26,  4.15it/s]"
     ]
    },
    {
     "name": "stdout",
     "output_type": "stream",
     "text": [
      "{'loss': 0.0897, 'learning_rate': 2.6190476190476192e-05, 'epoch': 14.29}\n"
     ]
    },
    {
     "name": "stderr",
     "output_type": "stream",
     "text": [
      "/var/folders/t4/314qsssd1p718wry9j0bh9000000gn/T/ipykernel_93641/1452544400.py:49: UserWarning: To copy construct from a tensor, it is recommended to use sourceTensor.clone().detach() or sourceTensor.clone().detach().requires_grad_(True), rather than torch.tensor(sourceTensor).\n",
      "  item = {key: torch.tensor(val[idx]) for key, val in self.encodings.items()}\n",
      " 54%|█████▍    | 4000/7350 [15:48<13:04,  4.27it/s]"
     ]
    },
    {
     "name": "stdout",
     "output_type": "stream",
     "text": [
      "{'loss': 0.0916, 'learning_rate': 2.2789115646258505e-05, 'epoch': 16.33}\n"
     ]
    },
    {
     "name": "stderr",
     "output_type": "stream",
     "text": [
      "/var/folders/t4/314qsssd1p718wry9j0bh9000000gn/T/ipykernel_93641/1452544400.py:49: UserWarning: To copy construct from a tensor, it is recommended to use sourceTensor.clone().detach() or sourceTensor.clone().detach().requires_grad_(True), rather than torch.tensor(sourceTensor).\n",
      "  item = {key: torch.tensor(val[idx]) for key, val in self.encodings.items()}\n",
      " 61%|██████    | 4500/7350 [17:49<11:27,  4.15it/s]"
     ]
    },
    {
     "name": "stdout",
     "output_type": "stream",
     "text": [
      "{'loss': 0.0887, 'learning_rate': 1.9387755102040817e-05, 'epoch': 18.37}\n"
     ]
    },
    {
     "name": "stderr",
     "output_type": "stream",
     "text": [
      "/var/folders/t4/314qsssd1p718wry9j0bh9000000gn/T/ipykernel_93641/1452544400.py:49: UserWarning: To copy construct from a tensor, it is recommended to use sourceTensor.clone().detach() or sourceTensor.clone().detach().requires_grad_(True), rather than torch.tensor(sourceTensor).\n",
      "  item = {key: torch.tensor(val[idx]) for key, val in self.encodings.items()}\n",
      " 68%|██████▊   | 5000/7350 [19:50<09:26,  4.15it/s]"
     ]
    },
    {
     "name": "stdout",
     "output_type": "stream",
     "text": [
      "{'loss': 0.0915, 'learning_rate': 1.5986394557823133e-05, 'epoch': 20.41}\n"
     ]
    },
    {
     "name": "stderr",
     "output_type": "stream",
     "text": [
      "/var/folders/t4/314qsssd1p718wry9j0bh9000000gn/T/ipykernel_93641/1452544400.py:49: UserWarning: To copy construct from a tensor, it is recommended to use sourceTensor.clone().detach() or sourceTensor.clone().detach().requires_grad_(True), rather than torch.tensor(sourceTensor).\n",
      "  item = {key: torch.tensor(val[idx]) for key, val in self.encodings.items()}\n",
      " 75%|███████▍  | 5500/7350 [21:51<07:22,  4.18it/s]"
     ]
    },
    {
     "name": "stdout",
     "output_type": "stream",
     "text": [
      "{'loss': 0.0833, 'learning_rate': 1.2585034013605443e-05, 'epoch': 22.45}\n"
     ]
    },
    {
     "name": "stderr",
     "output_type": "stream",
     "text": [
      "/var/folders/t4/314qsssd1p718wry9j0bh9000000gn/T/ipykernel_93641/1452544400.py:49: UserWarning: To copy construct from a tensor, it is recommended to use sourceTensor.clone().detach() or sourceTensor.clone().detach().requires_grad_(True), rather than torch.tensor(sourceTensor).\n",
      "  item = {key: torch.tensor(val[idx]) for key, val in self.encodings.items()}\n",
      " 82%|████████▏ | 6000/7350 [23:51<05:14,  4.29it/s]"
     ]
    },
    {
     "name": "stdout",
     "output_type": "stream",
     "text": [
      "{'loss': 0.0571, 'learning_rate': 9.183673469387756e-06, 'epoch': 24.49}\n"
     ]
    },
    {
     "name": "stderr",
     "output_type": "stream",
     "text": [
      "/var/folders/t4/314qsssd1p718wry9j0bh9000000gn/T/ipykernel_93641/1452544400.py:49: UserWarning: To copy construct from a tensor, it is recommended to use sourceTensor.clone().detach() or sourceTensor.clone().detach().requires_grad_(True), rather than torch.tensor(sourceTensor).\n",
      "  item = {key: torch.tensor(val[idx]) for key, val in self.encodings.items()}\n",
      " 88%|████████▊ | 6500/7350 [25:53<03:30,  4.04it/s]"
     ]
    },
    {
     "name": "stdout",
     "output_type": "stream",
     "text": [
      "{'loss': 0.0587, 'learning_rate': 5.782312925170069e-06, 'epoch': 26.53}\n"
     ]
    },
    {
     "name": "stderr",
     "output_type": "stream",
     "text": [
      "/var/folders/t4/314qsssd1p718wry9j0bh9000000gn/T/ipykernel_93641/1452544400.py:49: UserWarning: To copy construct from a tensor, it is recommended to use sourceTensor.clone().detach() or sourceTensor.clone().detach().requires_grad_(True), rather than torch.tensor(sourceTensor).\n",
      "  item = {key: torch.tensor(val[idx]) for key, val in self.encodings.items()}\n",
      " 95%|█████████▌| 7000/7350 [27:56<01:23,  4.21it/s]"
     ]
    },
    {
     "name": "stdout",
     "output_type": "stream",
     "text": [
      "{'loss': 0.0543, 'learning_rate': 2.3809523809523808e-06, 'epoch': 28.57}\n"
     ]
    },
    {
     "name": "stderr",
     "output_type": "stream",
     "text": [
      "/var/folders/t4/314qsssd1p718wry9j0bh9000000gn/T/ipykernel_93641/1452544400.py:49: UserWarning: To copy construct from a tensor, it is recommended to use sourceTensor.clone().detach() or sourceTensor.clone().detach().requires_grad_(True), rather than torch.tensor(sourceTensor).\n",
      "  item = {key: torch.tensor(val[idx]) for key, val in self.encodings.items()}\n",
      "100%|██████████| 7350/7350 [29:21<00:00,  4.17it/s]"
     ]
    },
    {
     "name": "stdout",
     "output_type": "stream",
     "text": [
      "{'train_runtime': 1761.155, 'train_samples_per_second': 66.672, 'train_steps_per_second': 4.173, 'train_loss': 0.08718719274819303, 'epoch': 30.0}\n"
     ]
    },
    {
     "name": "stderr",
     "output_type": "stream",
     "text": [
      "\n"
     ]
    },
    {
     "data": {
      "text/plain": [
       "TrainOutput(global_step=7350, training_loss=0.08718719274819303, metrics={'train_runtime': 1761.155, 'train_samples_per_second': 66.672, 'train_steps_per_second': 4.173, 'train_loss': 0.08718719274819303, 'epoch': 30.0})"
      ]
     },
     "execution_count": 8,
     "metadata": {},
     "output_type": "execute_result"
    }
   ],
   "source": [
    "# train 진행\n",
    "trainer.train() "
   ]
  },
  {
   "cell_type": "code",
   "execution_count": 9,
   "metadata": {},
   "outputs": [
    {
     "data": {
      "text/plain": [
       "('./service_model/try_3/service_tokenizer3/tokenizer_config.json',\n",
       " './service_model/try_3/service_tokenizer3/special_tokens_map.json',\n",
       " './service_model/try_3/service_tokenizer3/vocab.txt',\n",
       " './service_model/try_3/service_tokenizer3/added_tokens.json')"
      ]
     },
     "execution_count": 9,
     "metadata": {},
     "output_type": "execute_result"
    }
   ],
   "source": [
    "trainer.save_model(\"./service_model/try_3/service_model3\")\n",
    "tokenizer.save_pretrained(\"./service_model/try_3/service_tokenizer3\")"
   ]
  },
  {
   "cell_type": "code",
   "execution_count": 3,
   "metadata": {},
   "outputs": [
    {
     "name": "stderr",
     "output_type": "stream",
     "text": [
      "Special tokens have been added in the vocabulary, make sure the associated word embeddings are fine-tuned or trained.\n"
     ]
    }
   ],
   "source": [
    "# 저장된 모델과 토크나이저를 불러오기\n",
    "\n",
    "model_path = \"./service_model/try_3/service_model3\"\n",
    "tokenizer_path = \"./service_model/try_3/service_tokenizer3\"\n",
    "\n",
    "model = ElectraForSequenceClassification.from_pretrained(model_path)\n",
    "tokenizer = ElectraTokenizer.from_pretrained(tokenizer_path)"
   ]
  },
  {
   "cell_type": "code",
   "execution_count": 7,
   "metadata": {},
   "outputs": [
    {
     "name": "stderr",
     "output_type": "stream",
     "text": [
      "100%|██████████| 978/978 [00:14<00:00, 66.52it/s]\n"
     ]
    },
    {
     "data": {
      "text/html": [
       "<div>\n",
       "<style scoped>\n",
       "    .dataframe tbody tr th:only-of-type {\n",
       "        vertical-align: middle;\n",
       "    }\n",
       "\n",
       "    .dataframe tbody tr th {\n",
       "        vertical-align: top;\n",
       "    }\n",
       "\n",
       "    .dataframe thead th {\n",
       "        text-align: right;\n",
       "    }\n",
       "</style>\n",
       "<table border=\"1\" class=\"dataframe\">\n",
       "  <thead>\n",
       "    <tr style=\"text-align: right;\">\n",
       "      <th></th>\n",
       "      <th>content</th>\n",
       "      <th>service</th>\n",
       "      <th>pred</th>\n",
       "    </tr>\n",
       "  </thead>\n",
       "  <tbody>\n",
       "    <tr>\n",
       "      <th>0</th>\n",
       "      <td>인 활동 있다 추락 조심</td>\n",
       "      <td>0</td>\n",
       "      <td>0</td>\n",
       "    </tr>\n",
       "    <tr>\n",
       "      <th>1</th>\n",
       "      <td>인 나 눈 없다 치다</td>\n",
       "      <td>0</td>\n",
       "      <td>0</td>\n",
       "    </tr>\n",
       "    <tr>\n",
       "      <th>2</th>\n",
       "      <td>인테리어 향기 굿 문제 전반 쉽다 문제 이다 같다 나 능지 얼마나 낮다 알다 있다</td>\n",
       "      <td>0</td>\n",
       "      <td>0</td>\n",
       "    </tr>\n",
       "    <tr>\n",
       "      <th>3</th>\n",
       "      <td>문제 재밌다 타임 어택 느낌 좋다 급하다 하다 스토리 못 즐기다 아쉽다</td>\n",
       "      <td>0</td>\n",
       "      <td>0</td>\n",
       "    </tr>\n",
       "    <tr>\n",
       "      <th>4</th>\n",
       "      <td>첫 탈출 우왕좌왕 그래도 거의 탈출 코앞 이다</td>\n",
       "      <td>0</td>\n",
       "      <td>0</td>\n",
       "    </tr>\n",
       "    <tr>\n",
       "      <th>...</th>\n",
       "      <td>...</td>\n",
       "      <td>...</td>\n",
       "      <td>...</td>\n",
       "    </tr>\n",
       "    <tr>\n",
       "      <th>973</th>\n",
       "      <td>나 너무 어렵다 방탈짬바 있다 추천</td>\n",
       "      <td>0</td>\n",
       "      <td>0</td>\n",
       "    </tr>\n",
       "    <tr>\n",
       "      <th>974</th>\n",
       "      <td>인 각자 하다 뿌듯하다 테마</td>\n",
       "      <td>0</td>\n",
       "      <td>0</td>\n",
       "    </tr>\n",
       "    <tr>\n",
       "      <th>975</th>\n",
       "      <td>첫 디버프로 초반 절다 보다 못 보다 힌트 쓰다 잘 꾸미다 살짝 장치 오류 아쉽다</td>\n",
       "      <td>0</td>\n",
       "      <td>0</td>\n",
       "    </tr>\n",
       "    <tr>\n",
       "      <th>976</th>\n",
       "      <td>인 볼륨 압도 히터 방 빵빵하다 다른 테마 궁금</td>\n",
       "      <td>0</td>\n",
       "      <td>0</td>\n",
       "    </tr>\n",
       "    <tr>\n",
       "      <th>977</th>\n",
       "      <td>인 장치 그거 왜 모르다 장치 속다</td>\n",
       "      <td>0</td>\n",
       "      <td>0</td>\n",
       "    </tr>\n",
       "  </tbody>\n",
       "</table>\n",
       "<p>978 rows × 3 columns</p>\n",
       "</div>"
      ],
      "text/plain": [
       "                                           content  service  pred\n",
       "0                                    인 활동 있다 추락 조심        0     0\n",
       "1                                      인 나 눈 없다 치다        0     0\n",
       "2    인테리어 향기 굿 문제 전반 쉽다 문제 이다 같다 나 능지 얼마나 낮다 알다 있다        0     0\n",
       "3          문제 재밌다 타임 어택 느낌 좋다 급하다 하다 스토리 못 즐기다 아쉽다        0     0\n",
       "4                        첫 탈출 우왕좌왕 그래도 거의 탈출 코앞 이다        0     0\n",
       "..                                             ...      ...   ...\n",
       "973                            나 너무 어렵다 방탈짬바 있다 추천        0     0\n",
       "974                                인 각자 하다 뿌듯하다 테마        0     0\n",
       "975  첫 디버프로 초반 절다 보다 못 보다 힌트 쓰다 잘 꾸미다 살짝 장치 오류 아쉽다        0     0\n",
       "976                     인 볼륨 압도 히터 방 빵빵하다 다른 테마 궁금        0     0\n",
       "977                            인 장치 그거 왜 모르다 장치 속다        0     0\n",
       "\n",
       "[978 rows x 3 columns]"
      ]
     },
     "execution_count": 7,
     "metadata": {},
     "output_type": "execute_result"
    }
   ],
   "source": [
    "# 문장을 입력했을 때, 예측 값을 도출해주는 함수\n",
    "\n",
    "from torch.nn.functional import softmax\n",
    "\n",
    "# 함수 정의\n",
    "def classify_text(text):\n",
    "    # 문장을 토큰화하고 모델에 입력으로 전달\n",
    "    text = cleaned_content(text)\n",
    "    text = kiwi_clean(text)\n",
    "    inputs = tokenizer(text, return_tensors=\"pt\")\n",
    "    outputs = model(**inputs)\n",
    "\n",
    "    # 소프트맥스 함수를 사용하여 확률값 계산\n",
    "    probabilities = softmax(outputs.logits, dim=1)\n",
    "\n",
    "    # 가장 높은 확률값에 해당하는 클래스 선택\n",
    "    predicted_class = torch.argmax(probabilities).item()\n",
    "\n",
    "    return predicted_class, probabilities\n",
    "\n",
    "def change_num(num):\n",
    "    if num == 0:\n",
    "        return (-1)\n",
    "    elif num == 1:\n",
    "        return 0\n",
    "    elif num == 2:\n",
    "        return 1\n",
    "\n",
    "pred_list = []\n",
    "for sent in tqdm(test_data['content']):\n",
    "    pred, _ = classify_text(sent)\n",
    "    pred_list.append(pred)\n",
    "\n",
    "test_data['pred'] = pred_list\n",
    "test_data['pred'] = test_data['pred'].apply(change_num)\n",
    "test_data\n",
    "    "
   ]
  },
  {
   "cell_type": "code",
   "execution_count": 8,
   "metadata": {},
   "outputs": [
    {
     "name": "stderr",
     "output_type": "stream",
     "text": [
      "/opt/homebrew/anaconda3/envs/bert_electra/lib/python3.9/site-packages/sklearn/metrics/_classification.py:1469: UndefinedMetricWarning: Precision and F-score are ill-defined and being set to 0.0 in labels with no predicted samples. Use `zero_division` parameter to control this behavior.\n",
      "  _warn_prf(average, modifier, msg_start, len(result))\n",
      "/opt/homebrew/anaconda3/envs/bert_electra/lib/python3.9/site-packages/sklearn/metrics/_classification.py:1469: UndefinedMetricWarning: Precision and F-score are ill-defined and being set to 0.0 in labels with no predicted samples. Use `zero_division` parameter to control this behavior.\n",
      "  _warn_prf(average, modifier, msg_start, len(result))\n",
      "/opt/homebrew/anaconda3/envs/bert_electra/lib/python3.9/site-packages/sklearn/metrics/_classification.py:1469: UndefinedMetricWarning: Precision and F-score are ill-defined and being set to 0.0 in labels with no predicted samples. Use `zero_division` parameter to control this behavior.\n",
      "  _warn_prf(average, modifier, msg_start, len(result))\n",
      "/opt/homebrew/anaconda3/envs/bert_electra/lib/python3.9/site-packages/sklearn/metrics/_classification.py:1469: UndefinedMetricWarning: Precision and F-score are ill-defined and being set to 0.0 in labels with no predicted samples. Use `zero_division` parameter to control this behavior.\n",
      "  _warn_prf(average, modifier, msg_start, len(result))\n",
      "/opt/homebrew/anaconda3/envs/bert_electra/lib/python3.9/site-packages/sklearn/metrics/_classification.py:1469: UndefinedMetricWarning: Recall and F-score are ill-defined and being set to 0.0 in labels with no true samples. Use `zero_division` parameter to control this behavior.\n",
      "  _warn_prf(average, modifier, msg_start, len(result))\n",
      "/opt/homebrew/anaconda3/envs/bert_electra/lib/python3.9/site-packages/sklearn/metrics/_classification.py:1469: UndefinedMetricWarning: Precision and F-score are ill-defined and being set to 0.0 in labels with no predicted samples. Use `zero_division` parameter to control this behavior.\n",
      "  _warn_prf(average, modifier, msg_start, len(result))\n",
      "/opt/homebrew/anaconda3/envs/bert_electra/lib/python3.9/site-packages/sklearn/metrics/_classification.py:1469: UndefinedMetricWarning: Recall and F-score are ill-defined and being set to 0.0 in labels with no true samples. Use `zero_division` parameter to control this behavior.\n",
      "  _warn_prf(average, modifier, msg_start, len(result))\n",
      "/opt/homebrew/anaconda3/envs/bert_electra/lib/python3.9/site-packages/sklearn/metrics/_classification.py:1469: UndefinedMetricWarning: Precision and F-score are ill-defined and being set to 0.0 in labels with no predicted samples. Use `zero_division` parameter to control this behavior.\n",
      "  _warn_prf(average, modifier, msg_start, len(result))\n",
      "/opt/homebrew/anaconda3/envs/bert_electra/lib/python3.9/site-packages/sklearn/metrics/_classification.py:1469: UndefinedMetricWarning: Recall and F-score are ill-defined and being set to 0.0 in labels with no true samples. Use `zero_division` parameter to control this behavior.\n",
      "  _warn_prf(average, modifier, msg_start, len(result))\n"
     ]
    },
    {
     "name": "stdout",
     "output_type": "stream",
     "text": [
      "              precision    recall  f1-score   support\n",
      "\n",
      "          -1       0.00      0.00      0.00        14\n",
      "           0       0.98      1.00      0.99       950\n",
      "           1       0.55      0.43      0.48        14\n",
      "\n",
      "    accuracy                           0.98       978\n",
      "   macro avg       0.51      0.48      0.49       978\n",
      "weighted avg       0.96      0.98      0.97       978\n",
      "\n",
      "              precision    recall  f1-score   support\n",
      "\n",
      "          -1       0.00      0.00      0.00        14\n",
      "           0       0.00      0.00      0.00         0\n",
      "           1       0.60      0.43      0.50        14\n",
      "\n",
      "    accuracy                           0.21        28\n",
      "   macro avg       0.20      0.14      0.17        28\n",
      "weighted avg       0.30      0.21      0.25        28\n",
      "\n"
     ]
    }
   ],
   "source": [
    "print(classification_report(test_data['service'], test_data['pred']))\n",
    "test_data2 = test_data[test_data['service'] != 0]\n",
    "print(classification_report(test_data2['service'], test_data2['pred']))"
   ]
  },
  {
   "cell_type": "code",
   "execution_count": 9,
   "metadata": {},
   "outputs": [
    {
     "name": "stdout",
     "output_type": "stream",
     "text": [
      "문장: 서비스 대박, 평가: 1\n",
      "----------\n",
      "문장: 개친절함, 평가: 2\n",
      "----------\n",
      "문장: 서비스 개좋음, 평가: 1\n",
      "----------\n",
      "문장: 서비스 무슨 일, 평가: 1\n",
      "----------\n",
      "문장: 서비스 불친절하네, 평가: 2\n",
      "----------\n",
      "문장: 불친절함, 평가: 2\n",
      "----------\n",
      "문장: 스토리 쓰레기네, 평가: 1\n",
      "----------\n",
      "문장: 서비스는 좋은데 재미없었어요., 평가: 1\n",
      "----------\n"
     ]
    }
   ],
   "source": [
    "test = [\n",
    "    '서비스 대박',\n",
    "    '개친절함',\n",
    "    '서비스 개좋음',\n",
    "    '서비스 무슨 일',\n",
    "    '서비스 불친절하네',\n",
    "    '불친절함',\n",
    "    '스토리 쓰레기네',\n",
    "    '서비스는 좋은데 재미없었어요.',\n",
    "]\n",
    "\n",
    "for sent in test:\n",
    "    pred, _ = classify_text(sent)\n",
    "    print(f'문장: {sent}, 평가: {pred}')\n",
    "    print(\"-\"*10)"
   ]
  },
  {
   "cell_type": "markdown",
   "metadata": {},
   "source": [
    "# 4차 모델"
   ]
  },
  {
   "cell_type": "code",
   "execution_count": 2,
   "metadata": {},
   "outputs": [
    {
     "name": "stderr",
     "output_type": "stream",
     "text": [
      "/var/folders/t4/314qsssd1p718wry9j0bh9000000gn/T/ipykernel_2297/823715976.py:10: SettingWithCopyWarning: \n",
      "A value is trying to be set on a copy of a slice from a DataFrame.\n",
      "Try using .loc[row_indexer,col_indexer] = value instead\n",
      "\n",
      "See the caveats in the documentation: https://pandas.pydata.org/pandas-docs/stable/user_guide/indexing.html#returning-a-view-versus-a-copy\n",
      "  service_data['content_id'] = service_data['content_id'].apply(lambda x: x.split(',')[0] if len(str(x)) > 6 else x)\n"
     ]
    },
    {
     "name": "stdout",
     "output_type": "stream",
     "text": [
      "service\n",
      " 0    4753\n",
      " 1     117\n",
      "-1      86\n",
      "Name: count, dtype: int64\n",
      "\n",
      "\n",
      "train_data service\n",
      " 0    3809\n",
      " 1      87\n",
      "-1      69\n",
      "Name: count, dtype: int64\n",
      "\n",
      " test_data service\n",
      " 0    901\n",
      "-1     49\n",
      " 1     41\n",
      "Name: count, dtype: int64\n"
     ]
    }
   ],
   "source": [
    "# labeling 된 데이터 불러오기\n",
    "survey = pd.read_csv(\"./_data/survey.csv\", index_col=0)\n",
    "survey.fillna(0, inplace=True)\n",
    "survey = survey.reset_index()\n",
    "\n",
    "# 데이터 중에서 작업을 하고자 하는 라벨만 가져오기\n",
    "service_data = survey[['content_id', 'service']]\n",
    "\n",
    "# content_id 중에서 댓글이 같이 추가된 데이터 정리\n",
    "service_data['content_id'] = service_data['content_id'].apply(lambda x: x.split(',')[0] if len(str(x)) > 6 else x)\n",
    "\n",
    "# content_id 가 0인 데이터 제외 -> content_id 모두 int type 으로 변경 (추후 Merge 를 위함)\n",
    "service_data = service_data[service_data['content_id'] != 0].reset_index().drop(columns=['index'])\n",
    "service_data['content_id'] = service_data['content_id'].astype(int)\n",
    "\n",
    "# 전체 review data 불러오기\n",
    "review_all = pd.read_csv(\"./_data/reviews.csv\", index_col=0)\n",
    "\n",
    "# 전체 review data 중에서 survey data에 있는 댓글만 가져오기\n",
    "survey_content = review_all.loc[review_all['id'].isin(service_data['content_id'])][['id', 'content']]\n",
    "# merge 를 위해서 id 컬럼명 통일하기\n",
    "survey_content.columns=['content_id', 'content']\n",
    "\n",
    "# 통일된 content_id 를 기반으로 데이터 merge\n",
    "service_data = pd.merge(service_data, survey_content)\n",
    "\n",
    "# 추후 원활한 계산을 위해서 숫자 부분은 모두 int 로 바꿔줌\n",
    "service_data['service'] = service_data['service'].astype(int)\n",
    "final_df = service_data[['content', 'service']]\n",
    "\n",
    "# 데이터 추가\n",
    "new_data = [\n",
    "    ('서비스 적당함', 1), ('서비스 아주 딱이었음', 1), ('서비스가 친절해서 좋았어요', 1), ('그냥 왕 친절함', 1),\n",
    "    ('서비스 완벽했음', 1), ('온도 습도 밝기 서비스 다 완벽했다', 1), ('처음부터 끝까지 다 친절해서 좋았어요', 1), ('친절 굳', 1),\n",
    "    ('서비스 적당함, 방탈출 과정에서 필요한 서비스가 딱 적절함', 1), ('서비스 아주 딱이었음, 방탈출에서의 서비스가 완벽함', 1),\n",
    "    ('서비스가 친절해서 좋았어요, 방탈출 도중 높은 서비스 수준에 만족', 1), ('그냥 왕 친절함, 방탈출에서 받은 서비스가 정말 왕 친절', 1),\n",
    "    ('서비스 완벽했음, 방탈출에서의 서비스가 탁월함', 1), ('온도 습도 밝기 서비스 다 완벽했다, 방탈출 공간에서 제공된 서비스가 완벽함', 1),\n",
    "    ('처음부터 끝까지 다 친절해서 좋았어요, 방탈출 도중 받은 서비스가 시작부터 끝까지 친절함', 1), ('친절 굳, 방탈출에서의 서비스 친절도가 굉장히 좋음', 1),\n",
    "    ('서비스가 훌륭해서 더 재미있었어요, 방탈출에서의 서비스가 전반적인 경험을 더욱 풍부하게 해줌', 1), ('서비스에 감동 받았어요, 방탈출에서의 서비스가 감동적이었음', 1),\n",
    "    ('서비스가 예상보다 좋아서 기분 좋았어요, 방탈출에서의 서비스가 예상을 뛰어넘어 기분 좋음', 1), ('서비스가 매우 세심하게 이뤄져서 좋았어요, 방탈출에서의 세심한 서비스가 만족스러움', 1),\n",
    "    ('서비스가 기대 이상이었어요, 방탈출에서의 서비스가 기대를 뛰어넘어 만족스러움', 1), ('서비스가 팀의 플레이를 더 재미있게 만들어줬어요, 방탈출에서의 서비스가 팀 플레이를 더욱 즐겁게 함', 1),\n",
    "    ('서비스가 고급스러워서 놀랐어요, 방탈출에서의 고급스러운 서비스가 놀라움', 1), ('서비스가 전문적이어서 신뢰감이 있었어요, 방탈출에서의 전문적인 서비스가 신뢰감을 부여함', 1),\n",
    "    ('서비스가 훌륭하게 조화를 이루고 있어서 좋았어요, 방탈출에서의 서비스가 조화롭게 어우러져 좋음', 1), ('서비스가 편안한 분위기를 만들어줘서 좋았어요, 방탈출에서의 서비스가 분위기를 더욱 편안하게 함', 1),\n",
    "    ('서비스가 최고라서 다음에도 꼭 방문하고 싶어졌어요, 방탈출에서의 최고의 서비스로 인해 재방문을 강하게 희망', 1), ('서비스가 기억에 남을 만큼 좋았어요, 방탈출에서의 서비스가 기억에 남음', 1),\n",
    "\n",
    "    ('서비스 개쓰레기임', -1), ('서비스 실화냐', -1), ('너무 불친절해서 다시는 안 가고 싶음', -1), ('돈 받고 이러는 거 아니지', -1),\n",
    "    ('서비스 너무 별로여서 하루종일 불쾌했어요.', -1), ('서비스 개실망', -1), ('직원 교육 안 시키냐', -1), ('서비스 최악임', -1), \n",
    "    ('엄청 불친절하고 별로임', -1), ('안 친절함', -1), ('친절하지 않음', -1), ('친절이 없음', -1), ('직원들 싸가지 없음', -1),\n",
    "    ('이렇게 해서 어떻게 장사하려고 함? 친절이라곤 하나도 모르는 사람들이잖아.', -1),\n",
    "    ('서비스 나쁘다', -1), ('서비스 개쓰레기임, 방탈출에서의 서비스가 실망스러움', -1), ('서비스 실화냐, 방탈출에서의 서비스가 현실과 너무 다름', -1),\n",
    "    ('너무 불친절해서 다시는 안 가고 싶음, 방탈출 도중 경험한 불친절한 서비스로 인해 재방문 의사 없음', -1),\n",
    "    ('돈 받고 이러는 거 아니지, 지불한 대가에 비해 서비스가 부족함', -1),\n",
    "    ('서비스 너무 별로여서 하루종일 불쾌했어요., 방탈출에서의 서비스가 매우 불쾌함을 느껴 하루 종일 기분 나쁨', -1),\n",
    "    ('서비스 개실망, 방탈출에서의 서비스에 대한 실망이 큼', -1),\n",
    "    ('직원 교육 안 시키냐, 방탈출의 서비스 수준이 직원 교육이 부족한 것 같음', -1),\n",
    "    ('서비스 최악임, 방탈출에서 경험한 서비스가 최악임', -1),\n",
    "    ('서비스 나쁘다, 방탈출에서의 서비스 품질이 낮음', -1),\n",
    "    ('이런 서비스면 다른 데로 가야지, 방탈출에서의 서비스가 다른 곳으로 가야할 정도로 나쁨', -1),\n",
    "    ('서비스가 망했어, 방탈출에서의 서비스가 전반적으로 망침', -1),\n",
    "    ('서비스가 형편없어, 방탈출에서의 서비스 퀄리티가 형편없음', -1),\n",
    "    ('이 정도면 돈이 아깝다, 방탈출에서의 서비스가 지불한 돈에 비해 가치 없음', -1),\n",
    "    ('서비스가 최악인데 어떻게 운영하냐, 방탈출에서의 최악의 서비스로 운영에 대한 의문', -1),\n",
    "    ('이런 서비스에 돈 주기 싫다, 방탈출에서의 서비스가 돈을 주기에는 미흡함', -1),\n",
    "    ('서비스가 말도 안 되게 나쁘다, 방탈출에서의 서비스 품질이 심각하게 나쁨', -1),\n",
    "    ('서비스가 엉망이야, 방탈출에서의 서비스가 전반적으로 엉망임', -1),\n",
    "    ('이런 서비스로 어떻게 운영이 되냐, 방탈출에서의 서비스가 운영에 대한 의문을 남김', -1),\n",
    "    ('서비스가 최악이었어, 방탈출에서의 서비스가 최악임', -1),\n",
    "    ('서비스가 너무 별로라 실망스러웠어요, 방탈출에서의 서비스에 대한 실망이 큼', -1),\n",
    "    ('서비스가 너무 나쁘다, 방탈출에서의 서비스 품질이 매우 낮음', -1)\n",
    "]\n",
    "\n",
    "new_df = pd.DataFrame(new_data, columns=['content', 'service'])\n",
    "final_df = pd.concat([final_df, new_df])\n",
    "\n",
    "\n",
    "\n",
    "\n",
    "\n",
    "# 최소한의 전처리\n",
    "def cleaned_content(text):\n",
    "    d = re.sub('\\n', '. ', text) # 줄바꿈 > .\n",
    "    d = re.sub('[^가-힣0-9a-zA-Z ]{2,}', \".\", d) # 특수문자 두개 이상인거 .으로 변경\n",
    "    return d\n",
    "\n",
    "def kiwi_clean(text):\n",
    "    get_kiwi_pos = ['NNG', 'NP', 'NNP', 'MM', 'VV', 'VV-I', 'VV-R', 'VA', 'VA-I', 'VA-R', 'VCP', 'VCN', 'MAG', 'MAJ', 'XR']\n",
    "    kiwi_lem = []\n",
    "    for word in kiwi.tokenize(text):\n",
    "        if word.tag in get_kiwi_pos:\n",
    "            kiwi_lem.append(word.lemma)\n",
    "    return ' '.join(kiwi_lem)\n",
    "\n",
    "final_df['content'] = final_df['content'].apply(cleaned_content)\n",
    "final_df['content'] = final_df['content'].apply(kiwi_clean)\n",
    "\n",
    "\n",
    "final_df = final_df.drop_duplicates()\n",
    "final_df = final_df.reset_index().drop(columns = ['index'])\n",
    "\n",
    "# 라벨별 개수 확인\n",
    "print(final_df['service'].value_counts())\n",
    "print('\\n')\n",
    "train_data = final_df.sample(frac=0.8, random_state=42).reset_index().drop(columns='index')\n",
    "print('train_data', train_data['service'].value_counts())\n",
    "test_data = final_df.drop(train_data.index).reset_index().drop(columns='index')\n",
    "print('\\n', 'test_data', test_data['service'].value_counts())"
   ]
  },
  {
   "cell_type": "code",
   "execution_count": 12,
   "metadata": {},
   "outputs": [
    {
     "name": "stderr",
     "output_type": "stream",
     "text": [
      "Some weights of ElectraForSequenceClassification were not initialized from the model checkpoint at monologg/koelectra-small-v3-discriminator and are newly initialized: ['classifier.dense.weight', 'classifier.out_proj.weight', 'classifier.out_proj.bias', 'classifier.dense.bias']\n",
      "You should probably TRAIN this model on a down-stream task to be able to use it for predictions and inference.\n"
     ]
    },
    {
     "data": {
      "text/plain": [
       "Embedding(35080, 128)"
      ]
     },
     "execution_count": 12,
     "metadata": {},
     "output_type": "execute_result"
    }
   ],
   "source": [
    "# 토큰에 추가할 단어 -> '방탈출'이라는 도메인 지시기에 근거한 용어, 분리되어서는 안 되기 때문에 별도로 추가 작업 진행\n",
    "addword = ['공테', '약공테', '감테', '창공', '갑툭튀', '삐딱', '삑', '꽝', '삑딱쾅', '삑딱쾅', '삑딱', '쫄', '극쫄',\n",
    "            '극극쫄', '쫄팟', '쫄탱', '쫄보', '극', '약탱', '탱쫄', '극극극', '뉴비', '하드캐리', '극혐', '피지컬',\n",
    "            '어거지', '뚝배기', '뚝문', '셀뚝', '억까', '트롤링', '트롤짓', '흙길', '풀길', '꽃길', '풀꽃', '꽃다발',\n",
    "            '꽃밭', '웰메이드', '인생테마', '머글', '방린이', '방유아', '방세포', '방태아', '방탈러', '과몰입러', '옵저버',\n",
    "            '리트', '연방', '혼방', '혼불', '워킹', '워크인', '장치방', '문제방', '직렬', '병렬', '육각형', '볼드', '볼드충', '에바',\n",
    "            '가이드', '조도', '조명', '밝기', '어두움', '인테리어', '비주얼', '소품', '디자인',\n",
    "            '스토리','기승전결','흐름도','결말','서사','이야기','유니버스','전개','시나리오', '개연성', '명료',\n",
    "            '창의성','창의','신선','독특','참신','발상', '연출','짜임','사실감','구현','현실감','현장감', '활동성','활동력','활동량','움직임','반경',\n",
    "            '규모','스케일','볼륨','사이즈','크기','넓이','공간감','분량', '공포','공테','무서움','담력','스릴러',\n",
    "            '문제', '장치', '기계', '센서', '기구', '불친절',\n",
    "            '메르헨', '커튼콜', '카르텔', '소우주', '풀문', '도고', '플래시', '나우히어', '나비효과', '몽중', '가이드라인',\n",
    "            '연출력', '짜임새', '공포도', '공포감', '공포심', '약공테', '문제퀄']\n",
    "\n",
    "# 사전학습된 bert 모델 사용\n",
    "# num_labels 클래스에 대해서 훈련을 하기 위해서 num_labels=3 할당함, problem_type=\"multi_label_classification\" 를 통해서 모델이 다중 레이블 분류에 해당함을 명시\n",
    "model = ElectraForSequenceClassification.from_pretrained(\"monologg/koelectra-small-v3-discriminator\", num_labels=3, problem_type=\"multi_label_classification\")\n",
    "tokenizer = ElectraTokenizer.from_pretrained(\"monologg/koelectra-base-v3-discriminator\")\n",
    "\n",
    "# token에 새로운 단어 추가 \n",
    "tokenizer.add_tokens(addword)\n",
    "# token에 단어 추가후 기존 모델의 임베딩 레이어에 추가한 단어에 대한 임베딩 벡터가 없을 수 있기 때문\n",
    "# 아래 코드를 통해서 토큰의 개수가 변했음을 모델에 알리고 모델의 임베딩 레이어를 조정하여 새로운 토큰을 수용할 수 있게 함\n",
    "model.resize_token_embeddings(len(tokenizer))"
   ]
  },
  {
   "cell_type": "code",
   "execution_count": 8,
   "metadata": {},
   "outputs": [],
   "source": [
    "# train content 토큰화\n",
    "tokenized_train_sentences = tokenizer(\n",
    "    list(train_data['content']),\n",
    "    return_tensors=\"pt\",\n",
    "    max_length=128,\n",
    "    padding=True,\n",
    "    truncation=True,\n",
    "    add_special_tokens=True\n",
    ")\n",
    "\n",
    "# test content 토큰화\n",
    "tokenized_test_sentences = tokenizer(\n",
    "    list(test_data['content']),\n",
    "    return_tensors=\"pt\",\n",
    "    max_length=128,\n",
    "    padding=True,\n",
    "    truncation=True,\n",
    "    add_special_tokens=True\n",
    ")\n",
    "\n",
    "# 분류 모델에 넣기 위해서 1차원으로 구성된 세 개의 클래스를 2차원으로 재구성 후 label 로 투입\n",
    "# -1(부정)=0, 0(중립)=1, 1(긍정)=2\n",
    "\n",
    "train_label = []\n",
    "for label in train_data[\"service\"].values:\n",
    "    if label == -1:\n",
    "        train_label.append([1., 0., 0.])\n",
    "    elif label == 0:\n",
    "        train_label.append([0., 1., 0.])\n",
    "    elif label == 1:\n",
    "        train_label.append([0., 0., 1.])\n",
    "\n",
    "test_label = []\n",
    "for label in test_data['service'].values:\n",
    "    if label == 0:\n",
    "        test_label.append([0., 1., 0.])\n",
    "    elif label == -1:\n",
    "        test_label.append([1., 0., 0.])\n",
    "    elif label == 1:\n",
    "        test_label.append([0., 0., 1.])\n",
    "\n",
    "# model 에 넣기 위한 dataset 생성 class\n",
    "class CurseDataset(torch.utils.data.Dataset):\n",
    "    def __init__(self, encodings, labels):\n",
    "        self.encodings = encodings\n",
    "        self.labels = labels\n",
    "    \n",
    "    def __getitem__(self, idx):\n",
    "        item = {key: torch.tensor(val[idx]) for key, val in self.encodings.items()}\n",
    "        item[\"labels\"] = torch.tensor(self.labels[idx])\n",
    "        return item\n",
    "    \n",
    "    def __len__(self):\n",
    "        return len(self.labels)\n",
    "        \n",
    "# bert 모델에 데이터가 들어갈 수 있게 만들어 둔 class를 활용하여 train, test dataset 생성\n",
    "train_dataset = CurseDataset(tokenized_train_sentences, train_label)\n",
    "test_dataset = CurseDataset(tokenized_test_sentences, test_label)\n",
    "\n",
    "# hugging face 의 trasformers 라이브러리를 사용하여 모델 훈련시킬 때 사용되는 객체 설정 부분\n",
    "training_args = TrainingArguments(\n",
    "    output_dir = './service_model/check_point/try_4',    # 모델과 훈련 중 생성되는 파일이 저장될 디렉토리 경로\n",
    "    num_train_epochs = 40,              # 훈련 epoch 수\n",
    "    per_device_train_batch_size = 16,    # 장치에 할당된 훈련 배치 크기\n",
    "    per_device_eval_batch_size = 64,    # 장치에 할당된 평가 배치 크기, 모델을 평가할 때 사용되는 배치 크기\n",
    "    logging_dir = './logs',             # 훈련 중 로그 파일이 저장될 디렉토리\n",
    "    logging_steps = 500,                # 로그 출력 빈도, 500 step에 한 번씩 출력 예정\n",
    "    save_total_limit = 2,               # 체크포인트 파일 저장 제한 수\n",
    ")\n",
    "\n",
    "# hugging face 의 trasformers 라이브러리를 사용하여 모델 훈련하고 관리하는 객체 설정 부분\n",
    "trainer = Trainer(\n",
    "    model=model,\n",
    "    args=training_args,\n",
    "    train_dataset=train_dataset,\n",
    "    eval_dataset=test_dataset,\n",
    ")"
   ]
  },
  {
   "cell_type": "code",
   "execution_count": 9,
   "metadata": {},
   "outputs": [
    {
     "name": "stderr",
     "output_type": "stream",
     "text": [
      "  0%|          | 0/9920 [00:00<?, ?it/s]/var/folders/t4/314qsssd1p718wry9j0bh9000000gn/T/ipykernel_99827/972789307.py:49: UserWarning: To copy construct from a tensor, it is recommended to use sourceTensor.clone().detach() or sourceTensor.clone().detach().requires_grad_(True), rather than torch.tensor(sourceTensor).\n",
      "  item = {key: torch.tensor(val[idx]) for key, val in self.encodings.items()}\n",
      "  5%|▌         | 500/9920 [01:28<28:11,  5.57it/s]  "
     ]
    },
    {
     "name": "stdout",
     "output_type": "stream",
     "text": [
      "{'loss': 0.0111, 'learning_rate': 4.7479838709677423e-05, 'epoch': 2.02}\n"
     ]
    },
    {
     "name": "stderr",
     "output_type": "stream",
     "text": [
      "/var/folders/t4/314qsssd1p718wry9j0bh9000000gn/T/ipykernel_99827/972789307.py:49: UserWarning: To copy construct from a tensor, it is recommended to use sourceTensor.clone().detach() or sourceTensor.clone().detach().requires_grad_(True), rather than torch.tensor(sourceTensor).\n",
      "  item = {key: torch.tensor(val[idx]) for key, val in self.encodings.items()}\n",
      " 10%|█         | 1000/9920 [02:55<26:04,  5.70it/s]"
     ]
    },
    {
     "name": "stdout",
     "output_type": "stream",
     "text": [
      "{'loss': 0.0125, 'learning_rate': 4.495967741935484e-05, 'epoch': 4.03}\n"
     ]
    },
    {
     "name": "stderr",
     "output_type": "stream",
     "text": [
      "/var/folders/t4/314qsssd1p718wry9j0bh9000000gn/T/ipykernel_99827/972789307.py:49: UserWarning: To copy construct from a tensor, it is recommended to use sourceTensor.clone().detach() or sourceTensor.clone().detach().requires_grad_(True), rather than torch.tensor(sourceTensor).\n",
      "  item = {key: torch.tensor(val[idx]) for key, val in self.encodings.items()}\n",
      " 15%|█▌        | 1500/9920 [04:23<25:34,  5.49it/s]"
     ]
    },
    {
     "name": "stdout",
     "output_type": "stream",
     "text": [
      "{'loss': 0.006, 'learning_rate': 4.243951612903226e-05, 'epoch': 6.05}\n"
     ]
    },
    {
     "name": "stderr",
     "output_type": "stream",
     "text": [
      "/var/folders/t4/314qsssd1p718wry9j0bh9000000gn/T/ipykernel_99827/972789307.py:49: UserWarning: To copy construct from a tensor, it is recommended to use sourceTensor.clone().detach() or sourceTensor.clone().detach().requires_grad_(True), rather than torch.tensor(sourceTensor).\n",
      "  item = {key: torch.tensor(val[idx]) for key, val in self.encodings.items()}\n",
      " 20%|██        | 2000/9920 [05:51<22:17,  5.92it/s]"
     ]
    },
    {
     "name": "stdout",
     "output_type": "stream",
     "text": [
      "{'loss': 0.007, 'learning_rate': 3.991935483870968e-05, 'epoch': 8.06}\n"
     ]
    },
    {
     "name": "stderr",
     "output_type": "stream",
     "text": [
      "/var/folders/t4/314qsssd1p718wry9j0bh9000000gn/T/ipykernel_99827/972789307.py:49: UserWarning: To copy construct from a tensor, it is recommended to use sourceTensor.clone().detach() or sourceTensor.clone().detach().requires_grad_(True), rather than torch.tensor(sourceTensor).\n",
      "  item = {key: torch.tensor(val[idx]) for key, val in self.encodings.items()}\n",
      " 25%|██▌       | 2500/9920 [07:17<21:11,  5.83it/s]"
     ]
    },
    {
     "name": "stdout",
     "output_type": "stream",
     "text": [
      "{'loss': 0.0043, 'learning_rate': 3.7399193548387094e-05, 'epoch': 10.08}\n"
     ]
    },
    {
     "name": "stderr",
     "output_type": "stream",
     "text": [
      "/var/folders/t4/314qsssd1p718wry9j0bh9000000gn/T/ipykernel_99827/972789307.py:49: UserWarning: To copy construct from a tensor, it is recommended to use sourceTensor.clone().detach() or sourceTensor.clone().detach().requires_grad_(True), rather than torch.tensor(sourceTensor).\n",
      "  item = {key: torch.tensor(val[idx]) for key, val in self.encodings.items()}\n",
      " 30%|███       | 3000/9920 [08:43<20:11,  5.71it/s]"
     ]
    },
    {
     "name": "stdout",
     "output_type": "stream",
     "text": [
      "{'loss': 0.004, 'learning_rate': 3.487903225806452e-05, 'epoch': 12.1}\n"
     ]
    },
    {
     "name": "stderr",
     "output_type": "stream",
     "text": [
      "/var/folders/t4/314qsssd1p718wry9j0bh9000000gn/T/ipykernel_99827/972789307.py:49: UserWarning: To copy construct from a tensor, it is recommended to use sourceTensor.clone().detach() or sourceTensor.clone().detach().requires_grad_(True), rather than torch.tensor(sourceTensor).\n",
      "  item = {key: torch.tensor(val[idx]) for key, val in self.encodings.items()}\n",
      " 35%|███▌      | 3500/9920 [10:09<18:40,  5.73it/s]"
     ]
    },
    {
     "name": "stdout",
     "output_type": "stream",
     "text": [
      "{'loss': 0.0029, 'learning_rate': 3.2358870967741936e-05, 'epoch': 14.11}\n"
     ]
    },
    {
     "name": "stderr",
     "output_type": "stream",
     "text": [
      "/var/folders/t4/314qsssd1p718wry9j0bh9000000gn/T/ipykernel_99827/972789307.py:49: UserWarning: To copy construct from a tensor, it is recommended to use sourceTensor.clone().detach() or sourceTensor.clone().detach().requires_grad_(True), rather than torch.tensor(sourceTensor).\n",
      "  item = {key: torch.tensor(val[idx]) for key, val in self.encodings.items()}\n",
      " 40%|████      | 4000/9920 [11:35<16:51,  5.85it/s]"
     ]
    },
    {
     "name": "stdout",
     "output_type": "stream",
     "text": [
      "{'loss': 0.0028, 'learning_rate': 2.9838709677419357e-05, 'epoch': 16.13}\n"
     ]
    },
    {
     "name": "stderr",
     "output_type": "stream",
     "text": [
      "/var/folders/t4/314qsssd1p718wry9j0bh9000000gn/T/ipykernel_99827/972789307.py:49: UserWarning: To copy construct from a tensor, it is recommended to use sourceTensor.clone().detach() or sourceTensor.clone().detach().requires_grad_(True), rather than torch.tensor(sourceTensor).\n",
      "  item = {key: torch.tensor(val[idx]) for key, val in self.encodings.items()}\n",
      " 45%|████▌     | 4500/9920 [13:01<15:36,  5.79it/s]"
     ]
    },
    {
     "name": "stdout",
     "output_type": "stream",
     "text": [
      "{'loss': 0.0014, 'learning_rate': 2.7318548387096775e-05, 'epoch': 18.15}\n"
     ]
    },
    {
     "name": "stderr",
     "output_type": "stream",
     "text": [
      "/var/folders/t4/314qsssd1p718wry9j0bh9000000gn/T/ipykernel_99827/972789307.py:49: UserWarning: To copy construct from a tensor, it is recommended to use sourceTensor.clone().detach() or sourceTensor.clone().detach().requires_grad_(True), rather than torch.tensor(sourceTensor).\n",
      "  item = {key: torch.tensor(val[idx]) for key, val in self.encodings.items()}\n",
      " 50%|█████     | 5000/9920 [14:28<14:20,  5.72it/s]"
     ]
    },
    {
     "name": "stdout",
     "output_type": "stream",
     "text": [
      "{'loss': 0.0012, 'learning_rate': 2.4798387096774196e-05, 'epoch': 20.16}\n"
     ]
    },
    {
     "name": "stderr",
     "output_type": "stream",
     "text": [
      "/var/folders/t4/314qsssd1p718wry9j0bh9000000gn/T/ipykernel_99827/972789307.py:49: UserWarning: To copy construct from a tensor, it is recommended to use sourceTensor.clone().detach() or sourceTensor.clone().detach().requires_grad_(True), rather than torch.tensor(sourceTensor).\n",
      "  item = {key: torch.tensor(val[idx]) for key, val in self.encodings.items()}\n",
      " 55%|█████▌    | 5500/9920 [15:54<12:49,  5.74it/s]"
     ]
    },
    {
     "name": "stdout",
     "output_type": "stream",
     "text": [
      "{'loss': 0.0021, 'learning_rate': 2.2278225806451614e-05, 'epoch': 22.18}\n"
     ]
    },
    {
     "name": "stderr",
     "output_type": "stream",
     "text": [
      "/var/folders/t4/314qsssd1p718wry9j0bh9000000gn/T/ipykernel_99827/972789307.py:49: UserWarning: To copy construct from a tensor, it is recommended to use sourceTensor.clone().detach() or sourceTensor.clone().detach().requires_grad_(True), rather than torch.tensor(sourceTensor).\n",
      "  item = {key: torch.tensor(val[idx]) for key, val in self.encodings.items()}\n",
      " 60%|██████    | 6000/9920 [17:21<11:08,  5.87it/s]"
     ]
    },
    {
     "name": "stdout",
     "output_type": "stream",
     "text": [
      "{'loss': 0.0012, 'learning_rate': 1.975806451612903e-05, 'epoch': 24.19}\n"
     ]
    },
    {
     "name": "stderr",
     "output_type": "stream",
     "text": [
      "/var/folders/t4/314qsssd1p718wry9j0bh9000000gn/T/ipykernel_99827/972789307.py:49: UserWarning: To copy construct from a tensor, it is recommended to use sourceTensor.clone().detach() or sourceTensor.clone().detach().requires_grad_(True), rather than torch.tensor(sourceTensor).\n",
      "  item = {key: torch.tensor(val[idx]) for key, val in self.encodings.items()}\n",
      " 66%|██████▌   | 6500/9920 [18:46<09:34,  5.96it/s]"
     ]
    },
    {
     "name": "stdout",
     "output_type": "stream",
     "text": [
      "{'loss': 0.0022, 'learning_rate': 1.7237903225806452e-05, 'epoch': 26.21}\n"
     ]
    },
    {
     "name": "stderr",
     "output_type": "stream",
     "text": [
      "/var/folders/t4/314qsssd1p718wry9j0bh9000000gn/T/ipykernel_99827/972789307.py:49: UserWarning: To copy construct from a tensor, it is recommended to use sourceTensor.clone().detach() or sourceTensor.clone().detach().requires_grad_(True), rather than torch.tensor(sourceTensor).\n",
      "  item = {key: torch.tensor(val[idx]) for key, val in self.encodings.items()}\n",
      " 71%|███████   | 7000/9920 [20:12<08:31,  5.71it/s]"
     ]
    },
    {
     "name": "stdout",
     "output_type": "stream",
     "text": [
      "{'loss': 0.0004, 'learning_rate': 1.4717741935483872e-05, 'epoch': 28.23}\n"
     ]
    },
    {
     "name": "stderr",
     "output_type": "stream",
     "text": [
      "/var/folders/t4/314qsssd1p718wry9j0bh9000000gn/T/ipykernel_99827/972789307.py:49: UserWarning: To copy construct from a tensor, it is recommended to use sourceTensor.clone().detach() or sourceTensor.clone().detach().requires_grad_(True), rather than torch.tensor(sourceTensor).\n",
      "  item = {key: torch.tensor(val[idx]) for key, val in self.encodings.items()}\n",
      " 76%|███████▌  | 7500/9920 [21:38<06:53,  5.85it/s]"
     ]
    },
    {
     "name": "stdout",
     "output_type": "stream",
     "text": [
      "{'loss': 0.0014, 'learning_rate': 1.2197580645161291e-05, 'epoch': 30.24}\n"
     ]
    },
    {
     "name": "stderr",
     "output_type": "stream",
     "text": [
      "/var/folders/t4/314qsssd1p718wry9j0bh9000000gn/T/ipykernel_99827/972789307.py:49: UserWarning: To copy construct from a tensor, it is recommended to use sourceTensor.clone().detach() or sourceTensor.clone().detach().requires_grad_(True), rather than torch.tensor(sourceTensor).\n",
      "  item = {key: torch.tensor(val[idx]) for key, val in self.encodings.items()}\n",
      " 81%|████████  | 8000/9920 [23:05<05:36,  5.70it/s]"
     ]
    },
    {
     "name": "stdout",
     "output_type": "stream",
     "text": [
      "{'loss': 0.0006, 'learning_rate': 9.67741935483871e-06, 'epoch': 32.26}\n"
     ]
    },
    {
     "name": "stderr",
     "output_type": "stream",
     "text": [
      "/var/folders/t4/314qsssd1p718wry9j0bh9000000gn/T/ipykernel_99827/972789307.py:49: UserWarning: To copy construct from a tensor, it is recommended to use sourceTensor.clone().detach() or sourceTensor.clone().detach().requires_grad_(True), rather than torch.tensor(sourceTensor).\n",
      "  item = {key: torch.tensor(val[idx]) for key, val in self.encodings.items()}\n",
      " 86%|████████▌ | 8500/9920 [24:32<04:07,  5.73it/s]"
     ]
    },
    {
     "name": "stdout",
     "output_type": "stream",
     "text": [
      "{'loss': 0.0006, 'learning_rate': 7.15725806451613e-06, 'epoch': 34.27}\n"
     ]
    },
    {
     "name": "stderr",
     "output_type": "stream",
     "text": [
      "/var/folders/t4/314qsssd1p718wry9j0bh9000000gn/T/ipykernel_99827/972789307.py:49: UserWarning: To copy construct from a tensor, it is recommended to use sourceTensor.clone().detach() or sourceTensor.clone().detach().requires_grad_(True), rather than torch.tensor(sourceTensor).\n",
      "  item = {key: torch.tensor(val[idx]) for key, val in self.encodings.items()}\n",
      " 91%|█████████ | 9000/9920 [25:58<02:36,  5.87it/s]"
     ]
    },
    {
     "name": "stdout",
     "output_type": "stream",
     "text": [
      "{'loss': 0.0003, 'learning_rate': 4.637096774193548e-06, 'epoch': 36.29}\n"
     ]
    },
    {
     "name": "stderr",
     "output_type": "stream",
     "text": [
      "/var/folders/t4/314qsssd1p718wry9j0bh9000000gn/T/ipykernel_99827/972789307.py:49: UserWarning: To copy construct from a tensor, it is recommended to use sourceTensor.clone().detach() or sourceTensor.clone().detach().requires_grad_(True), rather than torch.tensor(sourceTensor).\n",
      "  item = {key: torch.tensor(val[idx]) for key, val in self.encodings.items()}\n",
      " 96%|█████████▌| 9500/9920 [27:26<01:12,  5.80it/s]"
     ]
    },
    {
     "name": "stdout",
     "output_type": "stream",
     "text": [
      "{'loss': 0.0004, 'learning_rate': 2.1169354838709676e-06, 'epoch': 38.31}\n"
     ]
    },
    {
     "name": "stderr",
     "output_type": "stream",
     "text": [
      "/var/folders/t4/314qsssd1p718wry9j0bh9000000gn/T/ipykernel_99827/972789307.py:49: UserWarning: To copy construct from a tensor, it is recommended to use sourceTensor.clone().detach() or sourceTensor.clone().detach().requires_grad_(True), rather than torch.tensor(sourceTensor).\n",
      "  item = {key: torch.tensor(val[idx]) for key, val in self.encodings.items()}\n",
      "100%|██████████| 9920/9920 [28:40<00:00,  5.77it/s]"
     ]
    },
    {
     "name": "stdout",
     "output_type": "stream",
     "text": [
      "{'train_runtime': 1720.2693, 'train_samples_per_second': 92.195, 'train_steps_per_second': 5.767, 'train_loss': 0.003199645265516254, 'epoch': 40.0}\n"
     ]
    },
    {
     "name": "stderr",
     "output_type": "stream",
     "text": [
      "\n"
     ]
    },
    {
     "data": {
      "text/plain": [
       "TrainOutput(global_step=9920, training_loss=0.003199645265516254, metrics={'train_runtime': 1720.2693, 'train_samples_per_second': 92.195, 'train_steps_per_second': 5.767, 'train_loss': 0.003199645265516254, 'epoch': 40.0})"
      ]
     },
     "execution_count": 9,
     "metadata": {},
     "output_type": "execute_result"
    }
   ],
   "source": [
    "# train 진행\n",
    "trainer.train() "
   ]
  },
  {
   "cell_type": "code",
   "execution_count": 11,
   "metadata": {},
   "outputs": [
    {
     "data": {
      "text/plain": [
       "('./service_model/try_4/service_tokenizer4/tokenizer_config.json',\n",
       " './service_model/try_4/service_tokenizer4/special_tokens_map.json',\n",
       " './service_model/try_4/service_tokenizer4/vocab.txt',\n",
       " './service_model/try_4/service_tokenizer4/added_tokens.json')"
      ]
     },
     "execution_count": 11,
     "metadata": {},
     "output_type": "execute_result"
    }
   ],
   "source": [
    "trainer.save_model(\"./service_model/try_4/service_model4\")\n",
    "tokenizer.save_pretrained(\"./service_model/try_4/service_tokenizer4\")"
   ]
  },
  {
   "cell_type": "code",
   "execution_count": 3,
   "metadata": {},
   "outputs": [
    {
     "name": "stderr",
     "output_type": "stream",
     "text": [
      "Special tokens have been added in the vocabulary, make sure the associated word embeddings are fine-tuned or trained.\n"
     ]
    }
   ],
   "source": [
    "# 저장된 모델과 토크나이저를 불러오기\n",
    "\n",
    "model_path = \"./service_model/try_4/service_model4\"\n",
    "tokenizer_path = \"./service_model/try_4/service_tokenizer4\"\n",
    "\n",
    "model = ElectraForSequenceClassification.from_pretrained(model_path)\n",
    "tokenizer = ElectraTokenizer.from_pretrained(tokenizer_path)"
   ]
  },
  {
   "cell_type": "code",
   "execution_count": 4,
   "metadata": {},
   "outputs": [
    {
     "name": "stderr",
     "output_type": "stream",
     "text": [
      "  0%|          | 0/991 [00:00<?, ?it/s]"
     ]
    },
    {
     "name": "stderr",
     "output_type": "stream",
     "text": [
      "100%|██████████| 991/991 [00:11<00:00, 84.59it/s]\n"
     ]
    },
    {
     "data": {
      "text/html": [
       "<div>\n",
       "<style scoped>\n",
       "    .dataframe tbody tr th:only-of-type {\n",
       "        vertical-align: middle;\n",
       "    }\n",
       "\n",
       "    .dataframe tbody tr th {\n",
       "        vertical-align: top;\n",
       "    }\n",
       "\n",
       "    .dataframe thead th {\n",
       "        text-align: right;\n",
       "    }\n",
       "</style>\n",
       "<table border=\"1\" class=\"dataframe\">\n",
       "  <thead>\n",
       "    <tr style=\"text-align: right;\">\n",
       "      <th></th>\n",
       "      <th>content</th>\n",
       "      <th>service</th>\n",
       "      <th>pred</th>\n",
       "    </tr>\n",
       "  </thead>\n",
       "  <tbody>\n",
       "    <tr>\n",
       "      <th>0</th>\n",
       "      <td>쉽재테마 스토리 테마 진행 자체 구성 단순 좋다 연출 보다 재미 잘 끌어올리다</td>\n",
       "      <td>0</td>\n",
       "      <td>0</td>\n",
       "    </tr>\n",
       "    <tr>\n",
       "      <th>1</th>\n",
       "      <td>인 귀엽다 근데 방 탈출 아니다 무슨 체험 카페 오다 같다</td>\n",
       "      <td>0</td>\n",
       "      <td>0</td>\n",
       "    </tr>\n",
       "    <tr>\n",
       "      <th>2</th>\n",
       "      <td>인 생각 어렵다 문제 난이도 따지다 그 달동네 이미지 세탁소 비하다 맵다 맛 그렇지...</td>\n",
       "      <td>0</td>\n",
       "      <td>0</td>\n",
       "    </tr>\n",
       "    <tr>\n",
       "      <th>3</th>\n",
       "      <td>덜덜거리다 장치 잠깐잠깐 창공</td>\n",
       "      <td>0</td>\n",
       "      <td>0</td>\n",
       "    </tr>\n",
       "    <tr>\n",
       "      <th>4</th>\n",
       "      <td>쉽다 재밌다 스토리 취향 인 추천 드리다</td>\n",
       "      <td>0</td>\n",
       "      <td>0</td>\n",
       "    </tr>\n",
       "    <tr>\n",
       "      <th>...</th>\n",
       "      <td>...</td>\n",
       "      <td>...</td>\n",
       "      <td>...</td>\n",
       "    </tr>\n",
       "    <tr>\n",
       "      <th>986</th>\n",
       "      <td>서비스 엉망 이다 방 탈출 서비스 전반 엉망 이다</td>\n",
       "      <td>-1</td>\n",
       "      <td>-1</td>\n",
       "    </tr>\n",
       "    <tr>\n",
       "      <th>987</th>\n",
       "      <td>이런 서비스 어떻다 운영 되다 방 탈출 서비스 운영 대하다 의문 남기다</td>\n",
       "      <td>-1</td>\n",
       "      <td>-1</td>\n",
       "    </tr>\n",
       "    <tr>\n",
       "      <th>988</th>\n",
       "      <td>서비스 최악 이다 방 탈출 서비스 최악 이다</td>\n",
       "      <td>-1</td>\n",
       "      <td>-1</td>\n",
       "    </tr>\n",
       "    <tr>\n",
       "      <th>989</th>\n",
       "      <td>서비스 너무 별로 이다 실망 방 탈출 서비스 대하다 실망 크다</td>\n",
       "      <td>-1</td>\n",
       "      <td>-1</td>\n",
       "    </tr>\n",
       "    <tr>\n",
       "      <th>990</th>\n",
       "      <td>서비스 너무 나쁘다 방 탈출 서비스 품질 매우 낮다</td>\n",
       "      <td>-1</td>\n",
       "      <td>-1</td>\n",
       "    </tr>\n",
       "  </tbody>\n",
       "</table>\n",
       "<p>991 rows × 3 columns</p>\n",
       "</div>"
      ],
      "text/plain": [
       "                                               content  service  pred\n",
       "0          쉽재테마 스토리 테마 진행 자체 구성 단순 좋다 연출 보다 재미 잘 끌어올리다        0     0\n",
       "1                     인 귀엽다 근데 방 탈출 아니다 무슨 체험 카페 오다 같다        0     0\n",
       "2    인 생각 어렵다 문제 난이도 따지다 그 달동네 이미지 세탁소 비하다 맵다 맛 그렇지...        0     0\n",
       "3                                     덜덜거리다 장치 잠깐잠깐 창공        0     0\n",
       "4                               쉽다 재밌다 스토리 취향 인 추천 드리다        0     0\n",
       "..                                                 ...      ...   ...\n",
       "986                        서비스 엉망 이다 방 탈출 서비스 전반 엉망 이다       -1    -1\n",
       "987            이런 서비스 어떻다 운영 되다 방 탈출 서비스 운영 대하다 의문 남기다       -1    -1\n",
       "988                           서비스 최악 이다 방 탈출 서비스 최악 이다       -1    -1\n",
       "989                 서비스 너무 별로 이다 실망 방 탈출 서비스 대하다 실망 크다       -1    -1\n",
       "990                       서비스 너무 나쁘다 방 탈출 서비스 품질 매우 낮다       -1    -1\n",
       "\n",
       "[991 rows x 3 columns]"
      ]
     },
     "execution_count": 4,
     "metadata": {},
     "output_type": "execute_result"
    }
   ],
   "source": [
    "# 문장을 입력했을 때, 예측 값을 도출해주는 함수\n",
    "\n",
    "from torch.nn.functional import softmax\n",
    "\n",
    "# 함수 정의\n",
    "def classify_text(text):\n",
    "    # 문장을 토큰화하고 모델에 입력으로 전달\n",
    "    text = cleaned_content(text)\n",
    "    text = kiwi_clean(text)\n",
    "    inputs = tokenizer(text, return_tensors=\"pt\")\n",
    "    outputs = model(**inputs)\n",
    "\n",
    "    # 소프트맥스 함수를 사용하여 확률값 계산\n",
    "    probabilities = softmax(outputs.logits, dim=1)\n",
    "\n",
    "    # 가장 높은 확률값에 해당하는 클래스 선택\n",
    "    predicted_class = torch.argmax(probabilities).item()\n",
    "\n",
    "    return predicted_class, probabilities\n",
    "\n",
    "def change_num(num):\n",
    "    if num == 0:\n",
    "        return (-1)\n",
    "    elif num == 1:\n",
    "        return 0\n",
    "    elif num == 2:\n",
    "        return 1\n",
    "\n",
    "pred_list = []\n",
    "for sent in tqdm(test_data['content']):\n",
    "    pred, _ = classify_text(sent)\n",
    "    pred_list.append(pred)\n",
    "\n",
    "test_data['pred'] = pred_list\n",
    "test_data['pred'] = test_data['pred'].apply(change_num)\n",
    "test_data\n",
    "    "
   ]
  },
  {
   "cell_type": "code",
   "execution_count": 5,
   "metadata": {},
   "outputs": [
    {
     "name": "stdout",
     "output_type": "stream",
     "text": [
      "              precision    recall  f1-score   support\n",
      "\n",
      "          -1       1.00      1.00      1.00        49\n",
      "           0       1.00      1.00      1.00       901\n",
      "           1       0.98      0.98      0.98        41\n",
      "\n",
      "    accuracy                           1.00       991\n",
      "   macro avg       0.99      0.99      0.99       991\n",
      "weighted avg       1.00      1.00      1.00       991\n",
      "\n",
      "              precision    recall  f1-score   support\n",
      "\n",
      "          -1       1.00      1.00      1.00        49\n",
      "           0       0.00      0.00      0.00         0\n",
      "           1       1.00      0.98      0.99        41\n",
      "\n",
      "    accuracy                           0.99        90\n",
      "   macro avg       0.67      0.66      0.66        90\n",
      "weighted avg       1.00      0.99      0.99        90\n",
      "\n"
     ]
    },
    {
     "name": "stderr",
     "output_type": "stream",
     "text": [
      "/opt/homebrew/anaconda3/envs/bert_electra/lib/python3.9/site-packages/sklearn/metrics/_classification.py:1469: UndefinedMetricWarning: Recall and F-score are ill-defined and being set to 0.0 in labels with no true samples. Use `zero_division` parameter to control this behavior.\n",
      "  _warn_prf(average, modifier, msg_start, len(result))\n",
      "/opt/homebrew/anaconda3/envs/bert_electra/lib/python3.9/site-packages/sklearn/metrics/_classification.py:1469: UndefinedMetricWarning: Recall and F-score are ill-defined and being set to 0.0 in labels with no true samples. Use `zero_division` parameter to control this behavior.\n",
      "  _warn_prf(average, modifier, msg_start, len(result))\n",
      "/opt/homebrew/anaconda3/envs/bert_electra/lib/python3.9/site-packages/sklearn/metrics/_classification.py:1469: UndefinedMetricWarning: Recall and F-score are ill-defined and being set to 0.0 in labels with no true samples. Use `zero_division` parameter to control this behavior.\n",
      "  _warn_prf(average, modifier, msg_start, len(result))\n"
     ]
    }
   ],
   "source": [
    "print(classification_report(test_data['service'], test_data['pred']))\n",
    "test_data2 = test_data[test_data['service'] != 0]\n",
    "print(classification_report(test_data2['service'], test_data2['pred']))"
   ]
  },
  {
   "cell_type": "code",
   "execution_count": 6,
   "metadata": {},
   "outputs": [
    {
     "name": "stdout",
     "output_type": "stream",
     "text": [
      "문장: 서비스 대박, 평가: 2\n",
      "----------\n",
      "문장: 개친절함, 평가: 0\n",
      "----------\n",
      "문장: 서비스 개좋음, 평가: 2\n",
      "----------\n",
      "문장: 서비스 무슨 일, 평가: 2\n",
      "----------\n",
      "문장: 서비스 불친절하네, 평가: 0\n",
      "----------\n",
      "문장: 불친절함, 평가: 0\n",
      "----------\n",
      "문장: 스토리 쓰레기네, 평가: 1\n",
      "----------\n",
      "문장: 서비스는 좋은데 재미없었어요., 평가: 2\n",
      "----------\n"
     ]
    }
   ],
   "source": [
    "test = [\n",
    "    '서비스 대박',\n",
    "    '개친절함',\n",
    "    '서비스 개좋음',\n",
    "    '서비스 무슨 일',\n",
    "    '서비스 불친절하네',\n",
    "    '불친절함',\n",
    "    '스토리 쓰레기네',\n",
    "    '서비스는 좋은데 재미없었어요.',\n",
    "]\n",
    "\n",
    "for sent in test:\n",
    "    pred, _ = classify_text(sent)\n",
    "    print(f'문장: {sent}, 평가: {pred}')\n",
    "    print(\"-\"*10)"
   ]
  },
  {
   "cell_type": "code",
   "execution_count": null,
   "metadata": {},
   "outputs": [],
   "source": []
  }
 ],
 "metadata": {
  "kernelspec": {
   "display_name": "bert_electra",
   "language": "python",
   "name": "python3"
  },
  "language_info": {
   "codemirror_mode": {
    "name": "ipython",
    "version": 3
   },
   "file_extension": ".py",
   "mimetype": "text/x-python",
   "name": "python",
   "nbconvert_exporter": "python",
   "pygments_lexer": "ipython3",
   "version": "3.9.18"
  }
 },
 "nbformat": 4,
 "nbformat_minor": 2
}
